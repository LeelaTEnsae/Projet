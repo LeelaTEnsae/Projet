{
 "cells": [
  {
   "cell_type": "markdown",
   "metadata": {
    "id": "-el79C4gzuOL"
   },
   "source": [
    "**Clustering:**\n",
    "Dans cette partie, nous récupérons le dataset crée par \"prepare_data\" afin d'y appliquer deux méthodes de machine learning pour deux buts différents:\n",
    "\n",
    "**1- l'analyse de composantes principales (PCA):** Cette méthode est utilisée pour réduire la dimentionalité du dataset. D'une part, cela nous permet d'essayer de faire un clustering sur deux dimentions, d'autre part, elle nous permet d'identifier quelles variables séparent mieux le dataset.\n",
    "\n",
    "**2- le clustering par la méthode des kmeans:** C'est la méthode de clustering qu'on a choisi d'utiliser, pricipalement car on l'a vu en cours, elle est appliquée sur les données de dimention réduite (par la PCA)"
   ]
  },
  {
   "cell_type": "markdown",
   "metadata": {
    "id": "6omP88MK29Gk"
   },
   "source": [
    "Préparation de l'environnement: rien d'exceptionnel ici, on importe les bibliothèques dont on aura besoin"
   ]
  },
  {
   "cell_type": "code",
   "execution_count": 1,
   "metadata": {
    "colab": {
     "base_uri": "https://localhost:8080/"
    },
    "id": "vJH9Drvtu0XE",
    "outputId": "cf9df6c6-b4af-4f8d-8e92-85ff816ed774"
   },
   "outputs": [
    {
     "name": "stdout",
     "output_type": "stream",
     "text": [
      "Requirement already satisfied: geopandas in /opt/conda/lib/python3.9/site-packages (0.10.2)\n",
      "Requirement already satisfied: shapely>=1.6 in /opt/conda/lib/python3.9/site-packages (from geopandas) (1.8.0)\n",
      "Requirement already satisfied: pandas>=0.25.0 in /opt/conda/lib/python3.9/site-packages (from geopandas) (1.3.4)\n",
      "Requirement already satisfied: fiona>=1.8 in /opt/conda/lib/python3.9/site-packages (from geopandas) (1.8.20)\n",
      "Requirement already satisfied: pyproj>=2.2.0 in /opt/conda/lib/python3.9/site-packages (from geopandas) (3.3.0)\n",
      "Requirement already satisfied: click>=4.0 in /opt/conda/lib/python3.9/site-packages (from fiona>=1.8->geopandas) (8.0.3)\n",
      "Requirement already satisfied: munch in /opt/conda/lib/python3.9/site-packages (from fiona>=1.8->geopandas) (2.5.0)\n",
      "Requirement already satisfied: six>=1.7 in /opt/conda/lib/python3.9/site-packages (from fiona>=1.8->geopandas) (1.16.0)\n",
      "Requirement already satisfied: attrs>=17 in /opt/conda/lib/python3.9/site-packages (from fiona>=1.8->geopandas) (21.2.0)\n",
      "Requirement already satisfied: cligj>=0.5 in /opt/conda/lib/python3.9/site-packages (from fiona>=1.8->geopandas) (0.7.2)\n",
      "Requirement already satisfied: click-plugins>=1.0 in /opt/conda/lib/python3.9/site-packages (from fiona>=1.8->geopandas) (1.1.1)\n",
      "Requirement already satisfied: setuptools in /opt/conda/lib/python3.9/site-packages (from fiona>=1.8->geopandas) (58.2.0)\n",
      "Requirement already satisfied: certifi in /opt/conda/lib/python3.9/site-packages (from fiona>=1.8->geopandas) (2021.10.8)\n",
      "Requirement already satisfied: python-dateutil>=2.7.3 in /opt/conda/lib/python3.9/site-packages (from pandas>=0.25.0->geopandas) (2.8.2)\n",
      "Requirement already satisfied: pytz>=2017.3 in /opt/conda/lib/python3.9/site-packages (from pandas>=0.25.0->geopandas) (2021.3)\n",
      "Requirement already satisfied: numpy>=1.17.3 in /opt/conda/lib/python3.9/site-packages (from pandas>=0.25.0->geopandas) (1.20.3)\n"
     ]
    }
   ],
   "source": [
    "!pip install geopandas"
   ]
  },
  {
   "cell_type": "code",
   "execution_count": 2,
   "metadata": {
    "id": "VMvH5mOsuBqU"
   },
   "outputs": [],
   "source": [
    "import pandas as pd\n",
    "import numpy as np\n",
    "import matplotlib.pyplot as plt\n",
    "from sklearn.datasets import make_blobs\n",
    "from sklearn.cluster import KMeans\n",
    "from sklearn.metrics import silhouette_score\n",
    "from sklearn.preprocessing import StandardScaler\n",
    "import geopandas as gpd\n",
    "import seaborn as sns\n",
    "from scipy import stats"
   ]
  },
  {
   "cell_type": "markdown",
   "metadata": {
    "id": "SQylOt3v3JyD"
   },
   "source": [
    "Lecture du dataset:"
   ]
  },
  {
   "cell_type": "code",
   "execution_count": 3,
   "metadata": {
    "id": "U8Vtk02P1D_0"
   },
   "outputs": [],
   "source": [
    "camping=pd.read_csv(\"Datasets/camping.csv\")"
   ]
  },
  {
   "cell_type": "markdown",
   "metadata": {
    "id": "7ko8sGns3MI5"
   },
   "source": [
    "Vérification des colonnes (on a remarqué ici qu'une nouvelle colonne est ajoutée par le code précédent qui n'a aucune utilité appelée \"Unnamed: 0\", sans vouloir trop modifier le code précédent, on se contente de l'enlever)"
   ]
  },
  {
   "cell_type": "code",
   "execution_count": 4,
   "metadata": {
    "colab": {
     "base_uri": "https://localhost:8080/"
    },
    "id": "A1W_nrJJ1ZeE",
    "outputId": "ec7f466a-e644-4bb4-c925-07494d20f36b"
   },
   "outputs": [
    {
     "data": {
      "text/plain": [
       "Index(['Unnamed: 0', 'Adresse', 'dep', 'Emplacements', 'Nom', 'Classement',\n",
       "       'commune', 'code_postal', 'geometry', 'Surface', 'permanence_24h',\n",
       "       'langues_accueil', 'internet_partout', 'rapport_sans_mobile',\n",
       "       'distance_police', 'distance_hopitaux', 'defib_moins_2km'],\n",
       "      dtype='object')"
      ]
     },
     "execution_count": 4,
     "metadata": {},
     "output_type": "execute_result"
    }
   ],
   "source": [
    "camping.columns"
   ]
  },
  {
   "cell_type": "markdown",
   "metadata": {
    "id": "y-FlTMhl3d_c"
   },
   "source": [
    "La variable \"rapport_sans_mobile\" est obsolète car tous les sites de camping ont une couverture réseau totale, on l'enlève aussi"
   ]
  },
  {
   "cell_type": "code",
   "execution_count": 5,
   "metadata": {
    "colab": {
     "base_uri": "https://localhost:8080/",
     "height": 840
    },
    "id": "ezPIJwxT1bkD",
    "outputId": "1f262f80-7831-44e4-f6b0-53ce272e34d5"
   },
   "outputs": [
    {
     "data": {
      "text/html": [
       "<div>\n",
       "<style scoped>\n",
       "    .dataframe tbody tr th:only-of-type {\n",
       "        vertical-align: middle;\n",
       "    }\n",
       "\n",
       "    .dataframe tbody tr th {\n",
       "        vertical-align: top;\n",
       "    }\n",
       "\n",
       "    .dataframe thead th {\n",
       "        text-align: right;\n",
       "    }\n",
       "</style>\n",
       "<table border=\"1\" class=\"dataframe\">\n",
       "  <thead>\n",
       "    <tr style=\"text-align: right;\">\n",
       "      <th></th>\n",
       "      <th>Adresse</th>\n",
       "      <th>dep</th>\n",
       "      <th>Emplacements</th>\n",
       "      <th>Nom</th>\n",
       "      <th>Classement</th>\n",
       "      <th>commune</th>\n",
       "      <th>code_postal</th>\n",
       "      <th>geometry</th>\n",
       "      <th>Surface</th>\n",
       "      <th>permanence_24h</th>\n",
       "      <th>langues_accueil</th>\n",
       "      <th>internet_partout</th>\n",
       "      <th>distance_police</th>\n",
       "      <th>distance_hopitaux</th>\n",
       "      <th>defib_moins_2km</th>\n",
       "    </tr>\n",
       "  </thead>\n",
       "  <tbody>\n",
       "    <tr>\n",
       "      <th>0</th>\n",
       "      <td>Route du Château d'eau</td>\n",
       "      <td>78</td>\n",
       "      <td>180</td>\n",
       "      <td>CAMPING HUTTOPIA RAMBOUILLET</td>\n",
       "      <td>3</td>\n",
       "      <td>RAMBOUILLET</td>\n",
       "      <td>78120</td>\n",
       "      <td>POINT (1.835694 48.630059)</td>\n",
       "      <td>18000.0</td>\n",
       "      <td>1</td>\n",
       "      <td>3</td>\n",
       "      <td>0</td>\n",
       "      <td>2817</td>\n",
       "      <td>6807</td>\n",
       "      <td>0</td>\n",
       "    </tr>\n",
       "    <tr>\n",
       "      <th>1</th>\n",
       "      <td>11 CHEMIN DU CAMPING</td>\n",
       "      <td>77</td>\n",
       "      <td>440</td>\n",
       "      <td>CAMPING LES PRÉS DE LA FONTAINE</td>\n",
       "      <td>3</td>\n",
       "      <td>HERMÉ</td>\n",
       "      <td>77114</td>\n",
       "      <td>POINT (3.338549 48.472784)</td>\n",
       "      <td>44000.0</td>\n",
       "      <td>1</td>\n",
       "      <td>3</td>\n",
       "      <td>0</td>\n",
       "      <td>4953</td>\n",
       "      <td>10485</td>\n",
       "      <td>1</td>\n",
       "    </tr>\n",
       "    <tr>\n",
       "      <th>2</th>\n",
       "      <td>26 Route de Vauvert</td>\n",
       "      <td>91</td>\n",
       "      <td>230</td>\n",
       "      <td>CARAVANING LE VAUVERT</td>\n",
       "      <td>4</td>\n",
       "      <td>ORMOY-LA-RIVIÈRE</td>\n",
       "      <td>91150</td>\n",
       "      <td>POINT (2.143939 48.411278)</td>\n",
       "      <td>28750.0</td>\n",
       "      <td>1</td>\n",
       "      <td>3</td>\n",
       "      <td>1</td>\n",
       "      <td>5177</td>\n",
       "      <td>691</td>\n",
       "      <td>1</td>\n",
       "    </tr>\n",
       "    <tr>\n",
       "      <th>3</th>\n",
       "      <td>chemin des ponceaux</td>\n",
       "      <td>77</td>\n",
       "      <td>140</td>\n",
       "      <td>CAMPING LES ACACIAS</td>\n",
       "      <td>2</td>\n",
       "      <td>BETON-BAZOCHES</td>\n",
       "      <td>77320</td>\n",
       "      <td>POINT (3.239464 48.707003)</td>\n",
       "      <td>14000.0</td>\n",
       "      <td>0</td>\n",
       "      <td>1</td>\n",
       "      <td>0</td>\n",
       "      <td>16466</td>\n",
       "      <td>23260</td>\n",
       "      <td>0</td>\n",
       "    </tr>\n",
       "    <tr>\n",
       "      <th>4</th>\n",
       "      <td>24 Place de la gare de Faremoutiers</td>\n",
       "      <td>77</td>\n",
       "      <td>316</td>\n",
       "      <td>LE CHÊNE GRIS</td>\n",
       "      <td>4</td>\n",
       "      <td>POMMEUSE</td>\n",
       "      <td>77515</td>\n",
       "      <td>POINT (2.99998 48.800512)</td>\n",
       "      <td>39500.0</td>\n",
       "      <td>1</td>\n",
       "      <td>3</td>\n",
       "      <td>1</td>\n",
       "      <td>8711</td>\n",
       "      <td>12013</td>\n",
       "      <td>1</td>\n",
       "    </tr>\n",
       "    <tr>\n",
       "      <th>...</th>\n",
       "      <td>...</td>\n",
       "      <td>...</td>\n",
       "      <td>...</td>\n",
       "      <td>...</td>\n",
       "      <td>...</td>\n",
       "      <td>...</td>\n",
       "      <td>...</td>\n",
       "      <td>...</td>\n",
       "      <td>...</td>\n",
       "      <td>...</td>\n",
       "      <td>...</td>\n",
       "      <td>...</td>\n",
       "      <td>...</td>\n",
       "      <td>...</td>\n",
       "      <td>...</td>\n",
       "    </tr>\n",
       "    <tr>\n",
       "      <th>60</th>\n",
       "      <td>Les étangs des Carreaux</td>\n",
       "      <td>77</td>\n",
       "      <td>76</td>\n",
       "      <td>CARAVANING LES ÉTANGS DES CARREAUX</td>\n",
       "      <td>1</td>\n",
       "      <td>ROZAY-EN-BRIE</td>\n",
       "      <td>77540</td>\n",
       "      <td>POINT (2.955666 48.689498)</td>\n",
       "      <td>7600.0</td>\n",
       "      <td>0</td>\n",
       "      <td>1</td>\n",
       "      <td>0</td>\n",
       "      <td>214</td>\n",
       "      <td>31565</td>\n",
       "      <td>1</td>\n",
       "    </tr>\n",
       "    <tr>\n",
       "      <th>61</th>\n",
       "      <td>Chemin des Processions</td>\n",
       "      <td>77</td>\n",
       "      <td>100</td>\n",
       "      <td>LE MARCASSIN</td>\n",
       "      <td>1</td>\n",
       "      <td>MONTEREAU-FAULT-YONNE</td>\n",
       "      <td>77130</td>\n",
       "      <td>POINT (2.96358 48.382568)</td>\n",
       "      <td>10000.0</td>\n",
       "      <td>0</td>\n",
       "      <td>1</td>\n",
       "      <td>0</td>\n",
       "      <td>1451</td>\n",
       "      <td>2493</td>\n",
       "      <td>0</td>\n",
       "    </tr>\n",
       "    <tr>\n",
       "      <th>62</th>\n",
       "      <td>1 VOIE DES PRES</td>\n",
       "      <td>91</td>\n",
       "      <td>124</td>\n",
       "      <td>CAMPING LE BEAU VILLAGE DE PARIS</td>\n",
       "      <td>3</td>\n",
       "      <td>VILLIERS-SUR-ORGE</td>\n",
       "      <td>91700</td>\n",
       "      <td>POINT (2.303507 48.655043)</td>\n",
       "      <td>12400.0</td>\n",
       "      <td>1</td>\n",
       "      <td>3</td>\n",
       "      <td>0</td>\n",
       "      <td>3765</td>\n",
       "      <td>6619</td>\n",
       "      <td>0</td>\n",
       "    </tr>\n",
       "    <tr>\n",
       "      <th>63</th>\n",
       "      <td>Rue des mariniers</td>\n",
       "      <td>77</td>\n",
       "      <td>175</td>\n",
       "      <td>CAMPING MUNICIPAL LES BORDS DU LOING</td>\n",
       "      <td>1</td>\n",
       "      <td>SOUPPES-SUR-LOING</td>\n",
       "      <td>77460</td>\n",
       "      <td>POINT (2.730621 48.180505)</td>\n",
       "      <td>17500.0</td>\n",
       "      <td>0</td>\n",
       "      <td>1</td>\n",
       "      <td>0</td>\n",
       "      <td>3500</td>\n",
       "      <td>10325</td>\n",
       "      <td>0</td>\n",
       "    </tr>\n",
       "    <tr>\n",
       "      <th>64</th>\n",
       "      <td>22 rue de beauregard</td>\n",
       "      <td>77</td>\n",
       "      <td>199</td>\n",
       "      <td>CAMPING CARAVANING DES 4 VENTS</td>\n",
       "      <td>3</td>\n",
       "      <td>CRÈVECOEUR-EN-BRIE</td>\n",
       "      <td>77610</td>\n",
       "      <td>POINT (2.895865 48.751508)</td>\n",
       "      <td>19900.0</td>\n",
       "      <td>1</td>\n",
       "      <td>3</td>\n",
       "      <td>0</td>\n",
       "      <td>5290</td>\n",
       "      <td>14024</td>\n",
       "      <td>1</td>\n",
       "    </tr>\n",
       "  </tbody>\n",
       "</table>\n",
       "<p>65 rows × 15 columns</p>\n",
       "</div>"
      ],
      "text/plain": [
       "                                Adresse  dep  Emplacements  \\\n",
       "0                Route du Château d'eau   78           180   \n",
       "1                  11 CHEMIN DU CAMPING   77           440   \n",
       "2                   26 Route de Vauvert   91           230   \n",
       "3                   chemin des ponceaux   77           140   \n",
       "4   24 Place de la gare de Faremoutiers   77           316   \n",
       "..                                  ...  ...           ...   \n",
       "60              Les étangs des Carreaux   77            76   \n",
       "61               Chemin des Processions   77           100   \n",
       "62                      1 VOIE DES PRES   91           124   \n",
       "63                    Rue des mariniers   77           175   \n",
       "64                 22 rue de beauregard   77           199   \n",
       "\n",
       "                                     Nom  Classement                commune  \\\n",
       "0           CAMPING HUTTOPIA RAMBOUILLET           3            RAMBOUILLET   \n",
       "1        CAMPING LES PRÉS DE LA FONTAINE           3                  HERMÉ   \n",
       "2                  CARAVANING LE VAUVERT           4       ORMOY-LA-RIVIÈRE   \n",
       "3                    CAMPING LES ACACIAS           2         BETON-BAZOCHES   \n",
       "4                          LE CHÊNE GRIS           4               POMMEUSE   \n",
       "..                                   ...         ...                    ...   \n",
       "60    CARAVANING LES ÉTANGS DES CARREAUX           1          ROZAY-EN-BRIE   \n",
       "61                          LE MARCASSIN           1  MONTEREAU-FAULT-YONNE   \n",
       "62      CAMPING LE BEAU VILLAGE DE PARIS           3      VILLIERS-SUR-ORGE   \n",
       "63  CAMPING MUNICIPAL LES BORDS DU LOING           1      SOUPPES-SUR-LOING   \n",
       "64        CAMPING CARAVANING DES 4 VENTS           3     CRÈVECOEUR-EN-BRIE   \n",
       "\n",
       "    code_postal                    geometry  Surface  permanence_24h  \\\n",
       "0         78120  POINT (1.835694 48.630059)  18000.0               1   \n",
       "1         77114  POINT (3.338549 48.472784)  44000.0               1   \n",
       "2         91150  POINT (2.143939 48.411278)  28750.0               1   \n",
       "3         77320  POINT (3.239464 48.707003)  14000.0               0   \n",
       "4         77515   POINT (2.99998 48.800512)  39500.0               1   \n",
       "..          ...                         ...      ...             ...   \n",
       "60        77540  POINT (2.955666 48.689498)   7600.0               0   \n",
       "61        77130   POINT (2.96358 48.382568)  10000.0               0   \n",
       "62        91700  POINT (2.303507 48.655043)  12400.0               1   \n",
       "63        77460  POINT (2.730621 48.180505)  17500.0               0   \n",
       "64        77610  POINT (2.895865 48.751508)  19900.0               1   \n",
       "\n",
       "    langues_accueil  internet_partout  distance_police  distance_hopitaux  \\\n",
       "0                 3                 0             2817               6807   \n",
       "1                 3                 0             4953              10485   \n",
       "2                 3                 1             5177                691   \n",
       "3                 1                 0            16466              23260   \n",
       "4                 3                 1             8711              12013   \n",
       "..              ...               ...              ...                ...   \n",
       "60                1                 0              214              31565   \n",
       "61                1                 0             1451               2493   \n",
       "62                3                 0             3765               6619   \n",
       "63                1                 0             3500              10325   \n",
       "64                3                 0             5290              14024   \n",
       "\n",
       "    defib_moins_2km  \n",
       "0                 0  \n",
       "1                 1  \n",
       "2                 1  \n",
       "3                 0  \n",
       "4                 1  \n",
       "..              ...  \n",
       "60                1  \n",
       "61                0  \n",
       "62                0  \n",
       "63                0  \n",
       "64                1  \n",
       "\n",
       "[65 rows x 15 columns]"
      ]
     },
     "execution_count": 5,
     "metadata": {},
     "output_type": "execute_result"
    }
   ],
   "source": [
    "camping_copy=camping.drop(columns=[\"Unnamed: 0\",\"rapport_sans_mobile\"])\n",
    "camping_copy"
   ]
  },
  {
   "cell_type": "markdown",
   "metadata": {
    "id": "ZXpuzuWq3pED"
   },
   "source": [
    "On réorganise les colonnes du dataset afin de faciliter les manipulations qui vont suivre"
   ]
  },
  {
   "cell_type": "code",
   "execution_count": 6,
   "metadata": {
    "colab": {
     "base_uri": "https://localhost:8080/"
    },
    "id": "z6rgMfd910rS",
    "outputId": "0e796fc5-04ea-41dc-e888-3f6d6d5d46fa"
   },
   "outputs": [
    {
     "data": {
      "text/plain": [
       "Index(['Adresse', 'dep', 'Emplacements', 'Nom', 'Classement', 'commune',\n",
       "       'code_postal', 'geometry', 'Surface', 'permanence_24h',\n",
       "       'langues_accueil', 'internet_partout', 'distance_police',\n",
       "       'distance_hopitaux', 'defib_moins_2km'],\n",
       "      dtype='object')"
      ]
     },
     "execution_count": 6,
     "metadata": {},
     "output_type": "execute_result"
    }
   ],
   "source": [
    "camping_copy.columns"
   ]
  },
  {
   "cell_type": "code",
   "execution_count": 7,
   "metadata": {
    "id": "NOfRKow_3__G"
   },
   "outputs": [],
   "source": [
    "camping_copy=camping_copy[['Adresse', 'dep', 'Nom', 'commune',\n",
    "       'code_postal', 'geometry','Emplacements', 'Surface', 'permanence_24h',\n",
    "       'distance_police','distance_hopitaux','defib_moins_2km','langues_accueil','internet_partout', 'Classement']]"
   ]
  },
  {
   "cell_type": "code",
   "execution_count": 8,
   "metadata": {
    "id": "1dZyi4J4I8CW"
   },
   "outputs": [],
   "source": [
    "#camping_copy=camping_copy.drop(columns=[\"label\"],axis=1)"
   ]
  },
  {
   "cell_type": "markdown",
   "metadata": {
    "id": "0ZCw5MPo30d3"
   },
   "source": [
    "On enlève les données abérrantes, ils influent négativement sur le résultat du clustening car la méthode des knn est sensible à ce type de données\n",
    "\n",
    "On a choisit d'utiliser le \"zscore\" pour les identifier car c'est la métrique qui nous semble la plus intuitive: on enlève les lignes dont les valeurs dépassent la moyenne par 3 écart-types"
   ]
  },
  {
   "cell_type": "code",
   "execution_count": 9,
   "metadata": {
    "id": "11LJhRJSrJMG"
   },
   "outputs": [],
   "source": [
    "camping_copy_clean=camping_copy[(np.abs(stats.zscore(camping_copy.iloc[:,6:14].values)) < 3).all(axis=1)]"
   ]
  },
  {
   "cell_type": "code",
   "execution_count": 10,
   "metadata": {
    "colab": {
     "base_uri": "https://localhost:8080/",
     "height": 840
    },
    "id": "IpD_nhQ8rJKQ",
    "outputId": "37fff452-1082-4e2f-ebeb-6ebf16a4dae9"
   },
   "outputs": [
    {
     "data": {
      "text/html": [
       "<div>\n",
       "<style scoped>\n",
       "    .dataframe tbody tr th:only-of-type {\n",
       "        vertical-align: middle;\n",
       "    }\n",
       "\n",
       "    .dataframe tbody tr th {\n",
       "        vertical-align: top;\n",
       "    }\n",
       "\n",
       "    .dataframe thead th {\n",
       "        text-align: right;\n",
       "    }\n",
       "</style>\n",
       "<table border=\"1\" class=\"dataframe\">\n",
       "  <thead>\n",
       "    <tr style=\"text-align: right;\">\n",
       "      <th></th>\n",
       "      <th>Adresse</th>\n",
       "      <th>dep</th>\n",
       "      <th>Nom</th>\n",
       "      <th>commune</th>\n",
       "      <th>code_postal</th>\n",
       "      <th>geometry</th>\n",
       "      <th>Emplacements</th>\n",
       "      <th>Surface</th>\n",
       "      <th>permanence_24h</th>\n",
       "      <th>distance_police</th>\n",
       "      <th>distance_hopitaux</th>\n",
       "      <th>defib_moins_2km</th>\n",
       "      <th>langues_accueil</th>\n",
       "      <th>internet_partout</th>\n",
       "      <th>Classement</th>\n",
       "    </tr>\n",
       "  </thead>\n",
       "  <tbody>\n",
       "    <tr>\n",
       "      <th>0</th>\n",
       "      <td>Route du Château d'eau</td>\n",
       "      <td>78</td>\n",
       "      <td>CAMPING HUTTOPIA RAMBOUILLET</td>\n",
       "      <td>RAMBOUILLET</td>\n",
       "      <td>78120</td>\n",
       "      <td>POINT (1.835694 48.630059)</td>\n",
       "      <td>180</td>\n",
       "      <td>18000.0</td>\n",
       "      <td>1</td>\n",
       "      <td>2817</td>\n",
       "      <td>6807</td>\n",
       "      <td>0</td>\n",
       "      <td>3</td>\n",
       "      <td>0</td>\n",
       "      <td>3</td>\n",
       "    </tr>\n",
       "    <tr>\n",
       "      <th>1</th>\n",
       "      <td>11 CHEMIN DU CAMPING</td>\n",
       "      <td>77</td>\n",
       "      <td>CAMPING LES PRÉS DE LA FONTAINE</td>\n",
       "      <td>HERMÉ</td>\n",
       "      <td>77114</td>\n",
       "      <td>POINT (3.338549 48.472784)</td>\n",
       "      <td>440</td>\n",
       "      <td>44000.0</td>\n",
       "      <td>1</td>\n",
       "      <td>4953</td>\n",
       "      <td>10485</td>\n",
       "      <td>1</td>\n",
       "      <td>3</td>\n",
       "      <td>0</td>\n",
       "      <td>3</td>\n",
       "    </tr>\n",
       "    <tr>\n",
       "      <th>2</th>\n",
       "      <td>26 Route de Vauvert</td>\n",
       "      <td>91</td>\n",
       "      <td>CARAVANING LE VAUVERT</td>\n",
       "      <td>ORMOY-LA-RIVIÈRE</td>\n",
       "      <td>91150</td>\n",
       "      <td>POINT (2.143939 48.411278)</td>\n",
       "      <td>230</td>\n",
       "      <td>28750.0</td>\n",
       "      <td>1</td>\n",
       "      <td>5177</td>\n",
       "      <td>691</td>\n",
       "      <td>1</td>\n",
       "      <td>3</td>\n",
       "      <td>1</td>\n",
       "      <td>4</td>\n",
       "    </tr>\n",
       "    <tr>\n",
       "      <th>3</th>\n",
       "      <td>chemin des ponceaux</td>\n",
       "      <td>77</td>\n",
       "      <td>CAMPING LES ACACIAS</td>\n",
       "      <td>BETON-BAZOCHES</td>\n",
       "      <td>77320</td>\n",
       "      <td>POINT (3.239464 48.707003)</td>\n",
       "      <td>140</td>\n",
       "      <td>14000.0</td>\n",
       "      <td>0</td>\n",
       "      <td>16466</td>\n",
       "      <td>23260</td>\n",
       "      <td>0</td>\n",
       "      <td>1</td>\n",
       "      <td>0</td>\n",
       "      <td>2</td>\n",
       "    </tr>\n",
       "    <tr>\n",
       "      <th>4</th>\n",
       "      <td>24 Place de la gare de Faremoutiers</td>\n",
       "      <td>77</td>\n",
       "      <td>LE CHÊNE GRIS</td>\n",
       "      <td>POMMEUSE</td>\n",
       "      <td>77515</td>\n",
       "      <td>POINT (2.99998 48.800512)</td>\n",
       "      <td>316</td>\n",
       "      <td>39500.0</td>\n",
       "      <td>1</td>\n",
       "      <td>8711</td>\n",
       "      <td>12013</td>\n",
       "      <td>1</td>\n",
       "      <td>3</td>\n",
       "      <td>1</td>\n",
       "      <td>4</td>\n",
       "    </tr>\n",
       "    <tr>\n",
       "      <th>...</th>\n",
       "      <td>...</td>\n",
       "      <td>...</td>\n",
       "      <td>...</td>\n",
       "      <td>...</td>\n",
       "      <td>...</td>\n",
       "      <td>...</td>\n",
       "      <td>...</td>\n",
       "      <td>...</td>\n",
       "      <td>...</td>\n",
       "      <td>...</td>\n",
       "      <td>...</td>\n",
       "      <td>...</td>\n",
       "      <td>...</td>\n",
       "      <td>...</td>\n",
       "      <td>...</td>\n",
       "    </tr>\n",
       "    <tr>\n",
       "      <th>60</th>\n",
       "      <td>Les étangs des Carreaux</td>\n",
       "      <td>77</td>\n",
       "      <td>CARAVANING LES ÉTANGS DES CARREAUX</td>\n",
       "      <td>ROZAY-EN-BRIE</td>\n",
       "      <td>77540</td>\n",
       "      <td>POINT (2.955666 48.689498)</td>\n",
       "      <td>76</td>\n",
       "      <td>7600.0</td>\n",
       "      <td>0</td>\n",
       "      <td>214</td>\n",
       "      <td>31565</td>\n",
       "      <td>1</td>\n",
       "      <td>1</td>\n",
       "      <td>0</td>\n",
       "      <td>1</td>\n",
       "    </tr>\n",
       "    <tr>\n",
       "      <th>61</th>\n",
       "      <td>Chemin des Processions</td>\n",
       "      <td>77</td>\n",
       "      <td>LE MARCASSIN</td>\n",
       "      <td>MONTEREAU-FAULT-YONNE</td>\n",
       "      <td>77130</td>\n",
       "      <td>POINT (2.96358 48.382568)</td>\n",
       "      <td>100</td>\n",
       "      <td>10000.0</td>\n",
       "      <td>0</td>\n",
       "      <td>1451</td>\n",
       "      <td>2493</td>\n",
       "      <td>0</td>\n",
       "      <td>1</td>\n",
       "      <td>0</td>\n",
       "      <td>1</td>\n",
       "    </tr>\n",
       "    <tr>\n",
       "      <th>62</th>\n",
       "      <td>1 VOIE DES PRES</td>\n",
       "      <td>91</td>\n",
       "      <td>CAMPING LE BEAU VILLAGE DE PARIS</td>\n",
       "      <td>VILLIERS-SUR-ORGE</td>\n",
       "      <td>91700</td>\n",
       "      <td>POINT (2.303507 48.655043)</td>\n",
       "      <td>124</td>\n",
       "      <td>12400.0</td>\n",
       "      <td>1</td>\n",
       "      <td>3765</td>\n",
       "      <td>6619</td>\n",
       "      <td>0</td>\n",
       "      <td>3</td>\n",
       "      <td>0</td>\n",
       "      <td>3</td>\n",
       "    </tr>\n",
       "    <tr>\n",
       "      <th>63</th>\n",
       "      <td>Rue des mariniers</td>\n",
       "      <td>77</td>\n",
       "      <td>CAMPING MUNICIPAL LES BORDS DU LOING</td>\n",
       "      <td>SOUPPES-SUR-LOING</td>\n",
       "      <td>77460</td>\n",
       "      <td>POINT (2.730621 48.180505)</td>\n",
       "      <td>175</td>\n",
       "      <td>17500.0</td>\n",
       "      <td>0</td>\n",
       "      <td>3500</td>\n",
       "      <td>10325</td>\n",
       "      <td>0</td>\n",
       "      <td>1</td>\n",
       "      <td>0</td>\n",
       "      <td>1</td>\n",
       "    </tr>\n",
       "    <tr>\n",
       "      <th>64</th>\n",
       "      <td>22 rue de beauregard</td>\n",
       "      <td>77</td>\n",
       "      <td>CAMPING CARAVANING DES 4 VENTS</td>\n",
       "      <td>CRÈVECOEUR-EN-BRIE</td>\n",
       "      <td>77610</td>\n",
       "      <td>POINT (2.895865 48.751508)</td>\n",
       "      <td>199</td>\n",
       "      <td>19900.0</td>\n",
       "      <td>1</td>\n",
       "      <td>5290</td>\n",
       "      <td>14024</td>\n",
       "      <td>1</td>\n",
       "      <td>3</td>\n",
       "      <td>0</td>\n",
       "      <td>3</td>\n",
       "    </tr>\n",
       "  </tbody>\n",
       "</table>\n",
       "<p>63 rows × 15 columns</p>\n",
       "</div>"
      ],
      "text/plain": [
       "                                Adresse  dep  \\\n",
       "0                Route du Château d'eau   78   \n",
       "1                  11 CHEMIN DU CAMPING   77   \n",
       "2                   26 Route de Vauvert   91   \n",
       "3                   chemin des ponceaux   77   \n",
       "4   24 Place de la gare de Faremoutiers   77   \n",
       "..                                  ...  ...   \n",
       "60              Les étangs des Carreaux   77   \n",
       "61               Chemin des Processions   77   \n",
       "62                      1 VOIE DES PRES   91   \n",
       "63                    Rue des mariniers   77   \n",
       "64                 22 rue de beauregard   77   \n",
       "\n",
       "                                     Nom                commune  code_postal  \\\n",
       "0           CAMPING HUTTOPIA RAMBOUILLET            RAMBOUILLET        78120   \n",
       "1        CAMPING LES PRÉS DE LA FONTAINE                  HERMÉ        77114   \n",
       "2                  CARAVANING LE VAUVERT       ORMOY-LA-RIVIÈRE        91150   \n",
       "3                    CAMPING LES ACACIAS         BETON-BAZOCHES        77320   \n",
       "4                          LE CHÊNE GRIS               POMMEUSE        77515   \n",
       "..                                   ...                    ...          ...   \n",
       "60    CARAVANING LES ÉTANGS DES CARREAUX          ROZAY-EN-BRIE        77540   \n",
       "61                          LE MARCASSIN  MONTEREAU-FAULT-YONNE        77130   \n",
       "62      CAMPING LE BEAU VILLAGE DE PARIS      VILLIERS-SUR-ORGE        91700   \n",
       "63  CAMPING MUNICIPAL LES BORDS DU LOING      SOUPPES-SUR-LOING        77460   \n",
       "64        CAMPING CARAVANING DES 4 VENTS     CRÈVECOEUR-EN-BRIE        77610   \n",
       "\n",
       "                      geometry  Emplacements  Surface  permanence_24h  \\\n",
       "0   POINT (1.835694 48.630059)           180  18000.0               1   \n",
       "1   POINT (3.338549 48.472784)           440  44000.0               1   \n",
       "2   POINT (2.143939 48.411278)           230  28750.0               1   \n",
       "3   POINT (3.239464 48.707003)           140  14000.0               0   \n",
       "4    POINT (2.99998 48.800512)           316  39500.0               1   \n",
       "..                         ...           ...      ...             ...   \n",
       "60  POINT (2.955666 48.689498)            76   7600.0               0   \n",
       "61   POINT (2.96358 48.382568)           100  10000.0               0   \n",
       "62  POINT (2.303507 48.655043)           124  12400.0               1   \n",
       "63  POINT (2.730621 48.180505)           175  17500.0               0   \n",
       "64  POINT (2.895865 48.751508)           199  19900.0               1   \n",
       "\n",
       "    distance_police  distance_hopitaux  defib_moins_2km  langues_accueil  \\\n",
       "0              2817               6807                0                3   \n",
       "1              4953              10485                1                3   \n",
       "2              5177                691                1                3   \n",
       "3             16466              23260                0                1   \n",
       "4              8711              12013                1                3   \n",
       "..              ...                ...              ...              ...   \n",
       "60              214              31565                1                1   \n",
       "61             1451               2493                0                1   \n",
       "62             3765               6619                0                3   \n",
       "63             3500              10325                0                1   \n",
       "64             5290              14024                1                3   \n",
       "\n",
       "    internet_partout  Classement  \n",
       "0                  0           3  \n",
       "1                  0           3  \n",
       "2                  1           4  \n",
       "3                  0           2  \n",
       "4                  1           4  \n",
       "..               ...         ...  \n",
       "60                 0           1  \n",
       "61                 0           1  \n",
       "62                 0           3  \n",
       "63                 0           1  \n",
       "64                 0           3  \n",
       "\n",
       "[63 rows x 15 columns]"
      ]
     },
     "execution_count": 10,
     "metadata": {},
     "output_type": "execute_result"
    }
   ],
   "source": [
    "camping_copy_clean"
   ]
  },
  {
   "cell_type": "markdown",
   "metadata": {
    "id": "9GN7EiAo4jZm"
   },
   "source": [
    "Ici la partie ACP, le code a été repris d'internet et il est assez décortiqué"
   ]
  },
  {
   "cell_type": "code",
   "execution_count": 11,
   "metadata": {
    "colab": {
     "base_uri": "https://localhost:8080/"
    },
    "id": "dCj1N6Mx4THh",
    "outputId": "b6ff0eb7-5e90-481e-ddba-f63633bfe23b"
   },
   "outputs": [
    {
     "name": "stdout",
     "output_type": "stream",
     "text": [
      "Vecteurs Propres \n",
      "[[ 2.97621143e-01  1.29715397e-01 -3.70898638e-01 -4.29862909e-02\n",
      "   5.26759880e-01  1.25457545e-02 -6.90026965e-01 -3.75681996e-02]\n",
      " [ 3.09719971e-01  1.25974828e-01 -3.73127519e-01 -8.26715222e-02\n",
      "   4.70810831e-01  3.00936266e-03  7.19810482e-01  4.84368893e-02]\n",
      " [ 6.80787971e-01 -9.19250676e-02  3.17147373e-01  2.26480215e-01\n",
      "  -1.31387510e-01  1.58833888e-02 -4.07669000e-02  5.97515587e-01]\n",
      " [ 2.96639277e-03 -2.78265753e-01  2.80797711e-01 -4.50622361e-01\n",
      "   2.10113327e-01  7.72335443e-01  4.80386487e-04  1.27571001e-03]\n",
      " [-1.62592566e-02 -1.06379753e-01  5.04441802e-01 -4.87599344e-01\n",
      "   3.61355742e-01 -6.04485096e-01 -3.70397108e-03  1.45054892e-02]\n",
      " [ 2.97563660e-02  9.29542445e-01  2.88968583e-01 -1.48910981e-01\n",
      "  -6.19540961e-02  1.59714699e-01 -2.54383943e-03 -5.87477440e-03]\n",
      " [ 5.19668783e-01 -7.66978781e-02  2.30655357e-01  1.42697537e-01\n",
      "  -9.93120679e-02 -1.92123142e-03  4.45154101e-02 -7.99155249e-01]\n",
      " [ 2.84268685e-01 -1.31847347e-02 -3.90658389e-01 -6.75776302e-01\n",
      "  -5.43297095e-01 -1.10292891e-01 -4.55156515e-02  1.79432556e-02]]\n",
      "\n",
      ". Percentage de l'information expliquée par les deux premières composantes\n",
      " 69.01246731656963\n"
     ]
    },
    {
     "name": "stderr",
     "output_type": "stream",
     "text": [
      "/opt/conda/lib/python3.9/site-packages/sklearn/preprocessing/_data.py:2590: UserWarning: n_quantiles (1000) is greater than the total number of samples (63). n_quantiles is set to n_samples.\n",
      "  warnings.warn(\n"
     ]
    }
   ],
   "source": [
    "X=camping_copy.iloc[:,6:14].values  #récupération des données numériques du dataset\n",
    "X=X[(np.abs(stats.zscore(X)) < 3).all(axis=1)] #puisque on travaille sur le dataset contenant les données abérrantes, on les enlève aussi de la même manière\n",
    "y=camping_copy.iloc[:,-1].values #on récupère la colonne du \"classement\" des sites de camping, afin de l'utiliser comme variable illustrative\n",
    "from sklearn.preprocessing import StandardScaler, QuantileTransformer,MaxAbsScaler #on a essayé plusieurs preprocess pour les données, le QantileTransformer nous semble le plus adéquat\n",
    "X_std = QuantileTransformer().fit_transform(X) #normalisation des données\n",
    "#calculs d'algèbre linéaire: matrice de covariance puis ses valeurs propres et vecteurs propres afin d'avoir la base orthogonale de l'analyse en composantes principales\n",
    "cov_mat= np.cov(X_std, rowvar=False)\n",
    "cov_mat = np.cov(X_std.T) \n",
    "eig_vals, eig_vecs = np.linalg.eig(cov_mat) \n",
    "print('Vecteurs Propres \\n%s' %eig_vecs) \n",
    "eig_pairs = [(np.abs(eig_vals[i]), eig_vecs[:,i]) for i in range(len(eig_vals))]\n",
    "tot = sum(eig_vals)\n",
    "var_exp = [(i / tot)*100 for i in sorted(eig_vals, reverse=True)]\n",
    "cum_var_exp = np.cumsum(var_exp) \n",
    "print(\"\\n. Percentage de l'information expliquée par les deux premières composantes\\n\",sum(var_exp[0:2]))\n",
    "matrix_w = np.hstack((eig_pairs[0][1].reshape(8,1), eig_pairs[1][1].reshape(8,1))) \n",
    "Y = X_std.dot(matrix_w) \n",
    "principalDf = pd.DataFrame(data = Y , columns = ['principal component 1', 'principal component 2']) #On récupère les deux premières composantes le l'analyse\n",
    "finalDf = pd.concat([principalDf,pd.DataFrame(y,columns = ['Classement'])], axis = 1) #on ajoute la variable illustrative"
   ]
  },
  {
   "cell_type": "code",
   "execution_count": 12,
   "metadata": {
    "id": "xNeVQxIPHF6D"
   },
   "outputs": [],
   "source": [
    "d = {'Emplacements': [2.97580833e-01, 3.09418921e-01], 'Surface': [1.29740201e-01, 1.25379445e-01],'permanence_24h': [-3.70869624e-01, -3.73244985e-01], 'distance_police': [-4.24798132e-02, -8.15507286e-02],'distance_hopitaux': [5.27147381e-01, 4.70898862e-01], 'defib_moins_2km': [1.26041619e-02, 3.02460852e-03], 'langues_accueil':[-6.89801476e-01,7.20066320e-01], 'internet_partout':[-3.73498852e-02,4.82410046e-02]}\n",
    "explained_variables = pd.DataFrame(data=d)"
   ]
  },
  {
   "cell_type": "code",
   "execution_count": 13,
   "metadata": {
    "colab": {
     "base_uri": "https://localhost:8080/",
     "height": 111
    },
    "id": "BaKQjGPBIxb2",
    "outputId": "c76118e0-fac7-48b0-d837-e55789084727"
   },
   "outputs": [
    {
     "data": {
      "text/html": [
       "<div>\n",
       "<style scoped>\n",
       "    .dataframe tbody tr th:only-of-type {\n",
       "        vertical-align: middle;\n",
       "    }\n",
       "\n",
       "    .dataframe tbody tr th {\n",
       "        vertical-align: top;\n",
       "    }\n",
       "\n",
       "    .dataframe thead th {\n",
       "        text-align: right;\n",
       "    }\n",
       "</style>\n",
       "<table border=\"1\" class=\"dataframe\">\n",
       "  <thead>\n",
       "    <tr style=\"text-align: right;\">\n",
       "      <th></th>\n",
       "      <th>Emplacements</th>\n",
       "      <th>Surface</th>\n",
       "      <th>permanence_24h</th>\n",
       "      <th>distance_police</th>\n",
       "      <th>distance_hopitaux</th>\n",
       "      <th>defib_moins_2km</th>\n",
       "      <th>langues_accueil</th>\n",
       "      <th>internet_partout</th>\n",
       "    </tr>\n",
       "  </thead>\n",
       "  <tbody>\n",
       "    <tr>\n",
       "      <th>0</th>\n",
       "      <td>0.297581</td>\n",
       "      <td>0.129740</td>\n",
       "      <td>-0.370870</td>\n",
       "      <td>-0.042480</td>\n",
       "      <td>0.527147</td>\n",
       "      <td>0.012604</td>\n",
       "      <td>-0.689801</td>\n",
       "      <td>-0.037350</td>\n",
       "    </tr>\n",
       "    <tr>\n",
       "      <th>1</th>\n",
       "      <td>0.309419</td>\n",
       "      <td>0.125379</td>\n",
       "      <td>-0.373245</td>\n",
       "      <td>-0.081551</td>\n",
       "      <td>0.470899</td>\n",
       "      <td>0.003025</td>\n",
       "      <td>0.720066</td>\n",
       "      <td>0.048241</td>\n",
       "    </tr>\n",
       "  </tbody>\n",
       "</table>\n",
       "</div>"
      ],
      "text/plain": [
       "   Emplacements   Surface  permanence_24h  distance_police  distance_hopitaux  \\\n",
       "0      0.297581  0.129740       -0.370870        -0.042480           0.527147   \n",
       "1      0.309419  0.125379       -0.373245        -0.081551           0.470899   \n",
       "\n",
       "   defib_moins_2km  langues_accueil  internet_partout  \n",
       "0         0.012604        -0.689801         -0.037350  \n",
       "1         0.003025         0.720066          0.048241  "
      ]
     },
     "execution_count": 13,
     "metadata": {},
     "output_type": "execute_result"
    }
   ],
   "source": [
    "explained_variables"
   ]
  },
  {
   "cell_type": "code",
   "execution_count": 14,
   "metadata": {
    "colab": {
     "base_uri": "https://localhost:8080/",
     "height": 360
    },
    "id": "5JWNmRmB6Vpq",
    "outputId": "610452df-9efa-42ce-c0e3-815cfddbf85d"
   },
   "outputs": [
    {
     "data": {
      "image/png": "[encoded data removed]",
      "text/plain": [
       "<Figure size 576x360 with 1 Axes>"
      ]
     },
     "metadata": {
      "needs_background": "light"
     },
     "output_type": "display_data"
    }
   ],
   "source": [
    "fig = plt.figure(figsize = (8,5)) \n",
    "ax = fig.add_subplot(1,1,1) \n",
    "ax.set_xlabel('Principal Component 1', fontsize = 15) \n",
    "ax.set_ylabel('Principal Component 2', fontsize = 15) \n",
    "ax.set_title('2 Component PCA', fontsize = 20) \n",
    "targets = [1, 2,3,4]#,3,4]\n",
    "colors = ['r', 'g', 'b', 'y'] \n",
    "for target, color in zip(targets,colors): \n",
    "    indicesToKeep = finalDf['Classement'] == target\n",
    "    ax.scatter(finalDf.loc[indicesToKeep, 'principal component 1'] , finalDf.loc[indicesToKeep, 'principal component 2'] , c = color , s = 50) \n",
    "    ax.legend(targets) \n",
    "    ax.grid()"
   ]
  },
  {
   "cell_type": "markdown",
   "metadata": {
    "id": "N-hTg4xVBBtr"
   },
   "source": [
    "**Explication des sorties:**\n",
    "\n",
    "L'analyse en composantes principales permet d'identifier les variables qui contiennent la majorité de l'information sur le jeu de données. Dans notre cas, on observe que les deux premiers vecteurs propres générés par cette méthode expriment approximativement 70% de l'information présente dans le jeu de données, c'est à dire qu'on pourra négliger tous les autres vecteurs sans perdre trop d'informations.\n",
    "\n",
    "Pour l'identification de l'impact des variables sur les composantes principales, on remarque que la distance aux hopitaux et la surface et nombre d'emplacements augmentent en diagonale, c'est à dire que le cluster du nord-est représente les sites de camping les plus grands et les plus isolés des hopitaux, parcontre, le cluster du sud-ouest représente ceux qui sont plus petits mais plus proches des hopitaux\n",
    "\n",
    "Pour la composante principale 2, on remarque qu'elle est positivement corrélée avec le nombre de langues parlés à l'acceuil et un peu moin avec la présence d'internet sur l'ensemble du site, on pourra dire qu'elle caractérise la \"quality of life\" d'un site de camping, les clusters du nord sont plus \"luxe\" que ceux au sud\n",
    "\n",
    "Pour simplifier, on pourra dire que l'axe de la composante principale 1 caractérise la taille des sites et leur isolation de la civilisation, tout en remarquant que cette isolation s'exprime par leur distance aux hopitaux et non aux postes de police car il existe des postes de gendarmeries assez isolés aussi\n",
    "\n",
    "Et concernant l'axe de la composante principale 2, il caractérise la \"qualité\" d'un site de camping notemment vis-à-vis son acceuil\n",
    "\n",
    "On pourra conclure donc, concernant la sécurité des sites de camping, que la variable principale (au sens de la sécurité des sites) qui les différencie est celle de la distance par rapport aux hopitaux, cette distance semble être plus grande pour les sites les plus larges et les plus luxurieux. On pourra donc dire qu'il est possible d'être plus en sécurité dans un site de camping concidéré comme \"bas de gamme\""
   ]
  },
  {
   "cell_type": "markdown",
   "metadata": {
    "id": "jPVK58xsSB7J"
   },
   "source": [
    "Cette partie du code exécute le clustering par kmeans:\n"
   ]
  },
  {
   "cell_type": "code",
   "execution_count": 15,
   "metadata": {
    "id": "oLM-0A77B5zd"
   },
   "outputs": [],
   "source": [
    "xvars = ['principal component 1', 'principal component 2'] # récupération des données de l'ACP\n",
    "df2 = finalDf[xvars].dropna()"
   ]
  },
  {
   "cell_type": "code",
   "execution_count": 16,
   "metadata": {
    "colab": {
     "base_uri": "https://localhost:8080/",
     "height": 419
    },
    "id": "uadDDd7fbuFY",
    "outputId": "f8fbe9d5-96b2-449e-e4b8-0f565fe38f7c"
   },
   "outputs": [
    {
     "data": {
      "text/html": [
       "<div>\n",
       "<style scoped>\n",
       "    .dataframe tbody tr th:only-of-type {\n",
       "        vertical-align: middle;\n",
       "    }\n",
       "\n",
       "    .dataframe tbody tr th {\n",
       "        vertical-align: top;\n",
       "    }\n",
       "\n",
       "    .dataframe thead th {\n",
       "        text-align: right;\n",
       "    }\n",
       "</style>\n",
       "<table border=\"1\" class=\"dataframe\">\n",
       "  <thead>\n",
       "    <tr style=\"text-align: right;\">\n",
       "      <th></th>\n",
       "      <th>principal component 1</th>\n",
       "      <th>principal component 2</th>\n",
       "    </tr>\n",
       "  </thead>\n",
       "  <tbody>\n",
       "    <tr>\n",
       "      <th>0</th>\n",
       "      <td>1.479893</td>\n",
       "      <td>-0.071411</td>\n",
       "    </tr>\n",
       "    <tr>\n",
       "      <th>1</th>\n",
       "      <td>1.698260</td>\n",
       "      <td>0.865848</td>\n",
       "    </tr>\n",
       "    <tr>\n",
       "      <th>2</th>\n",
       "      <td>1.905159</td>\n",
       "      <td>0.844574</td>\n",
       "    </tr>\n",
       "    <tr>\n",
       "      <th>3</th>\n",
       "      <td>0.284418</td>\n",
       "      <td>-0.235157</td>\n",
       "    </tr>\n",
       "    <tr>\n",
       "      <th>4</th>\n",
       "      <td>1.952528</td>\n",
       "      <td>0.758126</td>\n",
       "    </tr>\n",
       "    <tr>\n",
       "      <th>...</th>\n",
       "      <td>...</td>\n",
       "      <td>...</td>\n",
       "    </tr>\n",
       "    <tr>\n",
       "      <th>58</th>\n",
       "      <td>0.141677</td>\n",
       "      <td>0.877434</td>\n",
       "    </tr>\n",
       "    <tr>\n",
       "      <th>59</th>\n",
       "      <td>0.190040</td>\n",
       "      <td>0.031476</td>\n",
       "    </tr>\n",
       "    <tr>\n",
       "      <th>60</th>\n",
       "      <td>1.304236</td>\n",
       "      <td>-0.155677</td>\n",
       "    </tr>\n",
       "    <tr>\n",
       "      <th>61</th>\n",
       "      <td>0.382337</td>\n",
       "      <td>0.041593</td>\n",
       "    </tr>\n",
       "    <tr>\n",
       "      <th>62</th>\n",
       "      <td>1.562586</td>\n",
       "      <td>0.772658</td>\n",
       "    </tr>\n",
       "  </tbody>\n",
       "</table>\n",
       "<p>63 rows × 2 columns</p>\n",
       "</div>"
      ],
      "text/plain": [
       "    principal component 1  principal component 2\n",
       "0                1.479893              -0.071411\n",
       "1                1.698260               0.865848\n",
       "2                1.905159               0.844574\n",
       "3                0.284418              -0.235157\n",
       "4                1.952528               0.758126\n",
       "..                    ...                    ...\n",
       "58               0.141677               0.877434\n",
       "59               0.190040               0.031476\n",
       "60               1.304236              -0.155677\n",
       "61               0.382337               0.041593\n",
       "62               1.562586               0.772658\n",
       "\n",
       "[63 rows x 2 columns]"
      ]
     },
     "execution_count": 16,
     "metadata": {},
     "output_type": "execute_result"
    }
   ],
   "source": [
    "df2"
   ]
  },
  {
   "cell_type": "code",
   "execution_count": 17,
   "metadata": {
    "id": "IS18xq6NCsJ6"
   },
   "outputs": [],
   "source": [
    "df2_copy=camping_copy_clean"
   ]
  },
  {
   "cell_type": "markdown",
   "metadata": {
    "id": "NG3oVsZ8SRdc"
   },
   "source": [
    "Exécution de la méthode du coude pour identifier le nombre optimal de clusters:"
   ]
  },
  {
   "cell_type": "code",
   "execution_count": 18,
   "metadata": {
    "id": "l5BLVUTDsfuW"
   },
   "outputs": [],
   "source": [
    "distortions = []\n",
    "K = range(1,10)\n",
    "for k in K:\n",
    "  model = KMeans(n_clusters=k)\n",
    "  model.fit(df2[xvars])\n",
    "  distortions.append(model.inertia_)"
   ]
  },
  {
   "cell_type": "code",
   "execution_count": 19,
   "metadata": {
    "colab": {
     "base_uri": "https://localhost:8080/",
     "height": 513
    },
    "id": "gFan9V_qsnin",
    "outputId": "aa69d9ba-0a04-4ae8-e15e-fb3b3b7650c1"
   },
   "outputs": [
    {
     "data": {
      "image/png": "[encoded data removed]",
      "text/plain": [
       "<Figure size 1152x576 with 1 Axes>"
      ]
     },
     "metadata": {
      "needs_background": "light"
     },
     "output_type": "display_data"
    }
   ],
   "source": [
    "plt.figure(figsize=(16,8))\n",
    "plt.plot(K, distortions, 'bx-')\n",
    "plt.xlabel('nombre de clusters')\n",
    "plt.ylabel('Distortion')\n",
    "plt.title('La méthode du coude pour trouver le nombre de clusters optimal')\n",
    "plt.show()"
   ]
  },
  {
   "cell_type": "markdown",
   "metadata": {
    "id": "fV7CiTdBzs_G"
   },
   "source": [
    "On identifie bien 4 clusters, cela est consistant avec l'observation qu'on a fait avec le résultat de l'ACP"
   ]
  },
  {
   "cell_type": "code",
   "execution_count": 20,
   "metadata": {
    "colab": {
     "base_uri": "https://localhost:8080/"
    },
    "id": "QC32qIXSCQ91",
    "outputId": "bab8288b-e1a6-4c60-a578-a9b0e97518a1"
   },
   "outputs": [
    {
     "data": {
      "text/plain": [
       "KMeans(n_clusters=4)"
      ]
     },
     "execution_count": 20,
     "metadata": {},
     "output_type": "execute_result"
    }
   ],
   "source": [
    "model = KMeans(n_clusters=4) #exécution de l'algorithme de kmeans\n",
    "model.fit(df2[xvars])"
   ]
  },
  {
   "cell_type": "code",
   "execution_count": 21,
   "metadata": {
    "id": "gtg9KQTWCTdp"
   },
   "outputs": [
    {
     "name": "stderr",
     "output_type": "stream",
     "text": [
      "/tmp/ipykernel_2069/2016269937.py:1: SettingWithCopyWarning: \n",
      "A value is trying to be set on a copy of a slice from a DataFrame.\n",
      "Try using .loc[row_indexer,col_indexer] = value instead\n",
      "\n",
      "See the caveats in the documentation: https://pandas.pydata.org/pandas-docs/stable/user_guide/indexing.html#returning-a-view-versus-a-copy\n",
      "  df2_copy['label'] = model.labels_ #sauvegarde des indices de clusters trouvés\n"
     ]
    }
   ],
   "source": [
    "df2_copy['label'] = model.labels_ #sauvegarde des indices de clusters trouvés"
   ]
  },
  {
   "cell_type": "code",
   "execution_count": 22,
   "metadata": {
    "id": "QzO6g1LVDIWT"
   },
   "outputs": [],
   "source": [
    "from geopandas import GeoDataFrame\n",
    "\n",
    "df2_copy = GeoDataFrame(df2_copy)"
   ]
  },
  {
   "cell_type": "code",
   "execution_count": 23,
   "metadata": {
    "id": "_PErhUla2MpJ"
   },
   "outputs": [],
   "source": [
    "finalDf=finalDf.dropna()"
   ]
  },
  {
   "cell_type": "markdown",
   "metadata": {
    "id": "XLs_38yETJ3T"
   },
   "source": [
    "Affichage final des clusters:"
   ]
  },
  {
   "cell_type": "code",
   "execution_count": 24,
   "metadata": {
    "colab": {
     "base_uri": "https://localhost:8080/",
     "height": 462
    },
    "id": "zriVHcaJE-fU",
    "outputId": "4b57ee3f-91b8-4002-8d41-519dbb30d547"
   },
   "outputs": [
    {
     "data": {
      "image/png": "[encoded data removed]",
      "text/plain": [
       "<Figure size 576x360 with 1 Axes>"
      ]
     },
     "metadata": {
      "needs_background": "light"
     },
     "output_type": "display_data"
    }
   ],
   "source": [
    "finalDF_copy=finalDf.dropna()\n",
    "finalDF_copy['label'] = model.labels_\n",
    "fig = plt.figure(figsize = (8,5)) \n",
    "ax = fig.add_subplot(1,1,1) \n",
    "ax.set_xlabel('Principal Component 1', fontsize = 15) \n",
    "ax.set_ylabel('Principal Component 2', fontsize = 15) \n",
    "ax.set_title('2 Component PCA', fontsize = 20) \n",
    "targets = [0,1,2,3]#,4]#,3,4]\n",
    "colors = ['r', 'g', 'b', 'y'] \n",
    "for target, color in zip(targets,colors): \n",
    "    indicesToKeep = finalDF_copy['label'] == target\n",
    "    ax.scatter(finalDF_copy.loc[indicesToKeep, 'principal component 1'] , finalDF_copy.loc[indicesToKeep, 'principal component 2'] , c = color , s = 50) \n",
    "    ax.legend(targets) \n",
    "    ax.grid()"
   ]
  },
  {
   "cell_type": "code",
   "execution_count": 25,
   "metadata": {
    "id": "yOJYF2BWZyG-"
   },
   "outputs": [],
   "source": [
    "camping_copy_clean.to_csv(\"camping_labelled.csv\") #sauvegarde en .csv pour la visualisation"
   ]
  },
  {
   "cell_type": "code",
   "execution_count": 26,
   "metadata": {},
   "outputs": [
    {
     "name": "stdout",
     "output_type": "stream",
     "text": [
      "[NbConvertApp] Converting notebook clustering.ipynb to html\n",
      "[NbConvertApp] Writing 713155 bytes to clustering.html\n"
     ]
    }
   ],
   "source": [
    "!jupyter nbconvert --to html clustering.ipynb"
   ]
  }
 ],
 "metadata": {
  "colab": {
   "collapsed_sections": [],
   "name": "clustering.ipynb",
   "provenance": []
  },
  "kernelspec": {
   "display_name": "Python 3 (ipykernel)",
   "language": "python",
   "name": "python3"
  },
  "language_info": {
   "codemirror_mode": {
    "name": "ipython",
    "version": 3
   },
   "file_extension": ".py",
   "mimetype": "text/x-python",
   "name": "python",
   "nbconvert_exporter": "python",
   "pygments_lexer": "ipython3",
   "version": "3.9.7"
  }
 },
 "nbformat": 4,
 "nbformat_minor": 4
}
