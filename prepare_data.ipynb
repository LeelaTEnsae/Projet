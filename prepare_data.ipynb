{
 "cells": [
  {
   "cell_type": "markdown",
   "id": "2c03ee3a-c65e-4a78-8ea4-d61b5b6a4817",
   "metadata": {},
   "source": [
    "## Préparation des données"
   ]
  },
  {
   "cell_type": "markdown",
   "id": "f469e3f5-0833-4a14-950f-543499d17f8d",
   "metadata": {},
   "source": [
    "À cette étape, nous allons charger et préparer les bases de données pour les étapes suivantes du projet que sont la visualisation et le clustering."
   ]
  },
  {
   "cell_type": "markdown",
   "id": "74599ef3-4cbf-43e8-a819-e8f9eb7f0952",
   "metadata": {},
   "source": [
    "Nous pouvons retrouver les bases de données sur le site https://www.data.gouv.fr/fr/ aux adresses suivantes :\n",
    "\n",
    "* Sites de camping en Ile-de-France : https://www.data.gouv.fr/fr/datasets/carte-des-campings-classes/\n",
    "* Hôpitaux/Cliniques en France : https://www.data.gouv.fr/fr/datasets/localisation-des-services-daccueil-des-urgences/\n",
    "* Postes de Police/Gendarmerie en France : https://www.data.gouv.fr/fr/datasets/localisations-des-brigades-de-gendarmeries-et-commissariats-de-police-dans-openstreetmap/\n",
    "* Carte de Couverture du Réseau Mobile en France : https://www.data.gouv.fr/fr/datasets/mon-reseau-mobile/\n",
    "* Défibrillateurs en France : https://www.data.gouv.fr/fr/datasets/geodae-base-nationale-des-defibrillateurs/\n",
    "* Communes en France : https://www.data.gouv.fr/fr/datasets/r/07b7c9a2-d1e2-4da6-9f20-01a7b72d4b12\n",
    "* Arrondissements de Paris : https://opendata.paris.fr/explore/dataset/arrondissements/download/?format=geojson&timezone=Europe/Berlin&lang=fr\n"
   ]
  },
  {
   "cell_type": "code",
   "execution_count": 1,
   "id": "2e2bca04-883b-43c3-b366-0b0b02ec0e79",
   "metadata": {},
   "outputs": [
    {
     "name": "stdout",
     "output_type": "stream",
     "text": [
      "Requirement already satisfied: pandas in /opt/conda/lib/python3.9/site-packages (1.3.4)\n",
      "Requirement already satisfied: fiona in /opt/conda/lib/python3.9/site-packages (1.8.20)\n",
      "Requirement already satisfied: shapely in /opt/conda/lib/python3.9/site-packages (1.8.0)\n",
      "Requirement already satisfied: pyproj in /opt/conda/lib/python3.9/site-packages (3.3.0)\n",
      "Requirement already satisfied: rtree in /opt/conda/lib/python3.9/site-packages (0.9.7)\n",
      "Requirement already satisfied: python-dateutil>=2.7.3 in /opt/conda/lib/python3.9/site-packages (from pandas) (2.8.2)\n",
      "Requirement already satisfied: pytz>=2017.3 in /opt/conda/lib/python3.9/site-packages (from pandas) (2021.3)\n",
      "Requirement already satisfied: numpy>=1.17.3 in /opt/conda/lib/python3.9/site-packages (from pandas) (1.20.3)\n",
      "Requirement already satisfied: click-plugins>=1.0 in /opt/conda/lib/python3.9/site-packages (from fiona) (1.1.1)\n",
      "Requirement already satisfied: six>=1.7 in /opt/conda/lib/python3.9/site-packages (from fiona) (1.16.0)\n",
      "Requirement already satisfied: attrs>=17 in /opt/conda/lib/python3.9/site-packages (from fiona) (21.2.0)\n",
      "Requirement already satisfied: munch in /opt/conda/lib/python3.9/site-packages (from fiona) (2.5.0)\n",
      "Requirement already satisfied: setuptools in /opt/conda/lib/python3.9/site-packages (from fiona) (58.5.3)\n",
      "Requirement already satisfied: cligj>=0.5 in /opt/conda/lib/python3.9/site-packages (from fiona) (0.7.2)\n",
      "Requirement already satisfied: click>=4.0 in /opt/conda/lib/python3.9/site-packages (from fiona) (8.0.3)\n",
      "Requirement already satisfied: certifi in /opt/conda/lib/python3.9/site-packages (from fiona) (2021.10.8)\n",
      "Requirement already satisfied: geopandas in /opt/conda/lib/python3.9/site-packages (0.10.2)\n",
      "Requirement already satisfied: pyproj>=2.2.0 in /opt/conda/lib/python3.9/site-packages (from geopandas) (3.3.0)\n",
      "Requirement already satisfied: shapely>=1.6 in /opt/conda/lib/python3.9/site-packages (from geopandas) (1.8.0)\n",
      "Requirement already satisfied: fiona>=1.8 in /opt/conda/lib/python3.9/site-packages (from geopandas) (1.8.20)\n",
      "Requirement already satisfied: pandas>=0.25.0 in /opt/conda/lib/python3.9/site-packages (from geopandas) (1.3.4)\n",
      "Requirement already satisfied: cligj>=0.5 in /opt/conda/lib/python3.9/site-packages (from fiona>=1.8->geopandas) (0.7.2)\n",
      "Requirement already satisfied: setuptools in /opt/conda/lib/python3.9/site-packages (from fiona>=1.8->geopandas) (58.5.3)\n",
      "Requirement already satisfied: munch in /opt/conda/lib/python3.9/site-packages (from fiona>=1.8->geopandas) (2.5.0)\n",
      "Requirement already satisfied: six>=1.7 in /opt/conda/lib/python3.9/site-packages (from fiona>=1.8->geopandas) (1.16.0)\n",
      "Requirement already satisfied: certifi in /opt/conda/lib/python3.9/site-packages (from fiona>=1.8->geopandas) (2021.10.8)\n",
      "Requirement already satisfied: click>=4.0 in /opt/conda/lib/python3.9/site-packages (from fiona>=1.8->geopandas) (8.0.3)\n",
      "Requirement already satisfied: click-plugins>=1.0 in /opt/conda/lib/python3.9/site-packages (from fiona>=1.8->geopandas) (1.1.1)\n",
      "Requirement already satisfied: attrs>=17 in /opt/conda/lib/python3.9/site-packages (from fiona>=1.8->geopandas) (21.2.0)\n",
      "Requirement already satisfied: python-dateutil>=2.7.3 in /opt/conda/lib/python3.9/site-packages (from pandas>=0.25.0->geopandas) (2.8.2)\n",
      "Requirement already satisfied: pytz>=2017.3 in /opt/conda/lib/python3.9/site-packages (from pandas>=0.25.0->geopandas) (2021.3)\n",
      "Requirement already satisfied: numpy>=1.17.3 in /opt/conda/lib/python3.9/site-packages (from pandas>=0.25.0->geopandas) (1.20.3)\n"
     ]
    }
   ],
   "source": [
    "!pip install pandas fiona shapely pyproj rtree\n",
    "!pip install geopandas"
   ]
  },
  {
   "cell_type": "code",
   "execution_count": 2,
   "id": "759e2c0b-00cf-4e56-bdaa-6aa49e2e5c5c",
   "metadata": {},
   "outputs": [],
   "source": [
    "import geopandas as gpd\n",
    "import numpy as np\n",
    "import pandas as pd"
   ]
  },
  {
   "cell_type": "code",
   "execution_count": 3,
   "id": "1f76913e-635c-4a78-8b68-d9a17b2bb668",
   "metadata": {},
   "outputs": [],
   "source": [
    "import requests\n",
    "import tempfile\n",
    "import zipfile\n",
    "\n",
    "temporary_location = tempfile.gettempdir()\n",
    "\n",
    "#Pour faciliter le téléchargement et le dézippage des données proposées sur data.gouv\n",
    "def download_unzip(url, dirname = tempfile.gettempdir(), destname = \"borders\"):\n",
    "    myfile = requests.get(url)\n",
    "    open(dirname + '/' + destname + '.zip', 'wb').write(myfile.content)\n",
    "    with zipfile.ZipFile(dirname + '/' + destname + '.zip', 'r') as zip_ref:\n",
    "        zip_ref.extractall(dirname + '/' + destname)"
   ]
  },
  {
   "cell_type": "markdown",
   "id": "a5873aad-d3aa-4ed2-85b2-4d5ec9d28c30",
   "metadata": {},
   "source": [
    "Chargement des bases de données :"
   ]
  },
  {
   "cell_type": "code",
   "execution_count": 4,
   "id": "ccac9a21-f867-49bb-9e86-20ddab090f3a",
   "metadata": {},
   "outputs": [
    {
     "ename": "BadZipFile",
     "evalue": "File is not a zip file",
     "output_type": "error",
     "traceback": [
      "\u001b[0;31m---------------------------------------------------------------------------\u001b[0m",
      "\u001b[0;31mBadZipFile\u001b[0m                                Traceback (most recent call last)",
      "\u001b[0;32m/tmp/ipykernel_4045/1489313453.py\u001b[0m in \u001b[0;36m<module>\u001b[0;34m\u001b[0m\n\u001b[1;32m      1\u001b[0m \u001b[0murl1\u001b[0m \u001b[0;34m=\u001b[0m \u001b[0;34m\"https://www.data.gouv.fr/fr/datasets/r/07b7c9a2-d1e2-4da6-9f20-01a7b72d4b12\"\u001b[0m\u001b[0;34m\u001b[0m\u001b[0;34m\u001b[0m\u001b[0m\n\u001b[0;32m----> 2\u001b[0;31m \u001b[0mdownload_unzip\u001b[0m\u001b[0;34m(\u001b[0m\u001b[0murl1\u001b[0m\u001b[0;34m)\u001b[0m\u001b[0;34m\u001b[0m\u001b[0;34m\u001b[0m\u001b[0m\n\u001b[0m\u001b[1;32m      3\u001b[0m \u001b[0mcommunes\u001b[0m \u001b[0;34m=\u001b[0m \u001b[0mgpd\u001b[0m\u001b[0;34m.\u001b[0m\u001b[0mread_file\u001b[0m\u001b[0;34m(\u001b[0m\u001b[0mtemporary_location\u001b[0m \u001b[0;34m+\u001b[0m \u001b[0;34m\"/borders/communes-20190101.json\"\u001b[0m\u001b[0;34m)\u001b[0m\u001b[0;34m\u001b[0m\u001b[0;34m\u001b[0m\u001b[0m\n",
      "\u001b[0;32m/tmp/ipykernel_4045/1111021684.py\u001b[0m in \u001b[0;36mdownload_unzip\u001b[0;34m(url, dirname, destname)\u001b[0m\n\u001b[1;32m      9\u001b[0m     \u001b[0mmyfile\u001b[0m \u001b[0;34m=\u001b[0m \u001b[0mrequests\u001b[0m\u001b[0;34m.\u001b[0m\u001b[0mget\u001b[0m\u001b[0;34m(\u001b[0m\u001b[0murl\u001b[0m\u001b[0;34m)\u001b[0m\u001b[0;34m\u001b[0m\u001b[0;34m\u001b[0m\u001b[0m\n\u001b[1;32m     10\u001b[0m     \u001b[0mopen\u001b[0m\u001b[0;34m(\u001b[0m\u001b[0mdirname\u001b[0m \u001b[0;34m+\u001b[0m \u001b[0;34m'/'\u001b[0m \u001b[0;34m+\u001b[0m \u001b[0mdestname\u001b[0m \u001b[0;34m+\u001b[0m \u001b[0;34m'.zip'\u001b[0m\u001b[0;34m,\u001b[0m \u001b[0;34m'wb'\u001b[0m\u001b[0;34m)\u001b[0m\u001b[0;34m.\u001b[0m\u001b[0mwrite\u001b[0m\u001b[0;34m(\u001b[0m\u001b[0mmyfile\u001b[0m\u001b[0;34m.\u001b[0m\u001b[0mcontent\u001b[0m\u001b[0;34m)\u001b[0m\u001b[0;34m\u001b[0m\u001b[0;34m\u001b[0m\u001b[0m\n\u001b[0;32m---> 11\u001b[0;31m     \u001b[0;32mwith\u001b[0m \u001b[0mzipfile\u001b[0m\u001b[0;34m.\u001b[0m\u001b[0mZipFile\u001b[0m\u001b[0;34m(\u001b[0m\u001b[0mdirname\u001b[0m \u001b[0;34m+\u001b[0m \u001b[0;34m'/'\u001b[0m \u001b[0;34m+\u001b[0m \u001b[0mdestname\u001b[0m \u001b[0;34m+\u001b[0m \u001b[0;34m'.zip'\u001b[0m\u001b[0;34m,\u001b[0m \u001b[0;34m'r'\u001b[0m\u001b[0;34m)\u001b[0m \u001b[0;32mas\u001b[0m \u001b[0mzip_ref\u001b[0m\u001b[0;34m:\u001b[0m\u001b[0;34m\u001b[0m\u001b[0;34m\u001b[0m\u001b[0m\n\u001b[0m\u001b[1;32m     12\u001b[0m         \u001b[0mzip_ref\u001b[0m\u001b[0;34m.\u001b[0m\u001b[0mextractall\u001b[0m\u001b[0;34m(\u001b[0m\u001b[0mdirname\u001b[0m \u001b[0;34m+\u001b[0m \u001b[0;34m'/'\u001b[0m \u001b[0;34m+\u001b[0m \u001b[0mdestname\u001b[0m\u001b[0;34m)\u001b[0m\u001b[0;34m\u001b[0m\u001b[0;34m\u001b[0m\u001b[0m\n",
      "\u001b[0;32m/opt/conda/lib/python3.9/zipfile.py\u001b[0m in \u001b[0;36m__init__\u001b[0;34m(self, file, mode, compression, allowZip64, compresslevel, strict_timestamps)\u001b[0m\n\u001b[1;32m   1255\u001b[0m         \u001b[0;32mtry\u001b[0m\u001b[0;34m:\u001b[0m\u001b[0;34m\u001b[0m\u001b[0;34m\u001b[0m\u001b[0m\n\u001b[1;32m   1256\u001b[0m             \u001b[0;32mif\u001b[0m \u001b[0mmode\u001b[0m \u001b[0;34m==\u001b[0m \u001b[0;34m'r'\u001b[0m\u001b[0;34m:\u001b[0m\u001b[0;34m\u001b[0m\u001b[0;34m\u001b[0m\u001b[0m\n\u001b[0;32m-> 1257\u001b[0;31m                 \u001b[0mself\u001b[0m\u001b[0;34m.\u001b[0m\u001b[0m_RealGetContents\u001b[0m\u001b[0;34m(\u001b[0m\u001b[0;34m)\u001b[0m\u001b[0;34m\u001b[0m\u001b[0;34m\u001b[0m\u001b[0m\n\u001b[0m\u001b[1;32m   1258\u001b[0m             \u001b[0;32melif\u001b[0m \u001b[0mmode\u001b[0m \u001b[0;32min\u001b[0m \u001b[0;34m(\u001b[0m\u001b[0;34m'w'\u001b[0m\u001b[0;34m,\u001b[0m \u001b[0;34m'x'\u001b[0m\u001b[0;34m)\u001b[0m\u001b[0;34m:\u001b[0m\u001b[0;34m\u001b[0m\u001b[0;34m\u001b[0m\u001b[0m\n\u001b[1;32m   1259\u001b[0m                 \u001b[0;31m# set the modified flag so central directory gets written\u001b[0m\u001b[0;34m\u001b[0m\u001b[0;34m\u001b[0m\u001b[0m\n",
      "\u001b[0;32m/opt/conda/lib/python3.9/zipfile.py\u001b[0m in \u001b[0;36m_RealGetContents\u001b[0;34m(self)\u001b[0m\n\u001b[1;32m   1322\u001b[0m             \u001b[0;32mraise\u001b[0m \u001b[0mBadZipFile\u001b[0m\u001b[0;34m(\u001b[0m\u001b[0;34m\"File is not a zip file\"\u001b[0m\u001b[0;34m)\u001b[0m\u001b[0;34m\u001b[0m\u001b[0;34m\u001b[0m\u001b[0m\n\u001b[1;32m   1323\u001b[0m         \u001b[0;32mif\u001b[0m \u001b[0;32mnot\u001b[0m \u001b[0mendrec\u001b[0m\u001b[0;34m:\u001b[0m\u001b[0;34m\u001b[0m\u001b[0;34m\u001b[0m\u001b[0m\n\u001b[0;32m-> 1324\u001b[0;31m             \u001b[0;32mraise\u001b[0m \u001b[0mBadZipFile\u001b[0m\u001b[0;34m(\u001b[0m\u001b[0;34m\"File is not a zip file\"\u001b[0m\u001b[0;34m)\u001b[0m\u001b[0;34m\u001b[0m\u001b[0;34m\u001b[0m\u001b[0m\n\u001b[0m\u001b[1;32m   1325\u001b[0m         \u001b[0;32mif\u001b[0m \u001b[0mself\u001b[0m\u001b[0;34m.\u001b[0m\u001b[0mdebug\u001b[0m \u001b[0;34m>\u001b[0m \u001b[0;36m1\u001b[0m\u001b[0;34m:\u001b[0m\u001b[0;34m\u001b[0m\u001b[0;34m\u001b[0m\u001b[0m\n\u001b[1;32m   1326\u001b[0m             \u001b[0mprint\u001b[0m\u001b[0;34m(\u001b[0m\u001b[0mendrec\u001b[0m\u001b[0;34m)\u001b[0m\u001b[0;34m\u001b[0m\u001b[0;34m\u001b[0m\u001b[0m\n",
      "\u001b[0;31mBadZipFile\u001b[0m: File is not a zip file"
     ]
    }
   ],
   "source": [
    "url1 = \"https://www.data.gouv.fr/fr/datasets/r/0e117c06-248f-45e5-8945-0e79d9136165\"\n",
    "download_unzip(url1)\n",
    "communes = gpd.read_file(temporary_location + \"/borders/communes-20220101.shp\")"
   ]
  },
  {
   "cell_type": "code",
   "execution_count": null,
   "id": "008286db-34da-4678-900c-65e84b0191cd",
   "metadata": {},
   "outputs": [],
   "source": [
    "url2 = \"https://opendata.paris.fr/explore/dataset/arrondissements/download/?format=geojson&timezone=Europe/Berlin&lang=fr\"\n",
    "arrondissements = gpd.read_file(url2)"
   ]
  },
  {
   "cell_type": "code",
   "execution_count": null,
   "id": "f755dbe3-6dff-4609-8dfe-dc8fc5c1f92f",
   "metadata": {},
   "outputs": [],
   "source": [
    "url3 = \"https://www.data.gouv.fr/fr/datasets/r/322480e7-824b-402d-8dec-ebff968a161d\"\n",
    "camping = gpd.read_file(url3)"
   ]
  },
  {
   "cell_type": "code",
   "execution_count": null,
   "id": "8fb5e209-e3e7-4520-82b5-79b4f1c310fa",
   "metadata": {},
   "outputs": [],
   "source": [
    "url4 = \"https://www.data.gouv.fr/fr/datasets/r/6987b47d-7d97-4e3d-8508-ac924c48fc95\"\n",
    "hopitaux = gpd.read_file(url4)"
   ]
  },
  {
   "cell_type": "code",
   "execution_count": null,
   "id": "958cad9f-2145-438e-9b6b-2cc5a45a5dfd",
   "metadata": {},
   "outputs": [],
   "source": [
    "url5 = \"https://www.data.gouv.fr/fr/datasets/r/52b2a283-7171-426d-99e1-63efe071cdf0\"\n",
    "police = gpd.read_file(url5)"
   ]
  },
  {
   "cell_type": "code",
   "execution_count": null,
   "id": "9afb2564-783c-4cf9-99e1-0f0df50385db",
   "metadata": {},
   "outputs": [],
   "source": [
    "url6 = \"https://www.data.gouv.fr/fr/datasets/r/058154d2-a462-48b7-b726-b77905d16be9\"\n",
    "mobile = gpd.read_file(url6)"
   ]
  },
  {
   "cell_type": "code",
   "execution_count": null,
   "id": "d536bd51-cc58-4235-bb44-74135172e141",
   "metadata": {},
   "outputs": [],
   "source": [
    "url7 = \"https://www.data.gouv.fr/fr/datasets/r/86ea48a0-dd94-4a23-b71c-80d3041d7db2\"\n",
    "defibrillateurs = gpd.read_file(url7)"
   ]
  },
  {
   "cell_type": "code",
   "execution_count": null,
   "id": "a8683f78-d788-4538-97e4-23af593a3d1b",
   "metadata": {},
   "outputs": [],
   "source": [
    "#communes.head()\n",
    "#camping.head()\n",
    "#hopitaux.head()\n",
    "#police.head()\n",
    "#mobile.head()\n",
    "#arrondissements.head()\n",
    "#defibrillateurs.head()"
   ]
  },
  {
   "cell_type": "code",
   "execution_count": null,
   "id": "053a52d3-991a-4456-8352-dd023b0e5629",
   "metadata": {},
   "outputs": [],
   "source": [
    "#Pour faire des projections de nos données géographiques sur le CRS EPSG 4326\n",
    "def proj_4326(x) :\n",
    "    x.crs = {'init' :'epsg:4326'}\n",
    "    x = x.to_crs(epsg = 4326)\n",
    "    return x"
   ]
  },
  {
   "cell_type": "markdown",
   "id": "f277eee9-cb64-43ba-b0eb-615e6011e0c7",
   "metadata": {},
   "source": [
    "### Préparation de communes :"
   ]
  },
  {
   "cell_type": "code",
   "execution_count": null,
   "id": "d6d98dd5-7e43-4768-a3e3-f1722980fae4",
   "metadata": {},
   "outputs": [],
   "source": [
    "#Stocke les arrondissements de Paris dans la base de données communes \n",
    "arrondissements = arrondissements.rename(columns = {\"c_arinsee\" : \"insee\"})\n",
    "arrondissements['insee'] = arrondissements['insee'].astype(str)\n",
    "communes = communes[~communes.insee.str.startswith(\"75\")].append(arrondissements)\n",
    "communes[\"dep\"] = communes.insee.str[:2]"
   ]
  },
  {
   "cell_type": "code",
   "execution_count": null,
   "id": "0a4a02e1-454a-47bc-85f3-7b99f8183571",
   "metadata": {},
   "outputs": [],
   "source": [
    "#Regroupe les communes en Ile-de-France\n",
    "communes_idf = communes[communes['dep'].isin(['75', '92', '93', '94', '78', '91', '77', '95'])]"
   ]
  },
  {
   "cell_type": "code",
   "execution_count": null,
   "id": "b861044c-a468-44e7-b82c-28d066fec69d",
   "metadata": {},
   "outputs": [],
   "source": [
    "#Nous en tirons seulement les variables susceptibles d'être utiles pour les opérations futures\n",
    "communes_idf = communes_idf[[\"insee\", \"nom\", \"surf_ha\", \"geometry\", \"dep\"]]\n",
    "#Pour avoir des noms de variable plus propres et plus parlants\n",
    "communes_idf = communes_idf.rename(columns = {\"nom\" : \"Nom\", \"surf_ha\" : \"Surface\"})"
   ]
  },
  {
   "cell_type": "code",
   "execution_count": null,
   "id": "525a6056-e6e9-4ab1-a252-f96f86312beb",
   "metadata": {},
   "outputs": [],
   "source": [
    "#communes_idf.head()"
   ]
  },
  {
   "cell_type": "markdown",
   "id": "e69ca4ab-b33b-40e6-affb-15da6f8eee1e",
   "metadata": {},
   "source": [
    "La base de données communes est maintenant prête pour nos utilisations dans les étapes qui viennent."
   ]
  },
  {
   "cell_type": "markdown",
   "id": "80c6534a-83bf-45ee-ae87-95f561f2a2d7",
   "metadata": {},
   "source": [
    "### Préparation de departements :"
   ]
  },
  {
   "cell_type": "markdown",
   "id": "43d123d3-1a3c-4d6f-a0f8-c92609fff3db",
   "metadata": {},
   "source": [
    "Nous allons utiliser communes pour créer des polygones (et des GeoDataFrame) pour chaque département :"
   ]
  },
  {
   "cell_type": "code",
   "execution_count": null,
   "id": "6ec2b95a-1978-4370-996a-4a1f2b549068",
   "metadata": {},
   "outputs": [],
   "source": [
    "idf_polygon = communes[communes['dep'].isin(['75', '92', '93', '94', '78', '91', '77', '95'])].geometry.unary_union\n",
    "paris_polygon = communes[communes['dep'].isin(['75'])].geometry.unary_union\n",
    "essonne_polygon = communes[communes['dep'].isin(['91'])].geometry.unary_union\n",
    "yvelines_polygon = communes[communes['dep'].isin(['78'])].geometry.unary_union\n",
    "valdoise_polygon = communes[communes['dep'].isin(['95'])].geometry.unary_union\n",
    "seineetmarne_polygon = communes[communes['dep'].isin(['77'])].geometry.unary_union\n",
    "hautsdeseine_polygon = communes[communes['dep'].isin(['92'])].geometry.unary_union\n",
    "seinesaintdenis_polygon = communes[communes['dep'].isin(['93'])].geometry.unary_union\n",
    "valdemarne_polygon = communes[communes['dep'].isin(['94'])].geometry.unary_union\n",
    "\n",
    "idf_polygon_df = gpd.GeoDataFrame(geometry = [idf_polygon])\n",
    "paris_polygon_df = gpd.GeoDataFrame(geometry = [paris_polygon])\n",
    "essonne_polygon_df = gpd.GeoDataFrame(geometry = [essonne_polygon])\n",
    "yvelines_polygon_df = gpd.GeoDataFrame(geometry = [yvelines_polygon])\n",
    "valdoise_polygon_df = gpd.GeoDataFrame(geometry = [valdoise_polygon])\n",
    "seineetmarne_polygon_df = gpd.GeoDataFrame(geometry = [seineetmarne_polygon])\n",
    "hautsdeseine_polygon_df = gpd.GeoDataFrame(geometry = [hautsdeseine_polygon])\n",
    "seinesaintdenis_polygon_df = gpd.GeoDataFrame(geometry = [seinesaintdenis_polygon])\n",
    "valdemarne_polygon_df = gpd.GeoDataFrame(geometry = [valdemarne_polygon])"
   ]
  },
  {
   "cell_type": "code",
   "execution_count": null,
   "id": "feee142d-39f3-46e1-a496-127aa02c54b7",
   "metadata": {},
   "outputs": [],
   "source": [
    "#Regroupe les départements dans une même base de données\n",
    "frames = [paris_polygon_df, essonne_polygon_df, valdemarne_polygon_df, seineetmarne_polygon_df, yvelines_polygon_df, seinesaintdenis_polygon_df, hautsdeseine_polygon_df, valdoise_polygon_df]\n",
    "departements_idf = pd.concat(frames)"
   ]
  },
  {
   "cell_type": "code",
   "execution_count": null,
   "id": "113ef71b-10ae-48cf-8638-b4dbfb40ac85",
   "metadata": {},
   "outputs": [],
   "source": [
    "#Projection sur le CRS EPSG 4326\n",
    "departements_idf = proj_4326(departements_idf)"
   ]
  },
  {
   "cell_type": "code",
   "execution_count": null,
   "id": "ecb69d13-1374-42ac-9958-b28158b8ab34",
   "metadata": {},
   "outputs": [],
   "source": [
    "#departements_idf.head()"
   ]
  },
  {
   "cell_type": "markdown",
   "id": "43410a30-3377-497a-9f14-532264c9bcdb",
   "metadata": {},
   "source": [
    "La base de données departements est prête."
   ]
  },
  {
   "cell_type": "markdown",
   "id": "8c193462-093f-4a83-a390-1c11bb6eb60f",
   "metadata": {},
   "source": [
    "### Préparation de camping :"
   ]
  },
  {
   "cell_type": "code",
   "execution_count": null,
   "id": "ad6d2b8d-7b53-46e9-b69c-d5cf1854131b",
   "metadata": {},
   "outputs": [],
   "source": [
    "#Conversion du classement des camping en int\n",
    "camping[\"classement\"] = camping[\"classement\"].str[:1].astype(int)"
   ]
  },
  {
   "cell_type": "markdown",
   "id": "b8417eba-9b74-47bb-87fd-b098d65cf16f",
   "metadata": {},
   "source": [
    "Calcul des surfaces des sites de camping :\n",
    "\n",
    "Les sites classés 3 étoiles ou moins ont au maximum 100 emplacements par hectare et les sites classés 4 étoiles ou plus ont au maximum 80 emplacements par hectare. A partir de cette information, nous pouvons faire une approximation grossière de la surface de chaque site.\n"
   ]
  },
  {
   "cell_type": "code",
   "execution_count": null,
   "id": "00e00e24-be28-46f0-b496-3fb44e8e4b9e",
   "metadata": {},
   "outputs": [],
   "source": [
    "surface_3etoiles = camping[camping[\"classement\"] <= 3][\"nombre_d_emplacements\"]/100\n",
    "surface_5etoiles = camping[camping[\"classement\"] >= 4][\"nombre_d_emplacements\"]/80\n",
    "camping[\"surface\"] = pd.concat([surface_3etoiles, surface_5etoiles])\n",
    "#Conversion de hectares en m2\n",
    "camping[\"surface\"] = camping[\"surface\"]*10000 "
   ]
  },
  {
   "cell_type": "markdown",
   "id": "4aaea772-7848-47af-9910-a03576668b55",
   "metadata": {},
   "source": [
    "Création de variables binaires :\n",
    "\n",
    "Les classements en étoiles nous donnent des informations sur les aménagements dans les sites de camping. \n",
    "* Les sites classé 3 étoiles ou plus ont une permanence 24h/24\n",
    "* Les sites classés 4 étoiles ou plus ont un accès Internet présent partout sur le site\n",
    "* Les sites classés 2 étoiles ou moins ont un personnel qui parle une langue, ceux classés 3 ou 4 étoiles ont un personnel qui parle 3 langues et les sites classés 5 étoiles ont un personnel qui parle 4 langues\n",
    "\n",
    "Nous pouvons donc créer des variables binaires pour chaque aménagement (Connexion à Internet partout sur le site, Nombre de langues parlées en accueil, Présence d'une permanence 24h/24). Cela nous sera utile au moment du clustering.\n"
   ]
  },
  {
   "cell_type": "code",
   "execution_count": null,
   "id": "81712f48-f76b-4678-9769-4e81b8da9dbf",
   "metadata": {},
   "outputs": [],
   "source": [
    "camping[\"permanence_24h\"] = 1*(camping[\"classement\"] >= 3)\n",
    "camping[\"langues_accueil\"] = 1*(camping[\"classement\"] <= 5) + 2*(camping[\"classement\"] >= 3) + 1*(camping[\"classement\"] == 5)\n",
    "camping[\"internet_partout\"] = 1*(camping[\"classement\"] >= 4)"
   ]
  },
  {
   "cell_type": "code",
   "execution_count": null,
   "id": "eba81514-69db-4ed4-bee0-9be389bd1b3f",
   "metadata": {},
   "outputs": [],
   "source": [
    "#Pour avoir des noms de variable plus propres pour la visualisation\n",
    "camping = camping.rename(columns = {\"nom_commercial\" : \"Nom\", \"adresse\" : \"Adresse\", \"nombre_d_emplacements\" : \"Emplacements\", \"classement\" : \"Classement\", \"surface\" : \"Surface\"})"
   ]
  },
  {
   "cell_type": "code",
   "execution_count": null,
   "id": "eb288f41-e20d-4f44-9adc-49f2d49e11ed",
   "metadata": {},
   "outputs": [],
   "source": [
    "#Projection sur le CRS EPSG 4326\n",
    "camping = proj_4326(camping)"
   ]
  },
  {
   "cell_type": "code",
   "execution_count": null,
   "id": "48ec3b78-619f-4139-8592-25f237e28b70",
   "metadata": {},
   "outputs": [],
   "source": [
    "#Nous en tirons seulement les variables susceptibles d'être utiles pour les opérations futures\n",
    "camping = camping[[\"Adresse\", \"dep\", \"Emplacements\", \"Nom\", \"Classement\", \"commune\", \"code_postal\", \"geometry\", \"Surface\", \"permanence_24h\", \"langues_accueil\", \"internet_partout\"]]"
   ]
  },
  {
   "cell_type": "code",
   "execution_count": null,
   "id": "494476a0-b0a0-4dd8-a352-c72d13a2f175",
   "metadata": {},
   "outputs": [],
   "source": [
    "#camping.head()"
   ]
  },
  {
   "cell_type": "markdown",
   "id": "1e19c3c6-f652-4a69-87b6-0b460ae30fb2",
   "metadata": {},
   "source": [
    "La base de données camping est prête."
   ]
  },
  {
   "cell_type": "markdown",
   "id": "6f692133-0aba-444d-9940-ca5755efdf81",
   "metadata": {},
   "source": [
    "### Préparation de hopitaux :"
   ]
  },
  {
   "cell_type": "code",
   "execution_count": null,
   "id": "a487841d-0fa3-4c45-b154-19310c794717",
   "metadata": {},
   "outputs": [],
   "source": [
    "#Regroupe les hôpitaux/cliniques en Ile-de-France\n",
    "hopitaux_idf = hopitaux[hopitaux[\"geometry\"].within(idf_polygon)]\n",
    "#Pour simplifier la visualisation et le calcul des distances qui vont suivre, \n",
    "#nous allons prendre le centroïde au lieu du polygone pour les hôpitaux\n",
    "hopitaux_idf[\"geometry\"] = hopitaux_idf[\"geometry\"].centroid"
   ]
  },
  {
   "cell_type": "code",
   "execution_count": null,
   "id": "a6507c28-a6fa-49da-85aa-d2af1b1ec690",
   "metadata": {},
   "outputs": [],
   "source": [
    "#Projection sur le CRS EPSG 4326\n",
    "hopitaux_idf = proj_4326(hopitaux_idf)"
   ]
  },
  {
   "cell_type": "code",
   "execution_count": null,
   "id": "9a34a6d3-2247-400c-9f83-3b65fd407095",
   "metadata": {},
   "outputs": [],
   "source": [
    "#Nous en tirons seulement les variables susceptibles d'être utiles pour les opérations futures\n",
    "hopitaux_idf = hopitaux_idf[[\"name\", \"geometry\", \"addr:housenumber\", \"addr:street\", \"addr:postcode\", \"addr:city\"]]\n",
    "#Pour avoir des noms de variable plus parlants et plus propres pour la visualisation\n",
    "hopitaux_idf = hopitaux_idf.rename(columns = {\"addr:housenumber\" : \"numero_hab\", \"addr:street\" : \"rue\", \"addr:postcode\" : \"code_postal\", \"addr:city\" : \"ville\", \"name\" : \"Nom\"})"
   ]
  },
  {
   "cell_type": "code",
   "execution_count": null,
   "id": "e38dc7f4-cb1a-43a4-98f8-1ab4dd71a477",
   "metadata": {},
   "outputs": [],
   "source": [
    "#hopitaux_idf.head()"
   ]
  },
  {
   "cell_type": "markdown",
   "id": "600936ff-64dd-47ca-bdc8-f7a9da3fea1f",
   "metadata": {},
   "source": [
    "La base de données hopitaux est prête."
   ]
  },
  {
   "cell_type": "markdown",
   "id": "99213b06-0255-43ea-be50-73be228d75de",
   "metadata": {},
   "source": [
    "### Préparation de police :"
   ]
  },
  {
   "cell_type": "code",
   "execution_count": null,
   "id": "051ee046-4812-41b7-85eb-7907b9314132",
   "metadata": {},
   "outputs": [],
   "source": [
    "#Projection sur le CRS EPSG 4326 (coordonnées en mètres avant)\n",
    "police = police.to_crs(epsg = 4326)"
   ]
  },
  {
   "cell_type": "code",
   "execution_count": null,
   "id": "bfc50039-5f0c-4af8-8227-bf1ecebeed57",
   "metadata": {},
   "outputs": [],
   "source": [
    "#Regroupe les postes de police/gendarmerie en Ile-de-France\n",
    "police_idf = police[police['geometry'].within(idf_polygon)]"
   ]
  },
  {
   "cell_type": "code",
   "execution_count": null,
   "id": "79b71c98-c246-431f-b416-ecb43ef4df97",
   "metadata": {},
   "outputs": [],
   "source": [
    "#Projection sur le CRS EPSG 4326\n",
    "police_idf = proj_4326(police_idf)"
   ]
  },
  {
   "cell_type": "code",
   "execution_count": null,
   "id": "b3825b4b-cb1e-44e4-8955-18ef6c022865",
   "metadata": {},
   "outputs": [],
   "source": [
    "#Nous en tirons seulement les variables susceptibles d'être utiles pour les opérations futures\n",
    "police_idf = police_idf[[\"official_name\", \"police-FR\", \"geometry\", \"addr-housenumber\", \"addr-street\", \"addr-postcode\", \"addr-city\", \"addr-full\"]]\n",
    "#Pour avoir des noms de variable plus parlants et plus propres pour la visualisation\n",
    "police_idf = police_idf.rename(columns = {\"official_name\" : \"Nom\", \"addr-housenumber\" : \"numero_hab\", \"addr-street\" : \"rue\", \"addr-postcode\" : \"code_postal\", \"addr-city\" : \"ville\", \"addr-full\" : \"Adresse\"})"
   ]
  },
  {
   "cell_type": "code",
   "execution_count": null,
   "id": "96609815-f212-41f1-a425-84a79f904c51",
   "metadata": {},
   "outputs": [],
   "source": [
    "#police_idf.head()"
   ]
  },
  {
   "cell_type": "markdown",
   "id": "18fe8915-8e25-43cb-9fbb-167ae97fd52e",
   "metadata": {},
   "source": [
    "La base de données police est prête."
   ]
  },
  {
   "cell_type": "markdown",
   "id": "93692c0d-462a-4ae6-9fed-d369406d812c",
   "metadata": {},
   "source": [
    "### Préparation de sans_mobile :"
   ]
  },
  {
   "cell_type": "code",
   "execution_count": null,
   "id": "8b62a5f0-4ac8-4d2c-bdf2-30d7b3dddc91",
   "metadata": {},
   "outputs": [],
   "source": [
    "#Projection sur le CRS EPSG 4326 (coordonnées en mètres avant)\n",
    "mobile = mobile.to_crs(epsg = 4326)"
   ]
  },
  {
   "cell_type": "code",
   "execution_count": null,
   "id": "9f3a798b-6066-4efc-9683-4250b17928b5",
   "metadata": {},
   "outputs": [],
   "source": [
    "#Regroupe les zones avec une bonne couverture de réseau mobile en Ile-de-France\n",
    "mobile_idf = mobile[mobile[\"dept\"].isin([\"75\", \"77\", \"78\", \"91\", \"92\", \"93\", \"94\", \"95\"])]"
   ]
  },
  {
   "cell_type": "code",
   "execution_count": null,
   "id": "6b7e1391-2d56-4cf3-af0c-f6dcfd298024",
   "metadata": {},
   "outputs": [],
   "source": [
    "#Conversion en polygone\n",
    "mobile_polygon = mobile_idf.geometry.unary_union\n",
    "#Différence avec le polygone Ile-de-France pour avoir les zones \n",
    "#sans une bonne couverture de réseau mobile\n",
    "sans_mobile_idf = idf_polygon.difference(mobile_polygon)\n",
    "#Création de GeoDataFrame\n",
    "sans_mobile_idf_df = gpd.GeoDataFrame(geometry = [sans_mobile_idf])"
   ]
  },
  {
   "cell_type": "code",
   "execution_count": null,
   "id": "b390cd72-29f0-48ea-9350-b0741786519a",
   "metadata": {},
   "outputs": [],
   "source": [
    "#Projection sur le CRS EPSG 4326\n",
    "sans_mobile_idf_df = proj_4326(sans_mobile_idf_df)"
   ]
  },
  {
   "cell_type": "code",
   "execution_count": null,
   "id": "a405e0e9-8a89-45dd-9ce7-86ad757160c8",
   "metadata": {},
   "outputs": [],
   "source": [
    "#sans_mobile_idf_df"
   ]
  },
  {
   "cell_type": "markdown",
   "id": "c56e4e0e-6940-48f0-9a32-d64718b6925d",
   "metadata": {},
   "source": [
    "La base de données sans_mobile est prête."
   ]
  },
  {
   "cell_type": "markdown",
   "id": "a471df2b-fd5c-4758-b89f-b298d874384f",
   "metadata": {},
   "source": [
    "### Préparation de defibrillateurs :"
   ]
  },
  {
   "cell_type": "code",
   "execution_count": null,
   "id": "f1fe975c-2dbf-4216-ae0a-1bb849c1f0e7",
   "metadata": {},
   "outputs": [],
   "source": [
    "#Projection sur le CRS EPSG 4326 (coordonnées en mètres avant)\n",
    "defibrillateurs = defibrillateurs.to_crs(epsg = 4326)"
   ]
  },
  {
   "cell_type": "code",
   "execution_count": null,
   "id": "d9e8ee35-99dc-42c7-ac8b-b818d16e5997",
   "metadata": {},
   "outputs": [],
   "source": [
    "#Regroupe les défibrillateurs en Ile-de-France\n",
    "defibrillateurs_idf = defibrillateurs[defibrillateurs[\"geometry\"].within(idf_polygon)]\n",
    "defibrillateurs_idf[\"geometry\"] = defibrillateurs_idf[\"geometry\"].centroid"
   ]
  },
  {
   "cell_type": "code",
   "execution_count": null,
   "id": "74a8ac7f-ddfc-4344-bfff-aa163f2a0ddf",
   "metadata": {},
   "outputs": [],
   "source": [
    "#Projection sur le CRS EPSG 4326\n",
    "defibrillateurs_idf = proj_4326(defibrillateurs_idf)"
   ]
  },
  {
   "cell_type": "code",
   "execution_count": null,
   "id": "c2dee19b-175d-4bda-a2e4-fbdd3c7ef608",
   "metadata": {},
   "outputs": [],
   "source": [
    "#Nous en tirons seulement les variables susceptibles d'être utiles pour les opérations futures\n",
    "defibrillateurs_idf = defibrillateurs_idf[[\"c_adr_num\", \"c_adr_voie\", \"c_com_cp\", \"c_com_insee\", \"c_com_nom\", \"geometry\"]]\n",
    "#Pour avoir des noms de variable plus parlants\n",
    "defibrillateurs_idf = defibrillateurs_idf.rename(columns = {\"c_adr_num\" : \"numero_hab\", \"c_adr_voie\" : \"rue\", \"c_com_cp\" : \"code_postal\", \"c_com_nom\" : \"commune\", \"c_com_insee\" : \"insee\"})"
   ]
  },
  {
   "cell_type": "code",
   "execution_count": null,
   "id": "0200b419-ea55-4b3b-977f-c8b17dc7f7d3",
   "metadata": {},
   "outputs": [],
   "source": [
    "#defibrillateurs_idf.head()"
   ]
  },
  {
   "cell_type": "markdown",
   "id": "b4fc44b6-2c47-46ef-972f-37b4d9306e54",
   "metadata": {},
   "source": [
    "La base de données defibrillateurs est prête."
   ]
  },
  {
   "cell_type": "markdown",
   "id": "13fab0a4-ac22-40d0-a21e-d4e09b5c6393",
   "metadata": {},
   "source": [
    "À ce stade, nos bases de données telles qu'elles suffisent pour une première visualisation des sites de camping et les alentours (hôpitaux, zones sans couverture mobile, etc.). En revanche, pour le clustering (des sites de camping), utiliser uniquement la localisation de ces éléments ne suffit pas. Nous avons besoin de créer des variables supplémentaires qui demandent plus de manipulations."
   ]
  },
  {
   "cell_type": "markdown",
   "id": "dc4d16ef-5336-4ca7-857d-7423ad516c95",
   "metadata": {},
   "source": [
    "### Préparation pour le clustering :"
   ]
  },
  {
   "cell_type": "markdown",
   "id": "46e3980e-f9c4-47b3-8e93-e7800fb90566",
   "metadata": {},
   "source": [
    "La première variable que nous allons créer est le rapport entre la surface sans réseau de chaque site de camping et sa surface totale. \n",
    "\n",
    "Puisque nous n'avons que des points qui représentent chaque site de camping, nous allons supposer que chaque site est un cercle."
   ]
  },
  {
   "cell_type": "code",
   "execution_count": null,
   "id": "2bad7ba0-ea5f-474a-8622-3ab7003c030b",
   "metadata": {},
   "outputs": [],
   "source": [
    "#Calcul du rayon du cercle/site en utilisant la surface\n",
    "rayon_camping = np.sqrt((camping[\"Surface\"]/np.pi)) + 5"
   ]
  },
  {
   "cell_type": "code",
   "execution_count": null,
   "id": "6d2dd61e-b484-4de5-9471-4d69477c280d",
   "metadata": {},
   "outputs": [],
   "source": [
    "cercle_camping = camping\n",
    "#Projection sur le CRS EPSG 4326\n",
    "cercle_camping = proj_4326(cercle_camping)"
   ]
  },
  {
   "cell_type": "markdown",
   "id": "8a2d34d7-8f76-4e94-b0cd-161bca6918e0",
   "metadata": {},
   "source": [
    "Création de cercles autour du point représentatif du site de camping :\n",
    "\n",
    "Ici, la fonction buffer prend des distances en degrés, donc nous allons convertir la distance en degrés en divisant par 111000 car 1° = 111000m"
   ]
  },
  {
   "cell_type": "code",
   "execution_count": null,
   "id": "aa5ffe76-e6c3-400b-ac27-a8732574535b",
   "metadata": {},
   "outputs": [],
   "source": [
    "cercle_camping = cercle_camping.buffer(rayon_camping/111000)"
   ]
  },
  {
   "cell_type": "code",
   "execution_count": null,
   "id": "1650298c-932b-405d-80e2-4cccba65f676",
   "metadata": {},
   "outputs": [],
   "source": [
    "#Création de GeoDataFrame\n",
    "cercle_camping = gpd.GeoDataFrame(cercle_camping, geometry = cercle_camping.values)\n",
    "#Projection sur le CRS EPSG 4326\n",
    "cercle_camping = proj_4326(cercle_camping)"
   ]
  },
  {
   "cell_type": "code",
   "execution_count": null,
   "id": "c7673a87-9fac-4acb-b708-70fbf7b50fe3",
   "metadata": {},
   "outputs": [],
   "source": [
    "cercle_camping[cercle_camping[\"geometry\"].intersects(sans_mobile_idf) == True]"
   ]
  },
  {
   "cell_type": "markdown",
   "id": "320d3550-fa65-401f-bd9a-6aa2608a8986",
   "metadata": {},
   "source": [
    "Ici, nous pouvons voir que seulement un site de camping se chevauche avec les zones sans réseau. Ce n'est donc pas un élément qui permet de discriminer entre les sites de camping. On ne va pas l'utiliser pour le clustering."
   ]
  },
  {
   "cell_type": "markdown",
   "id": "787a0641-2f57-4f4c-8325-6cada1662883",
   "metadata": {},
   "source": [
    "Terminons quand même la tâche :"
   ]
  },
  {
   "cell_type": "code",
   "execution_count": null,
   "id": "6a17a427-edb8-4c43-bda9-972510aaf899",
   "metadata": {},
   "outputs": [],
   "source": [
    "#Projection sur le CRS EPSG 3857 pour avoir des coordonnées en mètres\n",
    "cercle_camping = cercle_camping.to_crs(epsg = 3857)\n",
    "#Calcul de l'aire du site\n",
    "cercle_camping[\"Aire\"] = cercle_camping.area"
   ]
  },
  {
   "cell_type": "code",
   "execution_count": null,
   "id": "869726a3-a70f-4074-8e2c-81780dd141e1",
   "metadata": {},
   "outputs": [],
   "source": [
    "#Intersection avec le polygone des zones sans réseau pour trouver \n",
    "#la surface sans réseau de chaque site de camping\n",
    "overlap = cercle_camping.intersection(sans_mobile_idf)\n",
    "#Création de GeoDataFrame\n",
    "overlap = gpd.GeoDataFrame(overlap, geometry = overlap.values)\n",
    "#Projection sur le CRS EPSG 3857 pour avoir des coordonnées en mètres\n",
    "overlap = overlap.to_crs(epsg = 3857)\n",
    "#Calcul de l'aire du site sans réseau\n",
    "overlap[\"Aire\"] = overlap.area"
   ]
  },
  {
   "cell_type": "code",
   "execution_count": null,
   "id": "ab2f3ec9-2e84-4fc7-9bba-808f3dd4ad98",
   "metadata": {},
   "outputs": [],
   "source": [
    "#Calcul du rapport\n",
    "overlap[\"rapport\"] = overlap[\"Aire\"]/cercle_camping[\"Aire\"]"
   ]
  },
  {
   "cell_type": "code",
   "execution_count": null,
   "id": "a428d7e3-9ca5-4962-8224-acffff8aacde",
   "metadata": {},
   "outputs": [],
   "source": [
    "camping[\"rapport_sans_mobile\"] = overlap[\"rapport\"]"
   ]
  },
  {
   "cell_type": "markdown",
   "id": "867d0155-3885-47f4-87f9-6404f1b0cf27",
   "metadata": {},
   "source": [
    "En vue du clustering, nous allons aussi :\n",
    "\n",
    "1. Calculer la distance entre les sites de camping et les postes de police/hôpitaux \n",
    "\n",
    "2. Trouver les sites de camping qui ont accès à un défibrillateur dans un rayon de 2km\n"
   ]
  },
  {
   "cell_type": "code",
   "execution_count": null,
   "id": "e027b9a1-5a61-404d-b9b0-bfc6fd4d3192",
   "metadata": {},
   "outputs": [],
   "source": [
    "!pip install osmnx"
   ]
  },
  {
   "cell_type": "code",
   "execution_count": null,
   "id": "6f17aba6",
   "metadata": {
    "colab": {
     "base_uri": "https://localhost:8080/",
     "height": 35
    },
    "id": "6f17aba6",
    "outputId": "f3826614-703d-493c-98dd-a7b0af568725"
   },
   "outputs": [],
   "source": [
    "import networkx as nx\n",
    "import osmnx as ox\n",
    "\n",
    "%matplotlib inline\n",
    "ox.__version__"
   ]
  },
  {
   "cell_type": "code",
   "execution_count": null,
   "id": "12ace360",
   "metadata": {
    "id": "12ace360"
   },
   "outputs": [],
   "source": [
    "#Chargement des routes en Ile-de-France\n",
    "G = ox.graph_from_place(\"ile-de-france, France\", network_type=\"drive\")\n",
    "#fig, ax = ox.plot_graph(G)"
   ]
  },
  {
   "cell_type": "markdown",
   "id": "4e87b070-7bab-47b2-a2ed-2c5a5c823fc2",
   "metadata": {},
   "source": [
    "1. Calcul des distances :"
   ]
  },
  {
   "cell_type": "code",
   "execution_count": null,
   "id": "6IJ29N_jsXQP",
   "metadata": {
    "id": "6IJ29N_jsXQP"
   },
   "outputs": [],
   "source": [
    "pd.set_option('display.max_rows', None)"
   ]
  },
  {
   "cell_type": "code",
   "execution_count": null,
   "id": "O5TVmJufriQG",
   "metadata": {
    "id": "O5TVmJufriQG"
   },
   "outputs": [],
   "source": [
    "#Pour voir la forme des coordonnées (en string)\n",
    "#print(str(camping[\"geometry\"]))"
   ]
  },
  {
   "cell_type": "code",
   "execution_count": null,
   "id": "77ozM2unmPBw",
   "metadata": {
    "id": "77ozM2unmPBw"
   },
   "outputs": [],
   "source": [
    "#Sépare les différentes coordonnées individuelles (en string) \n",
    "#et les met dans une liste\n",
    "coordinates_camping = str(camping[\"geometry\"]).split(\"\\n\")\n",
    "coordinates_camping = coordinates_camping[:-1]\n",
    "coordinates_police = str(police_idf[\"geometry\"]).split(\"\\n\")\n",
    "coordinates_police = coordinates_police[:-1]"
   ]
  },
  {
   "cell_type": "code",
   "execution_count": null,
   "id": "oaNK1y6cpRaB",
   "metadata": {
    "id": "oaNK1y6cpRaB"
   },
   "outputs": [],
   "source": [
    "#Pour convertir les coordonnées (en string) de la forme Point (x y) \n",
    "#en une liste de float facilement manipulable\n",
    "def get_coordinates(test) :\n",
    "    coordinates = []\n",
    "    for i in test:\n",
    "        j = i.split('(') #Sépare \"Point\" de x y)\n",
    "        k = j[-1][:-1].split(\" \") #Sépare x et y\n",
    "        coordinates.append([float(k[0]), float(k[1])]) #Convertit x et y en float et les stocke dans une liste\n",
    "    return(coordinates)"
   ]
  },
  {
   "cell_type": "code",
   "execution_count": null,
   "id": "dcuPgaugq0zH",
   "metadata": {
    "id": "dcuPgaugq0zH"
   },
   "outputs": [],
   "source": [
    "#Convertit les coordonnées des sites de camping en une liste de coordonnées\n",
    "coordinates_camping_xy = get_coordinates(coordinates_camping)\n",
    "#coordinates_camping_xy"
   ]
  },
  {
   "cell_type": "code",
   "execution_count": null,
   "id": "P1UqxDsquZU_",
   "metadata": {
    "id": "P1UqxDsquZU_"
   },
   "outputs": [],
   "source": [
    "#Convertit les coordonnées des postes de police en une liste de coordonnées\n",
    "coordinates_police_xy = get_coordinates(coordinates_police)\n",
    "#coordinates_police_xy"
   ]
  },
  {
   "cell_type": "code",
   "execution_count": null,
   "id": "mywMA_NKAxN0",
   "metadata": {
    "id": "mywMA_NKAxN0"
   },
   "outputs": [],
   "source": [
    "#Pour retrouver, parmi une liste d'éléments (de postes de police/hôpitaux), \n",
    "#celui qui est le plus proche (son indice) d'un endroit \n",
    "#donné (un site de camping donné), en utilisant kNN\n",
    "def get_index(coordinates_police_xy, coordinates_camping_xy) :\n",
    "    i = coordinates_camping_xy #Pour un endroit donné\n",
    "    neigh = NearestNeighbors(n_neighbors = 1) #Nous cherchons le plus proche\n",
    "    neigh.fit(coordinates_police_xy) #Parmi une liste\n",
    "    #Nous retrouvons l'indice du plus proche\n",
    "    nearest = neigh.kneighbors([i])\n",
    "    return(nearest[1][0][0])\n"
   ]
  },
  {
   "cell_type": "code",
   "execution_count": null,
   "id": "4uU5QNAUuq7Q",
   "metadata": {
    "id": "4uU5QNAUuq7Q"
   },
   "outputs": [],
   "source": [
    "#Pour retrouver la distance entre un endroit (un site de camping donné) et \n",
    "#l'élément (le poste de police/hôpital) le plus proche\n",
    "def get_distance(start, end) :\n",
    "    distance = []\n",
    "    i = start\n",
    "    dist = []\n",
    "    j = end[get_index(end, start)] #Indice de l'élément le plus proche\n",
    "    orig = ox.distance.nearest_nodes(G, X = i[0], Y = i[1]) #Route la plus proche de l'origine\n",
    "    dest = ox.distance.nearest_nodes(G, X = j[0] , Y = j[1]) #Route la plus proche de la destination\n",
    "    route = ox.shortest_path(G, orig, dest, weight = \"travel_time\") #Calcul du trajet le plus rapide entre origine et destination\n",
    "    #fig, ax = ox.plot_graph_route(G, route, node_size=0)\n",
    "    #Calcul de la distance du trajet le plus rapide\n",
    "    edge_lengths = ox.utils_graph.get_route_edge_attributes(G, route, \"length\") \n",
    "    dist.append(round(sum(edge_lengths)))\n",
    "    distance = min(dist)\n",
    "    return(distance)"
   ]
  },
  {
   "cell_type": "code",
   "execution_count": null,
   "id": "JcIznapBAQOS",
   "metadata": {
    "id": "JcIznapBAQOS"
   },
   "outputs": [],
   "source": [
    "from sklearn.neighbors import NearestNeighbors"
   ]
  },
  {
   "cell_type": "markdown",
   "id": "6563afe8-47b0-4ce2-a623-f99789e2c5a0",
   "metadata": {},
   "source": [
    "Calcul de la distance entre chaque site de camping et le poste de police le plus proche :"
   ]
  },
  {
   "cell_type": "code",
   "execution_count": null,
   "id": "-RUcYa9ztuMx",
   "metadata": {
    "id": "-RUcYa9ztuMx"
   },
   "outputs": [],
   "source": [
    "distance_police = []\n",
    "index = 0\n",
    "for i in coordinates_camping_xy : #Pour chaque site de camping\n",
    "    index = index + 1\n",
    "    dist = get_distance(i, coordinates_police_xy) #Calcul de la distance au poste de police le plus proche\n",
    "    distance_police.append(dist) #Regroupe dans une liste\n",
    "    print(index, \"/\", len(coordinates_camping_xy), \" finished\")\n",
    "camping[\"distance_police\"] = distance_police #Création de la variable distance_police"
   ]
  },
  {
   "cell_type": "code",
   "execution_count": null,
   "id": "1b30bf09",
   "metadata": {
    "id": "1b30bf09"
   },
   "outputs": [],
   "source": [
    "#Sépare les différentes coordonnées individuelles (en string) et \n",
    "#les met dans une liste\n",
    "coordinates_hopitaux = str(hopitaux_idf[\"geometry\"]).split(\"\\n\")\n",
    "coordinates_hopitaux = coordinates_hopitaux[:-1]\n",
    "#Convertit les coordonnées des hôpitaux en une liste de coordonnées\n",
    "coordinates_hopitaux_xy = get_coordinates(coordinates_hopitaux)"
   ]
  },
  {
   "cell_type": "markdown",
   "id": "b3a985f8-7213-47da-9fd6-239364d53452",
   "metadata": {},
   "source": [
    "Calcul de la distance entre chaque site de camping et l'hôpital le plus proche :"
   ]
  },
  {
   "cell_type": "code",
   "execution_count": null,
   "id": "zkbflveZU6ov",
   "metadata": {
    "colab": {
     "base_uri": "https://localhost:8080/"
    },
    "id": "zkbflveZU6ov",
    "outputId": "fa0062bb-2a9f-4f74-e670-9729345658b8"
   },
   "outputs": [],
   "source": [
    "distance_hopitaux = []\n",
    "index = 0\n",
    "for i in coordinates_camping_xy : #Pour chaque site de camping\n",
    "    index = index + 1\n",
    "    dist = get_distance(i, coordinates_hopitaux_xy) #Calcul de la distance à l'hôpital le plus proche\n",
    "    distance_hopitaux.append(dist) #Regroupe dans une liste\n",
    "    print(index, \"/\", len(coordinates_camping_xy), \" finished\")\n",
    "camping[\"distance_hopitaux\"] = distance_hopitaux #Création de la variable distance_hôpitaux"
   ]
  },
  {
   "cell_type": "markdown",
   "id": "de170105-caa2-4180-8f47-a8c92608bf14",
   "metadata": {},
   "source": [
    "2. Trouver les sites de camping qui ont accès à un défibrillateur dans un rayon de 2km"
   ]
  },
  {
   "cell_type": "code",
   "execution_count": null,
   "id": "pWvYM9F4frVQ",
   "metadata": {
    "id": "pWvYM9F4frVQ"
   },
   "outputs": [],
   "source": [
    "#Sépare les différentes coordonnées individuelles (en string) \n",
    "#et les met dans une liste\n",
    "coordinates_defibrillateurs = str(defibrillateurs_idf[\"geometry\"]).split(\"\\n\")\n",
    "coordinates_defibrillateurs = coordinates_defibrillateurs[:-1]\n",
    "#Convertit les coordonnées des défibrillateurs en une liste de coordonnées\n",
    "coordinates_defibrillateurs_xy = get_coordinates(coordinates_defibrillateurs)"
   ]
  },
  {
   "cell_type": "markdown",
   "id": "bf12e6b1-a280-4472-9241-a42139c08ce6",
   "metadata": {},
   "source": [
    "Nous retrouvons les sites de camping qui ont accès à un défibrillateur dans un rayon de 2km :"
   ]
  },
  {
   "cell_type": "code",
   "execution_count": null,
   "id": "U4T9pdyvhLNx",
   "metadata": {
    "colab": {
     "base_uri": "https://localhost:8080/"
    },
    "id": "U4T9pdyvhLNx",
    "outputId": "9b982047-a469-40b9-f78d-3bec59e6cd75"
   },
   "outputs": [],
   "source": [
    "distance_defibrillateurs = []\n",
    "index = 0\n",
    "for i in coordinates_camping_xy : #Pour chaque site de camping\n",
    "    index = index + 1\n",
    "    dist = get_distance(i, coordinates_defibrillateurs_xy) #Calcul de la distance au défibrillateur le plus proche\n",
    "    num = 1*(dist < 2000) #Vérifie si le défibrillateur est à moins de 2km\n",
    "    distance_defibrillateurs.append(num) #Regroupe dans une liste\n",
    "    print(index, \"/\", len(coordinates_camping_xy), \" finished\")\n",
    "camping[\"defib_moins_2km\"] = distance_defibrillateurs #Création de la variable defib_moins_2km"
   ]
  },
  {
   "cell_type": "code",
   "execution_count": null,
   "id": "tiWce_I5m1JX",
   "metadata": {},
   "outputs": [],
   "source": [
    "#camping"
   ]
  },
  {
   "cell_type": "code",
   "execution_count": null,
   "id": "3fb25933-c7ec-4b82-8113-ecae01ffdcb6",
   "metadata": {},
   "outputs": [],
   "source": [
    "#Conversion en csv des bases de données préparées pour pouvoir les utiliser pour la visualisation et le clustering\n",
    "police_idf.to_csv(\"police.csv\")\n",
    "hopitaux_idf.to_csv(\"hopitaux.csv\")\n",
    "camping.to_csv(\"camping.csv\")\n",
    "defibrillateurs_idf.to_csv(\"defibrillateur.csv\")\n",
    "sans_mobile_idf_df.to_csv(\"sans_mobile.csv\")\n",
    "departements_idf.to_csv(\"departements.csv\")\n",
    "communes_idf.to_csv(\"communes.csv\")"
   ]
  }
 ],
 "metadata": {
  "colab": {
   "collapsed_sections": [],
   "name": "Untitled.ipynb",
   "provenance": []
  },
  "kernelspec": {
   "display_name": "Python 3 (ipykernel)",
   "language": "python",
   "name": "python3"
  },
  "language_info": {
   "codemirror_mode": {
    "name": "ipython",
    "version": 3
   },
   "file_extension": ".py",
   "mimetype": "text/x-python",
   "name": "python",
   "nbconvert_exporter": "python",
   "pygments_lexer": "ipython3",
   "version": "3.10.1"
  }
 },
 "nbformat": 4,
 "nbformat_minor": 5
}
