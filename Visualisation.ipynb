{
 "cells": [
  {
   "cell_type": "code",
   "execution_count": 1,
   "metadata": {
    "colab": {
     "base_uri": "https://localhost:8080/"
    },
    "executionInfo": {
     "elapsed": 19046,
     "status": "ok",
     "timestamp": 1641079146410,
     "user": {
      "displayName": "Leela T",
      "photoUrl": "https://lh3.googleusercontent.com/a/default-user=s64",
      "userId": "12684795005480159959"
     },
     "user_tz": -60
    },
    "id": "ZyzeSTNlEoSv",
    "outputId": "0bcc95f9-3897-4bec-a570-f097c4067e1c"
   },
   "outputs": [
    {
     "name": "stdout",
     "output_type": "stream",
     "text": [
      "Requirement already satisfied: pandas in /usr/local/lib/python3.7/dist-packages (1.1.5)\n",
      "Requirement already satisfied: fiona in /usr/local/lib/python3.7/dist-packages (1.8.20)\n",
      "Requirement already satisfied: shapely in /usr/local/lib/python3.7/dist-packages (1.8.0)\n",
      "Requirement already satisfied: pyproj in /usr/local/lib/python3.7/dist-packages (3.2.1)\n",
      "Requirement already satisfied: rtree in /usr/local/lib/python3.7/dist-packages (0.9.7)\n",
      "Requirement already satisfied: pytz>=2017.2 in /usr/local/lib/python3.7/dist-packages (from pandas) (2018.9)\n",
      "Requirement already satisfied: numpy>=1.15.4 in /usr/local/lib/python3.7/dist-packages (from pandas) (1.19.5)\n",
      "Requirement already satisfied: python-dateutil>=2.7.3 in /usr/local/lib/python3.7/dist-packages (from pandas) (2.8.2)\n",
      "Requirement already satisfied: six>=1.5 in /usr/local/lib/python3.7/dist-packages (from python-dateutil>=2.7.3->pandas) (1.15.0)\n",
      "Requirement already satisfied: attrs>=17 in /usr/local/lib/python3.7/dist-packages (from fiona) (21.2.0)\n",
      "Requirement already satisfied: click-plugins>=1.0 in /usr/local/lib/python3.7/dist-packages (from fiona) (1.1.1)\n",
      "Requirement already satisfied: click>=4.0 in /usr/local/lib/python3.7/dist-packages (from fiona) (7.1.2)\n",
      "Requirement already satisfied: certifi in /usr/local/lib/python3.7/dist-packages (from fiona) (2021.10.8)\n",
      "Requirement already satisfied: munch in /usr/local/lib/python3.7/dist-packages (from fiona) (2.5.0)\n",
      "Requirement already satisfied: cligj>=0.5 in /usr/local/lib/python3.7/dist-packages (from fiona) (0.7.2)\n",
      "Requirement already satisfied: setuptools in /usr/local/lib/python3.7/dist-packages (from fiona) (57.4.0)\n",
      "Requirement already satisfied: geopandas in /usr/local/lib/python3.7/dist-packages (0.10.2)\n",
      "Requirement already satisfied: pandas>=0.25.0 in /usr/local/lib/python3.7/dist-packages (from geopandas) (1.1.5)\n",
      "Requirement already satisfied: fiona>=1.8 in /usr/local/lib/python3.7/dist-packages (from geopandas) (1.8.20)\n",
      "Requirement already satisfied: pyproj>=2.2.0 in /usr/local/lib/python3.7/dist-packages (from geopandas) (3.2.1)\n",
      "Requirement already satisfied: shapely>=1.6 in /usr/local/lib/python3.7/dist-packages (from geopandas) (1.8.0)\n",
      "Requirement already satisfied: click>=4.0 in /usr/local/lib/python3.7/dist-packages (from fiona>=1.8->geopandas) (7.1.2)\n",
      "Requirement already satisfied: attrs>=17 in /usr/local/lib/python3.7/dist-packages (from fiona>=1.8->geopandas) (21.2.0)\n",
      "Requirement already satisfied: cligj>=0.5 in /usr/local/lib/python3.7/dist-packages (from fiona>=1.8->geopandas) (0.7.2)\n",
      "Requirement already satisfied: six>=1.7 in /usr/local/lib/python3.7/dist-packages (from fiona>=1.8->geopandas) (1.15.0)\n",
      "Requirement already satisfied: certifi in /usr/local/lib/python3.7/dist-packages (from fiona>=1.8->geopandas) (2021.10.8)\n",
      "Requirement already satisfied: setuptools in /usr/local/lib/python3.7/dist-packages (from fiona>=1.8->geopandas) (57.4.0)\n",
      "Requirement already satisfied: munch in /usr/local/lib/python3.7/dist-packages (from fiona>=1.8->geopandas) (2.5.0)\n",
      "Requirement already satisfied: click-plugins>=1.0 in /usr/local/lib/python3.7/dist-packages (from fiona>=1.8->geopandas) (1.1.1)\n",
      "Requirement already satisfied: pytz>=2017.2 in /usr/local/lib/python3.7/dist-packages (from pandas>=0.25.0->geopandas) (2018.9)\n",
      "Requirement already satisfied: python-dateutil>=2.7.3 in /usr/local/lib/python3.7/dist-packages (from pandas>=0.25.0->geopandas) (2.8.2)\n",
      "Requirement already satisfied: numpy>=1.15.4 in /usr/local/lib/python3.7/dist-packages (from pandas>=0.25.0->geopandas) (1.19.5)\n",
      "Requirement already satisfied: pandas-bokeh in /usr/local/lib/python3.7/dist-packages (0.5.5)\n",
      "Requirement already satisfied: pandas>=0.22.0 in /usr/local/lib/python3.7/dist-packages (from pandas-bokeh) (1.1.5)\n",
      "Requirement already satisfied: bokeh>=2.0 in /usr/local/lib/python3.7/dist-packages (from pandas-bokeh) (2.3.3)\n",
      "Requirement already satisfied: packaging>=16.8 in /usr/local/lib/python3.7/dist-packages (from bokeh>=2.0->pandas-bokeh) (21.3)\n",
      "Requirement already satisfied: python-dateutil>=2.1 in /usr/local/lib/python3.7/dist-packages (from bokeh>=2.0->pandas-bokeh) (2.8.2)\n",
      "Requirement already satisfied: Jinja2>=2.9 in /usr/local/lib/python3.7/dist-packages (from bokeh>=2.0->pandas-bokeh) (2.11.3)\n",
      "Requirement already satisfied: PyYAML>=3.10 in /usr/local/lib/python3.7/dist-packages (from bokeh>=2.0->pandas-bokeh) (3.13)\n",
      "Requirement already satisfied: numpy>=1.11.3 in /usr/local/lib/python3.7/dist-packages (from bokeh>=2.0->pandas-bokeh) (1.19.5)\n",
      "Requirement already satisfied: tornado>=5.1 in /usr/local/lib/python3.7/dist-packages (from bokeh>=2.0->pandas-bokeh) (5.1.1)\n",
      "Requirement already satisfied: pillow>=7.1.0 in /usr/local/lib/python3.7/dist-packages (from bokeh>=2.0->pandas-bokeh) (7.1.2)\n",
      "Requirement already satisfied: typing-extensions>=3.7.4 in /usr/local/lib/python3.7/dist-packages (from bokeh>=2.0->pandas-bokeh) (3.10.0.2)\n",
      "Requirement already satisfied: MarkupSafe>=0.23 in /usr/local/lib/python3.7/dist-packages (from Jinja2>=2.9->bokeh>=2.0->pandas-bokeh) (2.0.1)\n",
      "Requirement already satisfied: pyparsing!=3.0.5,>=2.0.2 in /usr/local/lib/python3.7/dist-packages (from packaging>=16.8->bokeh>=2.0->pandas-bokeh) (3.0.6)\n",
      "Requirement already satisfied: pytz>=2017.2 in /usr/local/lib/python3.7/dist-packages (from pandas>=0.22.0->pandas-bokeh) (2018.9)\n",
      "Requirement already satisfied: six>=1.5 in /usr/local/lib/python3.7/dist-packages (from python-dateutil>=2.1->bokeh>=2.0->pandas-bokeh) (1.15.0)\n"
     ]
    }
   ],
   "source": [
    "!pip install pandas fiona shapely pyproj rtree # à faire obligatoirement en premier pour utiliser rtree ou pygeos pour les jointures spatiales\n",
    "!pip install geopandas\n",
    "!pip install pandas-bokeh"
   ]
  },
  {
   "cell_type": "code",
   "execution_count": 2,
   "metadata": {
    "executionInfo": {
     "elapsed": 278,
     "status": "ok",
     "timestamp": 1641079146682,
     "user": {
      "displayName": "Leela T",
      "photoUrl": "https://lh3.googleusercontent.com/a/default-user=s64",
      "userId": "12684795005480159959"
     },
     "user_tz": -60
    },
    "id": "S-q6crjTFfSK"
   },
   "outputs": [],
   "source": [
    "import geopandas as gpd\n",
    "import matplotlib.pyplot as plt\n",
    "import numpy as np\n",
    "import pandas as pd\n",
    "import pandas_bokeh\n",
    "pandas_bokeh.output_notebook()"
   ]
  },
  {
   "cell_type": "code",
   "execution_count": 3,
   "metadata": {
    "executionInfo": {
     "elapsed": 13,
     "status": "ok",
     "timestamp": 1641079146684,
     "user": {
      "displayName": "Leela T",
      "photoUrl": "https://lh3.googleusercontent.com/a/default-user=s64",
      "userId": "12684795005480159959"
     },
     "user_tz": -60
    },
    "id": "aGEZ902sFkHR"
   },
   "outputs": [],
   "source": [
    "import requests\n",
    "import tempfile\n",
    "import zipfile\n",
    "\n",
    "temporary_location = tempfile.gettempdir()\n",
    "\n",
    "def download_unzip(url, dirname = tempfile.gettempdir(), destname = \"borders\"):\n",
    "  myfile = requests.get(url)\n",
    "  open(dirname + '/' + destname + '.zip', 'wb').write(myfile.content)\n",
    "  with zipfile.ZipFile(dirname + '/' + destname + '.zip', 'r') as zip_ref:\n",
    "      zip_ref.extractall(dirname + '/' + destname)"
   ]
  },
  {
   "cell_type": "code",
   "execution_count": 4,
   "metadata": {
    "executionInfo": {
     "elapsed": 55909,
     "status": "ok",
     "timestamp": 1641079202582,
     "user": {
      "displayName": "Leela T",
      "photoUrl": "https://lh3.googleusercontent.com/a/default-user=s64",
      "userId": "12684795005480159959"
     },
     "user_tz": -60
    },
    "id": "em5V5v0wForo"
   },
   "outputs": [],
   "source": [
    "url1 = \"https://www.data.gouv.fr/fr/datasets/r/07b7c9a2-d1e2-4da6-9f20-01a7b72d4b12\"\n",
    "download_unzip(url1)\n",
    "communes = gpd.read_file(temporary_location + \"/borders/communes-20190101.json\")\n",
    "\n",
    "url2 = \"https://opendata.paris.fr/explore/dataset/arrondissements/download/?format=geojson&timezone=Europe/Berlin&lang=fr\"\n",
    "arrondissements = gpd.read_file(url2)\n",
    "\n",
    "url3 = \"https://www.data.gouv.fr/fr/datasets/r/322480e7-824b-402d-8dec-ebff968a161d\"\n",
    "camping = gpd.read_file(url3)\n",
    "\n",
    "url4 = \"https://www.data.gouv.fr/fr/datasets/r/6987b47d-7d97-4e3d-8508-ac924c48fc95\"\n",
    "hopitaux = gpd.read_file(url4)\n",
    "\n",
    "url5 = \"https://www.data.gouv.fr/fr/datasets/r/52b2a283-7171-426d-99e1-63efe071cdf0\"\n",
    "police = gpd.read_file(url5)\n",
    "\n",
    "url6 = \"https://www.data.gouv.fr/fr/datasets/r/058154d2-a462-48b7-b726-b77905d16be9\"\n",
    "mobile = gpd.read_file(url6)\n",
    "\n",
    "url7 = \"https://www.data.gouv.fr/fr/datasets/r/86ea48a0-dd94-4a23-b71c-80d3041d7db2\"\n",
    "defibrillateurs = gpd.read_file(url7)"
   ]
  },
  {
   "cell_type": "code",
   "execution_count": 5,
   "metadata": {
    "executionInfo": {
     "elapsed": 11,
     "status": "ok",
     "timestamp": 1641079202583,
     "user": {
      "displayName": "Leela T",
      "photoUrl": "https://lh3.googleusercontent.com/a/default-user=s64",
      "userId": "12684795005480159959"
     },
     "user_tz": -60
    },
    "id": "A1XnvK3VthmP"
   },
   "outputs": [],
   "source": [
    "arrondissements = arrondissements.rename(columns = {\"c_arinsee\" : \"insee\"})\n",
    "arrondissements['insee'] = arrondissements['insee'].astype(str)\n",
    "communes = communes[~communes.insee.str.startswith(\"75\")].append(arrondissements)\n",
    "communes[\"dep\"] = communes.insee.str[:2]\n",
    "#communes.head()"
   ]
  },
  {
   "cell_type": "code",
   "execution_count": 6,
   "metadata": {
    "executionInfo": {
     "elapsed": 10,
     "status": "ok",
     "timestamp": 1641079202584,
     "user": {
      "displayName": "Leela T",
      "photoUrl": "https://lh3.googleusercontent.com/a/default-user=s64",
      "userId": "12684795005480159959"
     },
     "user_tz": -60
    },
    "id": "z0h1lhntt_2n"
   },
   "outputs": [],
   "source": [
    "#camping.head()"
   ]
  },
  {
   "cell_type": "code",
   "execution_count": 7,
   "metadata": {
    "executionInfo": {
     "elapsed": 10,
     "status": "ok",
     "timestamp": 1641079202585,
     "user": {
      "displayName": "Leela T",
      "photoUrl": "https://lh3.googleusercontent.com/a/default-user=s64",
      "userId": "12684795005480159959"
     },
     "user_tz": -60
    },
    "id": "HHoldyemuG-r"
   },
   "outputs": [],
   "source": [
    "#hopitaux.head()"
   ]
  },
  {
   "cell_type": "code",
   "execution_count": 8,
   "metadata": {
    "executionInfo": {
     "elapsed": 9,
     "status": "ok",
     "timestamp": 1641079202585,
     "user": {
      "displayName": "Leela T",
      "photoUrl": "https://lh3.googleusercontent.com/a/default-user=s64",
      "userId": "12684795005480159959"
     },
     "user_tz": -60
    },
    "id": "jopPx_eruMAF"
   },
   "outputs": [],
   "source": [
    "#police.head()"
   ]
  },
  {
   "cell_type": "code",
   "execution_count": 9,
   "metadata": {
    "executionInfo": {
     "elapsed": 10,
     "status": "ok",
     "timestamp": 1641079202586,
     "user": {
      "displayName": "Leela T",
      "photoUrl": "https://lh3.googleusercontent.com/a/default-user=s64",
      "userId": "12684795005480159959"
     },
     "user_tz": -60
    },
    "id": "80IvqAxbuRg_"
   },
   "outputs": [],
   "source": [
    "#mobile.head()"
   ]
  },
  {
   "cell_type": "code",
   "execution_count": 10,
   "metadata": {
    "executionInfo": {
     "elapsed": 1550,
     "status": "ok",
     "timestamp": 1641079204127,
     "user": {
      "displayName": "Leela T",
      "photoUrl": "https://lh3.googleusercontent.com/a/default-user=s64",
      "userId": "12684795005480159959"
     },
     "user_tz": -60
    },
    "id": "PtKcYkjzsq-S"
   },
   "outputs": [],
   "source": [
    "idf_polygon = communes[communes['dep'].isin(['75', '92', '93', '94', '78', '91', '77', '95'])].geometry.unary_union\n",
    "paris_polygon = communes[communes['dep'].isin(['75'])].geometry.unary_union\n",
    "essonne_polygon = communes[communes['dep'].isin(['91'])].geometry.unary_union\n",
    "yvelines_polygon = communes[communes['dep'].isin(['78'])].geometry.unary_union\n",
    "valdoise_polygon = communes[communes['dep'].isin(['95'])].geometry.unary_union\n",
    "seineetmarne_polygon = communes[communes['dep'].isin(['77'])].geometry.unary_union\n",
    "hautsdeseine_polygon = communes[communes['dep'].isin(['92'])].geometry.unary_union\n",
    "seinesaintdenis_polygon = communes[communes['dep'].isin(['93'])].geometry.unary_union\n",
    "valdemarne_polygon = communes[communes['dep'].isin(['94'])].geometry.unary_union\n",
    "\n",
    "idf_polygon_df = gpd.GeoDataFrame(geometry = [idf_polygon])\n",
    "paris_polygon_df = gpd.GeoDataFrame(geometry = [paris_polygon])\n",
    "essonne_polygon_df = gpd.GeoDataFrame(geometry = [essonne_polygon])\n",
    "yvelines_polygon_df = gpd.GeoDataFrame(geometry = [yvelines_polygon])\n",
    "valdoise_polygon_df = gpd.GeoDataFrame(geometry = [valdoise_polygon])\n",
    "seineetmarne_polygon_df = gpd.GeoDataFrame(geometry = [seineetmarne_polygon])\n",
    "hautsdeseine_polygon_df = gpd.GeoDataFrame(geometry = [hautsdeseine_polygon])\n",
    "seinesaintdenis_polygon_df = gpd.GeoDataFrame(geometry = [seinesaintdenis_polygon])\n",
    "valdemarne_polygon_df = gpd.GeoDataFrame(geometry = [valdemarne_polygon])"
   ]
  },
  {
   "cell_type": "code",
   "execution_count": 11,
   "metadata": {
    "executionInfo": {
     "elapsed": 10,
     "status": "ok",
     "timestamp": 1641079204128,
     "user": {
      "displayName": "Leela T",
      "photoUrl": "https://lh3.googleusercontent.com/a/default-user=s64",
      "userId": "12684795005480159959"
     },
     "user_tz": -60
    },
    "id": "gj9L51YtFKjM"
   },
   "outputs": [],
   "source": [
    "frames = [paris_polygon_df, essonne_polygon_df, valdemarne_polygon_df, seineetmarne_polygon_df, yvelines_polygon_df, seinesaintdenis_polygon_df, hautsdeseine_polygon_df, valdoise_polygon_df]\n",
    "departements_idf = pd.concat(frames)"
   ]
  },
  {
   "cell_type": "code",
   "execution_count": 12,
   "metadata": {
    "colab": {
     "base_uri": "https://localhost:8080/"
    },
    "executionInfo": {
     "elapsed": 8,
     "status": "ok",
     "timestamp": 1641079204129,
     "user": {
      "displayName": "Leela T",
      "photoUrl": "https://lh3.googleusercontent.com/a/default-user=s64",
      "userId": "12684795005480159959"
     },
     "user_tz": -60
    },
    "id": "2d9MWMCa1C48",
    "outputId": "d7784338-f627-4462-f7a2-5a72ad4416ec"
   },
   "outputs": [
    {
     "name": "stderr",
     "output_type": "stream",
     "text": [
      "/usr/local/lib/python3.7/dist-packages/pyproj/crs/crs.py:131: FutureWarning: '+init=<authority>:<code>' syntax is deprecated. '<authority>:<code>' is the preferred initialization method. When making the change, be mindful of axis order changes: https://pyproj4.github.io/pyproj/stable/gotchas.html#axis-order-changes-in-proj-6\n",
      "  in_crs_string = _prepare_from_proj_string(in_crs_string)\n"
     ]
    }
   ],
   "source": [
    "departements_idf.crs = {'init' :'epsg:4326'}\n",
    "departements_idf = departements_idf.to_crs(epsg = 4326)"
   ]
  },
  {
   "cell_type": "code",
   "execution_count": 13,
   "metadata": {
    "executionInfo": {
     "elapsed": 283,
     "status": "ok",
     "timestamp": 1641079204407,
     "user": {
      "displayName": "Leela T",
      "photoUrl": "https://lh3.googleusercontent.com/a/default-user=s64",
      "userId": "12684795005480159959"
     },
     "user_tz": -60
    },
    "id": "Tgsa2Vf0Kyfl"
   },
   "outputs": [],
   "source": [
    "camping[\"classement\"] = camping[\"classement\"].str[:1].astype(int)"
   ]
  },
  {
   "cell_type": "code",
   "execution_count": 14,
   "metadata": {
    "executionInfo": {
     "elapsed": 6,
     "status": "ok",
     "timestamp": 1641079204407,
     "user": {
      "displayName": "Leela T",
      "photoUrl": "https://lh3.googleusercontent.com/a/default-user=s64",
      "userId": "12684795005480159959"
     },
     "user_tz": -60
    },
    "id": "nveOcgqhz5iV"
   },
   "outputs": [],
   "source": [
    "surface_3etoiles = camping[camping[\"classement\"] <= 3][\"nombre_d_emplacements\"]/100\n",
    "surface_5etoiles = camping[camping[\"classement\"] >= 4][\"nombre_d_emplacements\"]/80\n",
    "camping[\"surface\"] = pd.concat([surface_3etoiles, surface_5etoiles])"
   ]
  },
  {
   "cell_type": "code",
   "execution_count": 15,
   "metadata": {
    "executionInfo": {
     "elapsed": 7,
     "status": "ok",
     "timestamp": 1641079204408,
     "user": {
      "displayName": "Leela T",
      "photoUrl": "https://lh3.googleusercontent.com/a/default-user=s64",
      "userId": "12684795005480159959"
     },
     "user_tz": -60
    },
    "id": "C0xyQyRuPuOS"
   },
   "outputs": [],
   "source": [
    "camping = camping.rename(columns = {\"nom_commercial\" : \"Nom\", \"adresse\" : \"Adresse\", \"nombre_d_emplacements\" : \"Emplacements\", \"classement\" : \"Classement\", \"surface\" : \"Surface\"})"
   ]
  },
  {
   "cell_type": "code",
   "execution_count": 16,
   "metadata": {
    "colab": {
     "base_uri": "https://localhost:8080/"
    },
    "executionInfo": {
     "elapsed": 6,
     "status": "ok",
     "timestamp": 1641079204408,
     "user": {
      "displayName": "Leela T",
      "photoUrl": "https://lh3.googleusercontent.com/a/default-user=s64",
      "userId": "12684795005480159959"
     },
     "user_tz": -60
    },
    "id": "F8XKeNLu0MWz",
    "outputId": "0eb724f1-6fe3-4daa-c3e3-58236297d116"
   },
   "outputs": [
    {
     "name": "stderr",
     "output_type": "stream",
     "text": [
      "/usr/local/lib/python3.7/dist-packages/pyproj/crs/crs.py:131: FutureWarning: '+init=<authority>:<code>' syntax is deprecated. '<authority>:<code>' is the preferred initialization method. When making the change, be mindful of axis order changes: https://pyproj4.github.io/pyproj/stable/gotchas.html#axis-order-changes-in-proj-6\n",
      "  in_crs_string = _prepare_from_proj_string(in_crs_string)\n"
     ]
    }
   ],
   "source": [
    "camping.crs = {'init' :'epsg:4326'}\n",
    "camping = camping.to_crs(epsg = 4326)"
   ]
  },
  {
   "cell_type": "code",
   "execution_count": 17,
   "metadata": {
    "colab": {
     "base_uri": "https://localhost:8080/"
    },
    "executionInfo": {
     "elapsed": 544,
     "status": "ok",
     "timestamp": 1641079204948,
     "user": {
      "displayName": "Leela T",
      "photoUrl": "https://lh3.googleusercontent.com/a/default-user=s64",
      "userId": "12684795005480159959"
     },
     "user_tz": -60
    },
    "id": "2w0XlA5SnX02",
    "outputId": "e6b77d52-90be-4f4d-ca64-e8d49232a974"
   },
   "outputs": [
    {
     "name": "stderr",
     "output_type": "stream",
     "text": [
      "/usr/local/lib/python3.7/dist-packages/ipykernel_launcher.py:2: UserWarning: Geometry is in a geographic CRS. Results from 'centroid' are likely incorrect. Use 'GeoSeries.to_crs()' to re-project geometries to a projected CRS before this operation.\n",
      "\n",
      "  \n",
      "/usr/local/lib/python3.7/dist-packages/geopandas/geodataframe.py:1351: SettingWithCopyWarning: \n",
      "A value is trying to be set on a copy of a slice from a DataFrame.\n",
      "Try using .loc[row_indexer,col_indexer] = value instead\n",
      "\n",
      "See the caveats in the documentation: https://pandas.pydata.org/pandas-docs/stable/user_guide/indexing.html#returning-a-view-versus-a-copy\n",
      "  super().__setitem__(key, value)\n"
     ]
    }
   ],
   "source": [
    "hopitaux_idf = hopitaux[hopitaux[\"geometry\"].within(idf_polygon)]\n",
    "hopitaux_idf[\"geometry\"] = hopitaux_idf[\"geometry\"].centroid"
   ]
  },
  {
   "cell_type": "code",
   "execution_count": 18,
   "metadata": {
    "colab": {
     "base_uri": "https://localhost:8080/"
    },
    "executionInfo": {
     "elapsed": 20,
     "status": "ok",
     "timestamp": 1641079204949,
     "user": {
      "displayName": "Leela T",
      "photoUrl": "https://lh3.googleusercontent.com/a/default-user=s64",
      "userId": "12684795005480159959"
     },
     "user_tz": -60
    },
    "id": "qSNGThHSHfnQ",
    "outputId": "d4930d22-e418-481e-8cbf-4fc88d7abaaa"
   },
   "outputs": [
    {
     "name": "stderr",
     "output_type": "stream",
     "text": [
      "/usr/local/lib/python3.7/dist-packages/pyproj/crs/crs.py:131: FutureWarning: '+init=<authority>:<code>' syntax is deprecated. '<authority>:<code>' is the preferred initialization method. When making the change, be mindful of axis order changes: https://pyproj4.github.io/pyproj/stable/gotchas.html#axis-order-changes-in-proj-6\n",
      "  in_crs_string = _prepare_from_proj_string(in_crs_string)\n"
     ]
    }
   ],
   "source": [
    "hopitaux_idf.crs = {'init' :'epsg:4326'}\n",
    "hopitaux_idf = hopitaux_idf.to_crs(epsg = 4326)"
   ]
  },
  {
   "cell_type": "code",
   "execution_count": 19,
   "metadata": {
    "executionInfo": {
     "elapsed": 251,
     "status": "ok",
     "timestamp": 1641079205192,
     "user": {
      "displayName": "Leela T",
      "photoUrl": "https://lh3.googleusercontent.com/a/default-user=s64",
      "userId": "12684795005480159959"
     },
     "user_tz": -60
    },
    "id": "sBmSZPJC4X_8"
   },
   "outputs": [],
   "source": [
    "police = police.to_crs(epsg = 4326)"
   ]
  },
  {
   "cell_type": "code",
   "execution_count": 20,
   "metadata": {
    "executionInfo": {
     "elapsed": 798,
     "status": "ok",
     "timestamp": 1641079205986,
     "user": {
      "displayName": "Leela T",
      "photoUrl": "https://lh3.googleusercontent.com/a/default-user=s64",
      "userId": "12684795005480159959"
     },
     "user_tz": -60
    },
    "id": "yvyqXX3gxDw-"
   },
   "outputs": [],
   "source": [
    "police_idf = police[police['geometry'].within(idf_polygon)]"
   ]
  },
  {
   "cell_type": "code",
   "execution_count": 21,
   "metadata": {
    "colab": {
     "base_uri": "https://localhost:8080/"
    },
    "executionInfo": {
     "elapsed": 251,
     "status": "ok",
     "timestamp": 1641079206229,
     "user": {
      "displayName": "Leela T",
      "photoUrl": "https://lh3.googleusercontent.com/a/default-user=s64",
      "userId": "12684795005480159959"
     },
     "user_tz": -60
    },
    "id": "z5Yks7Oj0o2k",
    "outputId": "d911e74c-1bfe-43fe-ef6a-fe035cdffe9e"
   },
   "outputs": [
    {
     "name": "stderr",
     "output_type": "stream",
     "text": [
      "/usr/local/lib/python3.7/dist-packages/pyproj/crs/crs.py:131: FutureWarning: '+init=<authority>:<code>' syntax is deprecated. '<authority>:<code>' is the preferred initialization method. When making the change, be mindful of axis order changes: https://pyproj4.github.io/pyproj/stable/gotchas.html#axis-order-changes-in-proj-6\n",
      "  in_crs_string = _prepare_from_proj_string(in_crs_string)\n"
     ]
    }
   ],
   "source": [
    "police_idf.crs = {'init' :'epsg:4326'}\n",
    "police_idf = police_idf.to_crs(epsg = 4326)"
   ]
  },
  {
   "cell_type": "code",
   "execution_count": 22,
   "metadata": {
    "executionInfo": {
     "elapsed": 23466,
     "status": "ok",
     "timestamp": 1641079229693,
     "user": {
      "displayName": "Leela T",
      "photoUrl": "https://lh3.googleusercontent.com/a/default-user=s64",
      "userId": "12684795005480159959"
     },
     "user_tz": -60
    },
    "id": "jjaQKcAO4wnC"
   },
   "outputs": [],
   "source": [
    "mobile = mobile.to_crs(epsg = 4326)"
   ]
  },
  {
   "cell_type": "code",
   "execution_count": 23,
   "metadata": {
    "executionInfo": {
     "elapsed": 18,
     "status": "ok",
     "timestamp": 1641079229694,
     "user": {
      "displayName": "Leela T",
      "photoUrl": "https://lh3.googleusercontent.com/a/default-user=s64",
      "userId": "12684795005480159959"
     },
     "user_tz": -60
    },
    "id": "9ZH__15A30VS"
   },
   "outputs": [],
   "source": [
    "mobile_idf = mobile[mobile[\"dept\"].isin([\"75\", \"77\", \"78\", \"91\", \"92\", \"93\", \"94\", \"95\"])]"
   ]
  },
  {
   "cell_type": "code",
   "execution_count": 24,
   "metadata": {
    "executionInfo": {
     "elapsed": 588,
     "status": "ok",
     "timestamp": 1641079230266,
     "user": {
      "displayName": "Leela T",
      "photoUrl": "https://lh3.googleusercontent.com/a/default-user=s64",
      "userId": "12684795005480159959"
     },
     "user_tz": -60
    },
    "id": "BNab7EMr7XRU"
   },
   "outputs": [],
   "source": [
    "mobile_polygon = mobile_idf.geometry.unary_union\n",
    "sans_mobile_idf = idf_polygon.difference(mobile_polygon)\n",
    "sans_mobile_idf_df = gpd.GeoDataFrame(geometry = [sans_mobile_idf])"
   ]
  },
  {
   "cell_type": "code",
   "execution_count": 25,
   "metadata": {
    "colab": {
     "base_uri": "https://localhost:8080/"
    },
    "executionInfo": {
     "elapsed": 258,
     "status": "ok",
     "timestamp": 1641079230522,
     "user": {
      "displayName": "Leela T",
      "photoUrl": "https://lh3.googleusercontent.com/a/default-user=s64",
      "userId": "12684795005480159959"
     },
     "user_tz": -60
    },
    "id": "epvIay3N07G2",
    "outputId": "14a96e0c-67fe-4fc9-e964-0bc35ac9feda"
   },
   "outputs": [
    {
     "name": "stderr",
     "output_type": "stream",
     "text": [
      "/usr/local/lib/python3.7/dist-packages/pyproj/crs/crs.py:131: FutureWarning: '+init=<authority>:<code>' syntax is deprecated. '<authority>:<code>' is the preferred initialization method. When making the change, be mindful of axis order changes: https://pyproj4.github.io/pyproj/stable/gotchas.html#axis-order-changes-in-proj-6\n",
      "  in_crs_string = _prepare_from_proj_string(in_crs_string)\n"
     ]
    }
   ],
   "source": [
    "sans_mobile_idf_df.crs = {'init' :'epsg:4326'}\n",
    "sans_mobile_idf_df = sans_mobile_idf_df.to_crs(epsg = 4326)"
   ]
  },
  {
   "cell_type": "code",
   "execution_count": 26,
   "metadata": {
    "executionInfo": {
     "elapsed": 270,
     "status": "ok",
     "timestamp": 1641079230790,
     "user": {
      "displayName": "Leela T",
      "photoUrl": "https://lh3.googleusercontent.com/a/default-user=s64",
      "userId": "12684795005480159959"
     },
     "user_tz": -60
    },
    "id": "mEy6AgoZ8an-"
   },
   "outputs": [],
   "source": [
    "defibrillateurs = defibrillateurs.to_crs(epsg = 4326)"
   ]
  },
  {
   "cell_type": "code",
   "execution_count": 27,
   "metadata": {
    "colab": {
     "base_uri": "https://localhost:8080/"
    },
    "executionInfo": {
     "elapsed": 7272,
     "status": "ok",
     "timestamp": 1641079238058,
     "user": {
      "displayName": "Leela T",
      "photoUrl": "https://lh3.googleusercontent.com/a/default-user=s64",
      "userId": "12684795005480159959"
     },
     "user_tz": -60
    },
    "id": "lXLAY3Km8hE4",
    "outputId": "da459e44-e620-4f60-a668-a46f63731897"
   },
   "outputs": [
    {
     "name": "stderr",
     "output_type": "stream",
     "text": [
      "/usr/local/lib/python3.7/dist-packages/ipykernel_launcher.py:2: UserWarning: Geometry is in a geographic CRS. Results from 'centroid' are likely incorrect. Use 'GeoSeries.to_crs()' to re-project geometries to a projected CRS before this operation.\n",
      "\n",
      "  \n",
      "/usr/local/lib/python3.7/dist-packages/geopandas/geodataframe.py:1351: SettingWithCopyWarning: \n",
      "A value is trying to be set on a copy of a slice from a DataFrame.\n",
      "Try using .loc[row_indexer,col_indexer] = value instead\n",
      "\n",
      "See the caveats in the documentation: https://pandas.pydata.org/pandas-docs/stable/user_guide/indexing.html#returning-a-view-versus-a-copy\n",
      "  super().__setitem__(key, value)\n"
     ]
    }
   ],
   "source": [
    "defibrillateurs_idf = defibrillateurs[defibrillateurs[\"geometry\"].within(idf_polygon)]\n",
    "defibrillateurs_idf[\"geometry\"] = defibrillateurs_idf[\"geometry\"].centroid"
   ]
  },
  {
   "cell_type": "code",
   "execution_count": 28,
   "metadata": {
    "colab": {
     "base_uri": "https://localhost:8080/"
    },
    "executionInfo": {
     "elapsed": 254,
     "status": "ok",
     "timestamp": 1641079238298,
     "user": {
      "displayName": "Leela T",
      "photoUrl": "https://lh3.googleusercontent.com/a/default-user=s64",
      "userId": "12684795005480159959"
     },
     "user_tz": -60
    },
    "id": "u1hsQ9B38vwB",
    "outputId": "4e11f359-0cf5-485a-bc99-d8a68c2c32e5"
   },
   "outputs": [
    {
     "name": "stderr",
     "output_type": "stream",
     "text": [
      "/usr/local/lib/python3.7/dist-packages/pyproj/crs/crs.py:131: FutureWarning: '+init=<authority>:<code>' syntax is deprecated. '<authority>:<code>' is the preferred initialization method. When making the change, be mindful of axis order changes: https://pyproj4.github.io/pyproj/stable/gotchas.html#axis-order-changes-in-proj-6\n",
      "  in_crs_string = _prepare_from_proj_string(in_crs_string)\n"
     ]
    }
   ],
   "source": [
    "defibrillateurs_idf.crs = {'init' :'epsg:4326'}\n",
    "defibrillateurs_idf = defibrillateurs_idf.to_crs(epsg = 4326)"
   ]
  },
  {
   "cell_type": "code",
   "execution_count": 29,
   "metadata": {
    "colab": {
     "base_uri": "https://localhost:8080/",
     "height": 789,
     "output_embedded_package_id": "1-MYeP5YEIfOmIwUkXw-Y71AQNrUanbPj"
    },
    "executionInfo": {
     "elapsed": 12018,
     "status": "ok",
     "timestamp": 1641079250315,
     "user": {
      "displayName": "Leela T",
      "photoUrl": "https://lh3.googleusercontent.com/a/default-user=s64",
      "userId": "12684795005480159959"
     },
     "user_tz": -60
    },
    "id": "lMyACM4AaGMJ",
    "outputId": "164479b3-d711-477e-a4a2-45edf26613f2"
   },
   "outputs": [
    {
     "data": {
      "text/plain": [
       "Output hidden; open in https://colab.research.google.com to view."
      ]
     },
     "metadata": {},
     "output_type": "display_data"
    }
   ],
   "source": [
    "m = communes[communes['dep'].isin(['75', '92', '93', '94', '78', '91', '77', '95'])].plot_bokeh(line_width = 0.1, fill_alpha = 0, legend = \"Communes\", title = \"Sites de Camping en Ile-de-France\", show_figure = False)\n",
    "m.width = 1000\n",
    "m.height = 700\n",
    "departements_idf.plot_bokeh(figure = m, line_color = \"black\", fill_alpha = 0.3, color = \"blue\", legend = \"Départements\", show_figure = False)\n",
    "sans_mobile_idf_df.plot_bokeh(figure = m, legend = \"Pas de Couverture Mobile\", color = \"grey\", line_width = 0.5, show_figure = False)\n",
    "defibrillateurs_idf.plot_bokeh(figure = m, legend = \"Défibrillateurs\", size = 0.5, color = \"green\", show_figure = False)\n",
    "police_idf.plot_bokeh(figure = m, color = \"blue\", size = 2, legend = \"Police/Gendarmerie\", hovertool_columns = [\"official_name\"], show_figure = False)\n",
    "hopitaux_idf.plot_bokeh(figure = m, color = \"yellow\", size = 2, legend = \"Hôpitaux/Cliniques\",hovertool_columns = [\"name\"], show_figure = False)\n",
    "camping.plot_bokeh(figure = m, size = 5, legend = \"Campings (classés)\", category = \"Classement\", colormap = \"Reds\", hovertool_columns = [\"Nom\", \"Adresse\", \"Emplacements\", \"Classement\", \"Surface\"])"
   ]
  },
  {
   "cell_type": "code",
   "execution_count": 30,
   "metadata": {
    "executionInfo": {
     "elapsed": 103,
     "status": "ok",
     "timestamp": 1641079250317,
     "user": {
      "displayName": "Leela T",
      "photoUrl": "https://lh3.googleusercontent.com/a/default-user=s64",
      "userId": "12684795005480159959"
     },
     "user_tz": -60
    },
    "id": "NReh3Rvq5e9s"
   },
   "outputs": [],
   "source": [
    "#visualiser les défibrillateurs a moins de 50m des sites de camping?\n",
    "#visualiser les sites sans couverture mobile?\n",
    "#footnote :ecrire ce que veut dire les etoiles des sites veulent dire (connexion Internet,  permanence 24h/24) en bas du graphique ou en haut"
   ]
  },
  {
   "cell_type": "code",
   "execution_count": 31,
   "metadata": {
    "colab": {
     "base_uri": "https://localhost:8080/",
     "height": 310
    },
    "executionInfo": {
     "elapsed": 100,
     "status": "ok",
     "timestamp": 1641079250318,
     "user": {
      "displayName": "Leela T",
      "photoUrl": "https://lh3.googleusercontent.com/a/default-user=s64",
      "userId": "12684795005480159959"
     },
     "user_tz": -60
    },
    "id": "f5wV7OaCVJyd",
    "outputId": "311f8ef8-ce94-4897-dd65-5f2d74cb14ed"
   },
   "outputs": [
    {
     "name": "stderr",
     "output_type": "stream",
     "text": [
      "/usr/local/lib/python3.7/dist-packages/geopandas/geodataframe.py:1351: SettingWithCopyWarning: \n",
      "A value is trying to be set on a copy of a slice from a DataFrame.\n",
      "Try using .loc[row_indexer,col_indexer] = value instead\n",
      "\n",
      "See the caveats in the documentation: https://pandas.pydata.org/pandas-docs/stable/user_guide/indexing.html#returning-a-view-versus-a-copy\n",
      "  super().__setitem__(key, value)\n"
     ]
    },
    {
     "data": {
      "text/html": [
       "\n",
       "  <div id=\"df-dfdaef72-b9a9-4a26-9b3b-5b853c271af9\">\n",
       "    <div class=\"colab-df-container\">\n",
       "      <div>\n",
       "<style scoped>\n",
       "    .dataframe tbody tr th:only-of-type {\n",
       "        vertical-align: middle;\n",
       "    }\n",
       "\n",
       "    .dataframe tbody tr th {\n",
       "        vertical-align: top;\n",
       "    }\n",
       "\n",
       "    .dataframe thead th {\n",
       "        text-align: right;\n",
       "    }\n",
       "</style>\n",
       "<table border=\"1\" class=\"dataframe\">\n",
       "  <thead>\n",
       "    <tr style=\"text-align: right;\">\n",
       "      <th></th>\n",
       "      <th>insee</th>\n",
       "      <th>Nom</th>\n",
       "      <th>Surface</th>\n",
       "      <th>geometry</th>\n",
       "      <th>dep</th>\n",
       "      <th>type</th>\n",
       "    </tr>\n",
       "  </thead>\n",
       "  <tbody>\n",
       "    <tr>\n",
       "      <th>3981</th>\n",
       "      <td>91556</td>\n",
       "      <td>Saint-Hilaire</td>\n",
       "      <td>681.0</td>\n",
       "      <td>POLYGON ((2.06320 48.44342, 2.07049 48.44691, ...</td>\n",
       "      <td>91</td>\n",
       "      <td>communes</td>\n",
       "    </tr>\n",
       "    <tr>\n",
       "      <th>3997</th>\n",
       "      <td>91148</td>\n",
       "      <td>Chauffour-lès-Étréchy</td>\n",
       "      <td>481.0</td>\n",
       "      <td>POLYGON ((2.15000 48.50944, 2.15287 48.50948, ...</td>\n",
       "      <td>91</td>\n",
       "      <td>communes</td>\n",
       "    </tr>\n",
       "    <tr>\n",
       "      <th>3998</th>\n",
       "      <td>77395</td>\n",
       "      <td>Rumont</td>\n",
       "      <td>660.0</td>\n",
       "      <td>POLYGON ((2.47361 48.27058, 2.47758 48.27101, ...</td>\n",
       "      <td>77</td>\n",
       "      <td>communes</td>\n",
       "    </tr>\n",
       "    <tr>\n",
       "      <th>3999</th>\n",
       "      <td>77003</td>\n",
       "      <td>Amponville</td>\n",
       "      <td>1193.0</td>\n",
       "      <td>POLYGON ((2.50261 48.28749, 2.50728 48.28815, ...</td>\n",
       "      <td>77</td>\n",
       "      <td>communes</td>\n",
       "    </tr>\n",
       "    <tr>\n",
       "      <th>4000</th>\n",
       "      <td>77041</td>\n",
       "      <td>Boissy-aux-Cailles</td>\n",
       "      <td>1638.0</td>\n",
       "      <td>POLYGON ((2.45610 48.32177, 2.45994 48.32128, ...</td>\n",
       "      <td>77</td>\n",
       "      <td>communes</td>\n",
       "    </tr>\n",
       "  </tbody>\n",
       "</table>\n",
       "</div>\n",
       "      <button class=\"colab-df-convert\" onclick=\"convertToInteractive('df-dfdaef72-b9a9-4a26-9b3b-5b853c271af9')\"\n",
       "              title=\"Convert this dataframe to an interactive table.\"\n",
       "              style=\"display:none;\">\n",
       "        \n",
       "  <svg xmlns=\"http://www.w3.org/2000/svg\" height=\"24px\"viewBox=\"0 0 24 24\"\n",
       "       width=\"24px\">\n",
       "    <path d=\"M0 0h24v24H0V0z\" fill=\"none\"/>\n",
       "    <path d=\"M18.56 5.44l.94 2.06.94-2.06 2.06-.94-2.06-.94-.94-2.06-.94 2.06-2.06.94zm-11 1L8.5 8.5l.94-2.06 2.06-.94-2.06-.94L8.5 2.5l-.94 2.06-2.06.94zm10 10l.94 2.06.94-2.06 2.06-.94-2.06-.94-.94-2.06-.94 2.06-2.06.94z\"/><path d=\"M17.41 7.96l-1.37-1.37c-.4-.4-.92-.59-1.43-.59-.52 0-1.04.2-1.43.59L10.3 9.45l-7.72 7.72c-.78.78-.78 2.05 0 2.83L4 21.41c.39.39.9.59 1.41.59.51 0 1.02-.2 1.41-.59l7.78-7.78 2.81-2.81c.8-.78.8-2.07 0-2.86zM5.41 20L4 18.59l7.72-7.72 1.47 1.35L5.41 20z\"/>\n",
       "  </svg>\n",
       "      </button>\n",
       "      \n",
       "  <style>\n",
       "    .colab-df-container {\n",
       "      display:flex;\n",
       "      flex-wrap:wrap;\n",
       "      gap: 12px;\n",
       "    }\n",
       "\n",
       "    .colab-df-convert {\n",
       "      background-color: #E8F0FE;\n",
       "      border: none;\n",
       "      border-radius: 50%;\n",
       "      cursor: pointer;\n",
       "      display: none;\n",
       "      fill: #1967D2;\n",
       "      height: 32px;\n",
       "      padding: 0 0 0 0;\n",
       "      width: 32px;\n",
       "    }\n",
       "\n",
       "    .colab-df-convert:hover {\n",
       "      background-color: #E2EBFA;\n",
       "      box-shadow: 0px 1px 2px rgba(60, 64, 67, 0.3), 0px 1px 3px 1px rgba(60, 64, 67, 0.15);\n",
       "      fill: #174EA6;\n",
       "    }\n",
       "\n",
       "    [theme=dark] .colab-df-convert {\n",
       "      background-color: #3B4455;\n",
       "      fill: #D2E3FC;\n",
       "    }\n",
       "\n",
       "    [theme=dark] .colab-df-convert:hover {\n",
       "      background-color: #434B5C;\n",
       "      box-shadow: 0px 1px 3px 1px rgba(0, 0, 0, 0.15);\n",
       "      filter: drop-shadow(0px 1px 2px rgba(0, 0, 0, 0.3));\n",
       "      fill: #FFFFFF;\n",
       "    }\n",
       "  </style>\n",
       "\n",
       "      <script>\n",
       "        const buttonEl =\n",
       "          document.querySelector('#df-dfdaef72-b9a9-4a26-9b3b-5b853c271af9 button.colab-df-convert');\n",
       "        buttonEl.style.display =\n",
       "          google.colab.kernel.accessAllowed ? 'block' : 'none';\n",
       "\n",
       "        async function convertToInteractive(key) {\n",
       "          const element = document.querySelector('#df-dfdaef72-b9a9-4a26-9b3b-5b853c271af9');\n",
       "          const dataTable =\n",
       "            await google.colab.kernel.invokeFunction('convertToInteractive',\n",
       "                                                     [key], {});\n",
       "          if (!dataTable) return;\n",
       "\n",
       "          const docLinkHtml = 'Like what you see? Visit the ' +\n",
       "            '<a target=\"_blank\" href=https://colab.research.google.com/notebooks/data_table.ipynb>data table notebook</a>'\n",
       "            + ' to learn more about interactive tables.';\n",
       "          element.innerHTML = '';\n",
       "          dataTable['output_type'] = 'display_data';\n",
       "          await google.colab.output.renderOutput(dataTable, element);\n",
       "          const docLink = document.createElement('div');\n",
       "          docLink.innerHTML = docLinkHtml;\n",
       "          element.appendChild(docLink);\n",
       "        }\n",
       "      </script>\n",
       "    </div>\n",
       "  </div>\n",
       "  "
      ],
      "text/plain": [
       "      insee                    Nom  ...  dep      type\n",
       "3981  91556          Saint-Hilaire  ...   91  communes\n",
       "3997  91148  Chauffour-lès-Étréchy  ...   91  communes\n",
       "3998  77395                 Rumont  ...   77  communes\n",
       "3999  77003             Amponville  ...   77  communes\n",
       "4000  77041     Boissy-aux-Cailles  ...   77  communes\n",
       "\n",
       "[5 rows x 6 columns]"
      ]
     },
     "execution_count": 31,
     "metadata": {},
     "output_type": "execute_result"
    }
   ],
   "source": [
    "communes_idf = communes[communes['dep'].isin(['75', '92', '93', '94', '78', '91', '77', '95'])]\n",
    "communes_fusion = communes_idf[[\"insee\", \"nom\", \"surf_ha\", \"geometry\", \"dep\"]]\n",
    "communes_fusion[\"type\"] = \"communes\"\n",
    "communes_fusion = communes_fusion.rename(columns = {\"nom\" : \"Nom\", \"surf_ha\" : \"Surface\"})\n",
    "communes_fusion.head()"
   ]
  },
  {
   "cell_type": "code",
   "execution_count": 32,
   "metadata": {
    "colab": {
     "base_uri": "https://localhost:8080/",
     "height": 206
    },
    "executionInfo": {
     "elapsed": 97,
     "status": "ok",
     "timestamp": 1641079250320,
     "user": {
      "displayName": "Leela T",
      "photoUrl": "https://lh3.googleusercontent.com/a/default-user=s64",
      "userId": "12684795005480159959"
     },
     "user_tz": -60
    },
    "id": "CzHfLtFmVjyE",
    "outputId": "378d2ff9-49c9-4506-99c5-c9b31654c5dd"
   },
   "outputs": [
    {
     "data": {
      "text/html": [
       "\n",
       "  <div id=\"df-b85046b4-1271-4c78-9795-05cd6852b527\">\n",
       "    <div class=\"colab-df-container\">\n",
       "      <div>\n",
       "<style scoped>\n",
       "    .dataframe tbody tr th:only-of-type {\n",
       "        vertical-align: middle;\n",
       "    }\n",
       "\n",
       "    .dataframe tbody tr th {\n",
       "        vertical-align: top;\n",
       "    }\n",
       "\n",
       "    .dataframe thead th {\n",
       "        text-align: right;\n",
       "    }\n",
       "</style>\n",
       "<table border=\"1\" class=\"dataframe\">\n",
       "  <thead>\n",
       "    <tr style=\"text-align: right;\">\n",
       "      <th></th>\n",
       "      <th>geometry</th>\n",
       "      <th>type</th>\n",
       "    </tr>\n",
       "  </thead>\n",
       "  <tbody>\n",
       "    <tr>\n",
       "      <th>0</th>\n",
       "      <td>POLYGON ((2.34308 48.81609, 2.34171 48.81634, ...</td>\n",
       "      <td>departements</td>\n",
       "    </tr>\n",
       "    <tr>\n",
       "      <th>0</th>\n",
       "      <td>POLYGON ((1.98086 48.31874, 1.97431 48.32335, ...</td>\n",
       "      <td>departements</td>\n",
       "    </tr>\n",
       "    <tr>\n",
       "      <th>0</th>\n",
       "      <td>POLYGON ((2.57177 48.69199, 2.56613 48.69180, ...</td>\n",
       "      <td>departements</td>\n",
       "    </tr>\n",
       "    <tr>\n",
       "      <th>0</th>\n",
       "      <td>POLYGON ((2.46743 48.14825, 2.47460 48.14900, ...</td>\n",
       "      <td>departements</td>\n",
       "    </tr>\n",
       "    <tr>\n",
       "      <th>0</th>\n",
       "      <td>POLYGON ((1.86401 48.44458, 1.86104 48.44440, ...</td>\n",
       "      <td>departements</td>\n",
       "    </tr>\n",
       "  </tbody>\n",
       "</table>\n",
       "</div>\n",
       "      <button class=\"colab-df-convert\" onclick=\"convertToInteractive('df-b85046b4-1271-4c78-9795-05cd6852b527')\"\n",
       "              title=\"Convert this dataframe to an interactive table.\"\n",
       "              style=\"display:none;\">\n",
       "        \n",
       "  <svg xmlns=\"http://www.w3.org/2000/svg\" height=\"24px\"viewBox=\"0 0 24 24\"\n",
       "       width=\"24px\">\n",
       "    <path d=\"M0 0h24v24H0V0z\" fill=\"none\"/>\n",
       "    <path d=\"M18.56 5.44l.94 2.06.94-2.06 2.06-.94-2.06-.94-.94-2.06-.94 2.06-2.06.94zm-11 1L8.5 8.5l.94-2.06 2.06-.94-2.06-.94L8.5 2.5l-.94 2.06-2.06.94zm10 10l.94 2.06.94-2.06 2.06-.94-2.06-.94-.94-2.06-.94 2.06-2.06.94z\"/><path d=\"M17.41 7.96l-1.37-1.37c-.4-.4-.92-.59-1.43-.59-.52 0-1.04.2-1.43.59L10.3 9.45l-7.72 7.72c-.78.78-.78 2.05 0 2.83L4 21.41c.39.39.9.59 1.41.59.51 0 1.02-.2 1.41-.59l7.78-7.78 2.81-2.81c.8-.78.8-2.07 0-2.86zM5.41 20L4 18.59l7.72-7.72 1.47 1.35L5.41 20z\"/>\n",
       "  </svg>\n",
       "      </button>\n",
       "      \n",
       "  <style>\n",
       "    .colab-df-container {\n",
       "      display:flex;\n",
       "      flex-wrap:wrap;\n",
       "      gap: 12px;\n",
       "    }\n",
       "\n",
       "    .colab-df-convert {\n",
       "      background-color: #E8F0FE;\n",
       "      border: none;\n",
       "      border-radius: 50%;\n",
       "      cursor: pointer;\n",
       "      display: none;\n",
       "      fill: #1967D2;\n",
       "      height: 32px;\n",
       "      padding: 0 0 0 0;\n",
       "      width: 32px;\n",
       "    }\n",
       "\n",
       "    .colab-df-convert:hover {\n",
       "      background-color: #E2EBFA;\n",
       "      box-shadow: 0px 1px 2px rgba(60, 64, 67, 0.3), 0px 1px 3px 1px rgba(60, 64, 67, 0.15);\n",
       "      fill: #174EA6;\n",
       "    }\n",
       "\n",
       "    [theme=dark] .colab-df-convert {\n",
       "      background-color: #3B4455;\n",
       "      fill: #D2E3FC;\n",
       "    }\n",
       "\n",
       "    [theme=dark] .colab-df-convert:hover {\n",
       "      background-color: #434B5C;\n",
       "      box-shadow: 0px 1px 3px 1px rgba(0, 0, 0, 0.15);\n",
       "      filter: drop-shadow(0px 1px 2px rgba(0, 0, 0, 0.3));\n",
       "      fill: #FFFFFF;\n",
       "    }\n",
       "  </style>\n",
       "\n",
       "      <script>\n",
       "        const buttonEl =\n",
       "          document.querySelector('#df-b85046b4-1271-4c78-9795-05cd6852b527 button.colab-df-convert');\n",
       "        buttonEl.style.display =\n",
       "          google.colab.kernel.accessAllowed ? 'block' : 'none';\n",
       "\n",
       "        async function convertToInteractive(key) {\n",
       "          const element = document.querySelector('#df-b85046b4-1271-4c78-9795-05cd6852b527');\n",
       "          const dataTable =\n",
       "            await google.colab.kernel.invokeFunction('convertToInteractive',\n",
       "                                                     [key], {});\n",
       "          if (!dataTable) return;\n",
       "\n",
       "          const docLinkHtml = 'Like what you see? Visit the ' +\n",
       "            '<a target=\"_blank\" href=https://colab.research.google.com/notebooks/data_table.ipynb>data table notebook</a>'\n",
       "            + ' to learn more about interactive tables.';\n",
       "          element.innerHTML = '';\n",
       "          dataTable['output_type'] = 'display_data';\n",
       "          await google.colab.output.renderOutput(dataTable, element);\n",
       "          const docLink = document.createElement('div');\n",
       "          docLink.innerHTML = docLinkHtml;\n",
       "          element.appendChild(docLink);\n",
       "        }\n",
       "      </script>\n",
       "    </div>\n",
       "  </div>\n",
       "  "
      ],
      "text/plain": [
       "                                            geometry          type\n",
       "0  POLYGON ((2.34308 48.81609, 2.34171 48.81634, ...  departements\n",
       "0  POLYGON ((1.98086 48.31874, 1.97431 48.32335, ...  departements\n",
       "0  POLYGON ((2.57177 48.69199, 2.56613 48.69180, ...  departements\n",
       "0  POLYGON ((2.46743 48.14825, 2.47460 48.14900, ...  departements\n",
       "0  POLYGON ((1.86401 48.44458, 1.86104 48.44440, ...  departements"
      ]
     },
     "execution_count": 32,
     "metadata": {},
     "output_type": "execute_result"
    }
   ],
   "source": [
    "departements_fusion = departements_idf\n",
    "departements_fusion[\"type\"] = \"departements\"\n",
    "departements_fusion.head()"
   ]
  },
  {
   "cell_type": "code",
   "execution_count": 33,
   "metadata": {
    "colab": {
     "base_uri": "https://localhost:8080/",
     "height": 310
    },
    "executionInfo": {
     "elapsed": 96,
     "status": "ok",
     "timestamp": 1641079250321,
     "user": {
      "displayName": "Leela T",
      "photoUrl": "https://lh3.googleusercontent.com/a/default-user=s64",
      "userId": "12684795005480159959"
     },
     "user_tz": -60
    },
    "id": "0tIQ5DD1VmS0",
    "outputId": "cf41f68e-0c56-43ba-a14d-bfab0fe2ef68"
   },
   "outputs": [
    {
     "name": "stderr",
     "output_type": "stream",
     "text": [
      "/usr/local/lib/python3.7/dist-packages/geopandas/geodataframe.py:1351: SettingWithCopyWarning: \n",
      "A value is trying to be set on a copy of a slice from a DataFrame.\n",
      "Try using .loc[row_indexer,col_indexer] = value instead\n",
      "\n",
      "See the caveats in the documentation: https://pandas.pydata.org/pandas-docs/stable/user_guide/indexing.html#returning-a-view-versus-a-copy\n",
      "  super().__setitem__(key, value)\n"
     ]
    },
    {
     "data": {
      "text/html": [
       "\n",
       "  <div id=\"df-92de49b3-557b-47f7-b0e2-6e2f47306174\">\n",
       "    <div class=\"colab-df-container\">\n",
       "      <div>\n",
       "<style scoped>\n",
       "    .dataframe tbody tr th:only-of-type {\n",
       "        vertical-align: middle;\n",
       "    }\n",
       "\n",
       "    .dataframe tbody tr th {\n",
       "        vertical-align: top;\n",
       "    }\n",
       "\n",
       "    .dataframe thead th {\n",
       "        text-align: right;\n",
       "    }\n",
       "</style>\n",
       "<table border=\"1\" class=\"dataframe\">\n",
       "  <thead>\n",
       "    <tr style=\"text-align: right;\">\n",
       "      <th></th>\n",
       "      <th>Adresse_full</th>\n",
       "      <th>dep</th>\n",
       "      <th>Emplacements</th>\n",
       "      <th>Nom</th>\n",
       "      <th>Classement</th>\n",
       "      <th>commune</th>\n",
       "      <th>code_postal</th>\n",
       "      <th>geometry</th>\n",
       "      <th>Surface</th>\n",
       "      <th>type</th>\n",
       "    </tr>\n",
       "  </thead>\n",
       "  <tbody>\n",
       "    <tr>\n",
       "      <th>0</th>\n",
       "      <td>Route du Château d'eau</td>\n",
       "      <td>78</td>\n",
       "      <td>180</td>\n",
       "      <td>CAMPING HUTTOPIA RAMBOUILLET</td>\n",
       "      <td>3</td>\n",
       "      <td>RAMBOUILLET</td>\n",
       "      <td>78120</td>\n",
       "      <td>POINT (1.83569 48.63006)</td>\n",
       "      <td>1.800</td>\n",
       "      <td>camping</td>\n",
       "    </tr>\n",
       "    <tr>\n",
       "      <th>1</th>\n",
       "      <td>11 CHEMIN DU CAMPING</td>\n",
       "      <td>77</td>\n",
       "      <td>440</td>\n",
       "      <td>CAMPING LES PRÉS DE LA FONTAINE</td>\n",
       "      <td>3</td>\n",
       "      <td>HERMÉ</td>\n",
       "      <td>77114</td>\n",
       "      <td>POINT (3.33855 48.47278)</td>\n",
       "      <td>4.400</td>\n",
       "      <td>camping</td>\n",
       "    </tr>\n",
       "    <tr>\n",
       "      <th>2</th>\n",
       "      <td>26 Route de Vauvert</td>\n",
       "      <td>91</td>\n",
       "      <td>230</td>\n",
       "      <td>CARAVANING LE VAUVERT</td>\n",
       "      <td>4</td>\n",
       "      <td>ORMOY-LA-RIVIÈRE</td>\n",
       "      <td>91150</td>\n",
       "      <td>POINT (2.14394 48.41128)</td>\n",
       "      <td>2.875</td>\n",
       "      <td>camping</td>\n",
       "    </tr>\n",
       "    <tr>\n",
       "      <th>3</th>\n",
       "      <td>chemin des ponceaux</td>\n",
       "      <td>77</td>\n",
       "      <td>140</td>\n",
       "      <td>CAMPING LES ACACIAS</td>\n",
       "      <td>2</td>\n",
       "      <td>BETON-BAZOCHES</td>\n",
       "      <td>77320</td>\n",
       "      <td>POINT (3.23946 48.70700)</td>\n",
       "      <td>1.400</td>\n",
       "      <td>camping</td>\n",
       "    </tr>\n",
       "    <tr>\n",
       "      <th>4</th>\n",
       "      <td>24 Place de la gare de Faremoutiers</td>\n",
       "      <td>77</td>\n",
       "      <td>316</td>\n",
       "      <td>LE CHÊNE GRIS</td>\n",
       "      <td>4</td>\n",
       "      <td>POMMEUSE</td>\n",
       "      <td>77515</td>\n",
       "      <td>POINT (2.99998 48.80051)</td>\n",
       "      <td>3.950</td>\n",
       "      <td>camping</td>\n",
       "    </tr>\n",
       "  </tbody>\n",
       "</table>\n",
       "</div>\n",
       "      <button class=\"colab-df-convert\" onclick=\"convertToInteractive('df-92de49b3-557b-47f7-b0e2-6e2f47306174')\"\n",
       "              title=\"Convert this dataframe to an interactive table.\"\n",
       "              style=\"display:none;\">\n",
       "        \n",
       "  <svg xmlns=\"http://www.w3.org/2000/svg\" height=\"24px\"viewBox=\"0 0 24 24\"\n",
       "       width=\"24px\">\n",
       "    <path d=\"M0 0h24v24H0V0z\" fill=\"none\"/>\n",
       "    <path d=\"M18.56 5.44l.94 2.06.94-2.06 2.06-.94-2.06-.94-.94-2.06-.94 2.06-2.06.94zm-11 1L8.5 8.5l.94-2.06 2.06-.94-2.06-.94L8.5 2.5l-.94 2.06-2.06.94zm10 10l.94 2.06.94-2.06 2.06-.94-2.06-.94-.94-2.06-.94 2.06-2.06.94z\"/><path d=\"M17.41 7.96l-1.37-1.37c-.4-.4-.92-.59-1.43-.59-.52 0-1.04.2-1.43.59L10.3 9.45l-7.72 7.72c-.78.78-.78 2.05 0 2.83L4 21.41c.39.39.9.59 1.41.59.51 0 1.02-.2 1.41-.59l7.78-7.78 2.81-2.81c.8-.78.8-2.07 0-2.86zM5.41 20L4 18.59l7.72-7.72 1.47 1.35L5.41 20z\"/>\n",
       "  </svg>\n",
       "      </button>\n",
       "      \n",
       "  <style>\n",
       "    .colab-df-container {\n",
       "      display:flex;\n",
       "      flex-wrap:wrap;\n",
       "      gap: 12px;\n",
       "    }\n",
       "\n",
       "    .colab-df-convert {\n",
       "      background-color: #E8F0FE;\n",
       "      border: none;\n",
       "      border-radius: 50%;\n",
       "      cursor: pointer;\n",
       "      display: none;\n",
       "      fill: #1967D2;\n",
       "      height: 32px;\n",
       "      padding: 0 0 0 0;\n",
       "      width: 32px;\n",
       "    }\n",
       "\n",
       "    .colab-df-convert:hover {\n",
       "      background-color: #E2EBFA;\n",
       "      box-shadow: 0px 1px 2px rgba(60, 64, 67, 0.3), 0px 1px 3px 1px rgba(60, 64, 67, 0.15);\n",
       "      fill: #174EA6;\n",
       "    }\n",
       "\n",
       "    [theme=dark] .colab-df-convert {\n",
       "      background-color: #3B4455;\n",
       "      fill: #D2E3FC;\n",
       "    }\n",
       "\n",
       "    [theme=dark] .colab-df-convert:hover {\n",
       "      background-color: #434B5C;\n",
       "      box-shadow: 0px 1px 3px 1px rgba(0, 0, 0, 0.15);\n",
       "      filter: drop-shadow(0px 1px 2px rgba(0, 0, 0, 0.3));\n",
       "      fill: #FFFFFF;\n",
       "    }\n",
       "  </style>\n",
       "\n",
       "      <script>\n",
       "        const buttonEl =\n",
       "          document.querySelector('#df-92de49b3-557b-47f7-b0e2-6e2f47306174 button.colab-df-convert');\n",
       "        buttonEl.style.display =\n",
       "          google.colab.kernel.accessAllowed ? 'block' : 'none';\n",
       "\n",
       "        async function convertToInteractive(key) {\n",
       "          const element = document.querySelector('#df-92de49b3-557b-47f7-b0e2-6e2f47306174');\n",
       "          const dataTable =\n",
       "            await google.colab.kernel.invokeFunction('convertToInteractive',\n",
       "                                                     [key], {});\n",
       "          if (!dataTable) return;\n",
       "\n",
       "          const docLinkHtml = 'Like what you see? Visit the ' +\n",
       "            '<a target=\"_blank\" href=https://colab.research.google.com/notebooks/data_table.ipynb>data table notebook</a>'\n",
       "            + ' to learn more about interactive tables.';\n",
       "          element.innerHTML = '';\n",
       "          dataTable['output_type'] = 'display_data';\n",
       "          await google.colab.output.renderOutput(dataTable, element);\n",
       "          const docLink = document.createElement('div');\n",
       "          docLink.innerHTML = docLinkHtml;\n",
       "          element.appendChild(docLink);\n",
       "        }\n",
       "      </script>\n",
       "    </div>\n",
       "  </div>\n",
       "  "
      ],
      "text/plain": [
       "                          Adresse_full  dep  ...  Surface     type\n",
       "0               Route du Château d'eau   78  ...    1.800  camping\n",
       "1                 11 CHEMIN DU CAMPING   77  ...    4.400  camping\n",
       "2                  26 Route de Vauvert   91  ...    2.875  camping\n",
       "3                  chemin des ponceaux   77  ...    1.400  camping\n",
       "4  24 Place de la gare de Faremoutiers   77  ...    3.950  camping\n",
       "\n",
       "[5 rows x 10 columns]"
      ]
     },
     "execution_count": 33,
     "metadata": {},
     "output_type": "execute_result"
    }
   ],
   "source": [
    "camping_fusion = camping[[\"Adresse\", \"dep\", \"Emplacements\", \"Nom\", \"Classement\", \"commune\", \"code_postal\", \"geometry\", \"Surface\"]]\n",
    "camping_fusion[\"type\"] = \"camping\"\n",
    "camping_fusion = camping_fusion.rename(columns = {\"Adresse\" : \"Adresse_full\"})\n",
    "camping_fusion.head()"
   ]
  },
  {
   "cell_type": "code",
   "execution_count": 35,
   "metadata": {
    "colab": {
     "base_uri": "https://localhost:8080/",
     "height": 310
    },
    "executionInfo": {
     "elapsed": 554,
     "status": "ok",
     "timestamp": 1641079274058,
     "user": {
      "displayName": "Leela T",
      "photoUrl": "https://lh3.googleusercontent.com/a/default-user=s64",
      "userId": "12684795005480159959"
     },
     "user_tz": -60
    },
    "id": "EzFpFWGpW29b",
    "outputId": "0c8ea2cc-e292-4f29-d0ab-6fc927b616c9"
   },
   "outputs": [
    {
     "name": "stderr",
     "output_type": "stream",
     "text": [
      "/usr/local/lib/python3.7/dist-packages/geopandas/geodataframe.py:1351: SettingWithCopyWarning: \n",
      "A value is trying to be set on a copy of a slice from a DataFrame.\n",
      "Try using .loc[row_indexer,col_indexer] = value instead\n",
      "\n",
      "See the caveats in the documentation: https://pandas.pydata.org/pandas-docs/stable/user_guide/indexing.html#returning-a-view-versus-a-copy\n",
      "  super().__setitem__(key, value)\n"
     ]
    },
    {
     "data": {
      "text/html": [
       "\n",
       "  <div id=\"df-3f0164dc-a7fb-4e5e-bf38-2c58fa80a45e\">\n",
       "    <div class=\"colab-df-container\">\n",
       "      <div>\n",
       "<style scoped>\n",
       "    .dataframe tbody tr th:only-of-type {\n",
       "        vertical-align: middle;\n",
       "    }\n",
       "\n",
       "    .dataframe tbody tr th {\n",
       "        vertical-align: top;\n",
       "    }\n",
       "\n",
       "    .dataframe thead th {\n",
       "        text-align: right;\n",
       "    }\n",
       "</style>\n",
       "<table border=\"1\" class=\"dataframe\">\n",
       "  <thead>\n",
       "    <tr style=\"text-align: right;\">\n",
       "      <th></th>\n",
       "      <th>Nom</th>\n",
       "      <th>geometry</th>\n",
       "      <th>numero_hab</th>\n",
       "      <th>rue</th>\n",
       "      <th>code_postal</th>\n",
       "      <th>ville</th>\n",
       "      <th>type</th>\n",
       "    </tr>\n",
       "  </thead>\n",
       "  <tbody>\n",
       "    <tr>\n",
       "      <th>4</th>\n",
       "      <td>Institut hospitalier franco-britannique - Site...</td>\n",
       "      <td>POINT (2.27938 48.89160)</td>\n",
       "      <td>None</td>\n",
       "      <td>None</td>\n",
       "      <td>None</td>\n",
       "      <td>None</td>\n",
       "      <td>hopitaux</td>\n",
       "    </tr>\n",
       "    <tr>\n",
       "      <th>9</th>\n",
       "      <td>Hôpital privé de la Seine-Saint-Denis</td>\n",
       "      <td>POINT (2.45695 48.93644)</td>\n",
       "      <td>None</td>\n",
       "      <td>None</td>\n",
       "      <td>None</td>\n",
       "      <td>None</td>\n",
       "      <td>hopitaux</td>\n",
       "    </tr>\n",
       "    <tr>\n",
       "      <th>10</th>\n",
       "      <td>Hôpital Henri Mondor</td>\n",
       "      <td>POINT (2.45264 48.79595)</td>\n",
       "      <td>None</td>\n",
       "      <td>None</td>\n",
       "      <td>None</td>\n",
       "      <td>None</td>\n",
       "      <td>hopitaux</td>\n",
       "    </tr>\n",
       "    <tr>\n",
       "      <th>19</th>\n",
       "      <td>Institut de Cardiologie</td>\n",
       "      <td>POINT (2.36702 48.83529)</td>\n",
       "      <td>None</td>\n",
       "      <td>None</td>\n",
       "      <td>None</td>\n",
       "      <td>None</td>\n",
       "      <td>hopitaux</td>\n",
       "    </tr>\n",
       "    <tr>\n",
       "      <th>23</th>\n",
       "      <td>Hôpital privé Nord-Parisien</td>\n",
       "      <td>POINT (2.37743 48.98060)</td>\n",
       "      <td>None</td>\n",
       "      <td>None</td>\n",
       "      <td>None</td>\n",
       "      <td>None</td>\n",
       "      <td>hopitaux</td>\n",
       "    </tr>\n",
       "  </tbody>\n",
       "</table>\n",
       "</div>\n",
       "      <button class=\"colab-df-convert\" onclick=\"convertToInteractive('df-3f0164dc-a7fb-4e5e-bf38-2c58fa80a45e')\"\n",
       "              title=\"Convert this dataframe to an interactive table.\"\n",
       "              style=\"display:none;\">\n",
       "        \n",
       "  <svg xmlns=\"http://www.w3.org/2000/svg\" height=\"24px\"viewBox=\"0 0 24 24\"\n",
       "       width=\"24px\">\n",
       "    <path d=\"M0 0h24v24H0V0z\" fill=\"none\"/>\n",
       "    <path d=\"M18.56 5.44l.94 2.06.94-2.06 2.06-.94-2.06-.94-.94-2.06-.94 2.06-2.06.94zm-11 1L8.5 8.5l.94-2.06 2.06-.94-2.06-.94L8.5 2.5l-.94 2.06-2.06.94zm10 10l.94 2.06.94-2.06 2.06-.94-2.06-.94-.94-2.06-.94 2.06-2.06.94z\"/><path d=\"M17.41 7.96l-1.37-1.37c-.4-.4-.92-.59-1.43-.59-.52 0-1.04.2-1.43.59L10.3 9.45l-7.72 7.72c-.78.78-.78 2.05 0 2.83L4 21.41c.39.39.9.59 1.41.59.51 0 1.02-.2 1.41-.59l7.78-7.78 2.81-2.81c.8-.78.8-2.07 0-2.86zM5.41 20L4 18.59l7.72-7.72 1.47 1.35L5.41 20z\"/>\n",
       "  </svg>\n",
       "      </button>\n",
       "      \n",
       "  <style>\n",
       "    .colab-df-container {\n",
       "      display:flex;\n",
       "      flex-wrap:wrap;\n",
       "      gap: 12px;\n",
       "    }\n",
       "\n",
       "    .colab-df-convert {\n",
       "      background-color: #E8F0FE;\n",
       "      border: none;\n",
       "      border-radius: 50%;\n",
       "      cursor: pointer;\n",
       "      display: none;\n",
       "      fill: #1967D2;\n",
       "      height: 32px;\n",
       "      padding: 0 0 0 0;\n",
       "      width: 32px;\n",
       "    }\n",
       "\n",
       "    .colab-df-convert:hover {\n",
       "      background-color: #E2EBFA;\n",
       "      box-shadow: 0px 1px 2px rgba(60, 64, 67, 0.3), 0px 1px 3px 1px rgba(60, 64, 67, 0.15);\n",
       "      fill: #174EA6;\n",
       "    }\n",
       "\n",
       "    [theme=dark] .colab-df-convert {\n",
       "      background-color: #3B4455;\n",
       "      fill: #D2E3FC;\n",
       "    }\n",
       "\n",
       "    [theme=dark] .colab-df-convert:hover {\n",
       "      background-color: #434B5C;\n",
       "      box-shadow: 0px 1px 3px 1px rgba(0, 0, 0, 0.15);\n",
       "      filter: drop-shadow(0px 1px 2px rgba(0, 0, 0, 0.3));\n",
       "      fill: #FFFFFF;\n",
       "    }\n",
       "  </style>\n",
       "\n",
       "      <script>\n",
       "        const buttonEl =\n",
       "          document.querySelector('#df-3f0164dc-a7fb-4e5e-bf38-2c58fa80a45e button.colab-df-convert');\n",
       "        buttonEl.style.display =\n",
       "          google.colab.kernel.accessAllowed ? 'block' : 'none';\n",
       "\n",
       "        async function convertToInteractive(key) {\n",
       "          const element = document.querySelector('#df-3f0164dc-a7fb-4e5e-bf38-2c58fa80a45e');\n",
       "          const dataTable =\n",
       "            await google.colab.kernel.invokeFunction('convertToInteractive',\n",
       "                                                     [key], {});\n",
       "          if (!dataTable) return;\n",
       "\n",
       "          const docLinkHtml = 'Like what you see? Visit the ' +\n",
       "            '<a target=\"_blank\" href=https://colab.research.google.com/notebooks/data_table.ipynb>data table notebook</a>'\n",
       "            + ' to learn more about interactive tables.';\n",
       "          element.innerHTML = '';\n",
       "          dataTable['output_type'] = 'display_data';\n",
       "          await google.colab.output.renderOutput(dataTable, element);\n",
       "          const docLink = document.createElement('div');\n",
       "          docLink.innerHTML = docLinkHtml;\n",
       "          element.appendChild(docLink);\n",
       "        }\n",
       "      </script>\n",
       "    </div>\n",
       "  </div>\n",
       "  "
      ],
      "text/plain": [
       "                                                  Nom  ...      type\n",
       "4   Institut hospitalier franco-britannique - Site...  ...  hopitaux\n",
       "9               Hôpital privé de la Seine-Saint-Denis  ...  hopitaux\n",
       "10                               Hôpital Henri Mondor  ...  hopitaux\n",
       "19                            Institut de Cardiologie  ...  hopitaux\n",
       "23                        Hôpital privé Nord-Parisien  ...  hopitaux\n",
       "\n",
       "[5 rows x 7 columns]"
      ]
     },
     "execution_count": 35,
     "metadata": {},
     "output_type": "execute_result"
    }
   ],
   "source": [
    "hopitaux_fusion = hopitaux_idf[[\"name\", \"geometry\", \"addr:housenumber\", \"addr:street\", \"addr:postcode\", \"addr:city\"]]\n",
    "hopitaux_fusion[\"type\"] = \"hopitaux\"\n",
    "hopitaux_fusion = hopitaux_fusion.rename(columns = {\"addr:housenumber\" : \"numero_hab\", \"addr:street\" : \"rue\", \"addr:postcode\" : \"code_postal\", \"addr:city\" : \"ville\", \"name\" : \"Nom\"})\n",
    "hopitaux_fusion.head()"
   ]
  },
  {
   "cell_type": "code",
   "execution_count": 36,
   "metadata": {
    "colab": {
     "base_uri": "https://localhost:8080/",
     "height": 441
    },
    "executionInfo": {
     "elapsed": 282,
     "status": "ok",
     "timestamp": 1641079277664,
     "user": {
      "displayName": "Leela T",
      "photoUrl": "https://lh3.googleusercontent.com/a/default-user=s64",
      "userId": "12684795005480159959"
     },
     "user_tz": -60
    },
    "id": "kiUoIjltXd-t",
    "outputId": "413be64b-6bc9-4ea6-e0ba-dbfe00303c6f"
   },
   "outputs": [
    {
     "name": "stderr",
     "output_type": "stream",
     "text": [
      "/usr/local/lib/python3.7/dist-packages/geopandas/geodataframe.py:1351: SettingWithCopyWarning: \n",
      "A value is trying to be set on a copy of a slice from a DataFrame.\n",
      "Try using .loc[row_indexer,col_indexer] = value instead\n",
      "\n",
      "See the caveats in the documentation: https://pandas.pydata.org/pandas-docs/stable/user_guide/indexing.html#returning-a-view-versus-a-copy\n",
      "  super().__setitem__(key, value)\n"
     ]
    },
    {
     "data": {
      "text/html": [
       "\n",
       "  <div id=\"df-3381758d-658d-4c3b-be42-309b95bbfc1c\">\n",
       "    <div class=\"colab-df-container\">\n",
       "      <div>\n",
       "<style scoped>\n",
       "    .dataframe tbody tr th:only-of-type {\n",
       "        vertical-align: middle;\n",
       "    }\n",
       "\n",
       "    .dataframe tbody tr th {\n",
       "        vertical-align: top;\n",
       "    }\n",
       "\n",
       "    .dataframe thead th {\n",
       "        text-align: right;\n",
       "    }\n",
       "</style>\n",
       "<table border=\"1\" class=\"dataframe\">\n",
       "  <thead>\n",
       "    <tr style=\"text-align: right;\">\n",
       "      <th></th>\n",
       "      <th>Nom</th>\n",
       "      <th>police-FR</th>\n",
       "      <th>osm_original_geom</th>\n",
       "      <th>geometry</th>\n",
       "      <th>numero_hab</th>\n",
       "      <th>rue</th>\n",
       "      <th>code_postal</th>\n",
       "      <th>ville</th>\n",
       "      <th>Adresse_full</th>\n",
       "      <th>type</th>\n",
       "    </tr>\n",
       "  </thead>\n",
       "  <tbody>\n",
       "    <tr>\n",
       "      <th>3</th>\n",
       "      <td>Commissariat de police de Pantin</td>\n",
       "      <td>police</td>\n",
       "      <td></td>\n",
       "      <td>POINT (2.40559 48.89318)</td>\n",
       "      <td>14</td>\n",
       "      <td>Rue Eugène et Marie-Louise Cornet</td>\n",
       "      <td>93500</td>\n",
       "      <td>Pantin</td>\n",
       "      <td>None</td>\n",
       "      <td>police</td>\n",
       "    </tr>\n",
       "    <tr>\n",
       "      <th>65</th>\n",
       "      <td>None</td>\n",
       "      <td>police_municipale</td>\n",
       "      <td></td>\n",
       "      <td>POINT (2.21544 48.75419)</td>\n",
       "      <td>None</td>\n",
       "      <td>None</td>\n",
       "      <td>None</td>\n",
       "      <td>None</td>\n",
       "      <td>None</td>\n",
       "      <td>police</td>\n",
       "    </tr>\n",
       "    <tr>\n",
       "      <th>68</th>\n",
       "      <td>Commissariat de police de Guyancourt</td>\n",
       "      <td>police</td>\n",
       "      <td>SRID=3857;POLYGON((228220.151236704 6238526.89...</td>\n",
       "      <td>POINT (2.05030 48.78546)</td>\n",
       "      <td>1</td>\n",
       "      <td>Rue de la Division Leclerc</td>\n",
       "      <td>78280</td>\n",
       "      <td>Guyancourt</td>\n",
       "      <td>None</td>\n",
       "      <td>police</td>\n",
       "    </tr>\n",
       "    <tr>\n",
       "      <th>69</th>\n",
       "      <td>Commissariat de police de Villeparisis</td>\n",
       "      <td>police</td>\n",
       "      <td></td>\n",
       "      <td>POINT (2.60819 48.94469)</td>\n",
       "      <td>None</td>\n",
       "      <td>None</td>\n",
       "      <td>None</td>\n",
       "      <td>None</td>\n",
       "      <td>None</td>\n",
       "      <td>police</td>\n",
       "    </tr>\n",
       "    <tr>\n",
       "      <th>71</th>\n",
       "      <td>Commissariat de police de Massy</td>\n",
       "      <td>police</td>\n",
       "      <td>SRID=3857;POLYGON((252944.644287904 6229275.46...</td>\n",
       "      <td>POINT (2.27246 48.73051)</td>\n",
       "      <td>None</td>\n",
       "      <td>Rue de la Division Leclerc</td>\n",
       "      <td>91300</td>\n",
       "      <td>Massy</td>\n",
       "      <td>None</td>\n",
       "      <td>police</td>\n",
       "    </tr>\n",
       "  </tbody>\n",
       "</table>\n",
       "</div>\n",
       "      <button class=\"colab-df-convert\" onclick=\"convertToInteractive('df-3381758d-658d-4c3b-be42-309b95bbfc1c')\"\n",
       "              title=\"Convert this dataframe to an interactive table.\"\n",
       "              style=\"display:none;\">\n",
       "        \n",
       "  <svg xmlns=\"http://www.w3.org/2000/svg\" height=\"24px\"viewBox=\"0 0 24 24\"\n",
       "       width=\"24px\">\n",
       "    <path d=\"M0 0h24v24H0V0z\" fill=\"none\"/>\n",
       "    <path d=\"M18.56 5.44l.94 2.06.94-2.06 2.06-.94-2.06-.94-.94-2.06-.94 2.06-2.06.94zm-11 1L8.5 8.5l.94-2.06 2.06-.94-2.06-.94L8.5 2.5l-.94 2.06-2.06.94zm10 10l.94 2.06.94-2.06 2.06-.94-2.06-.94-.94-2.06-.94 2.06-2.06.94z\"/><path d=\"M17.41 7.96l-1.37-1.37c-.4-.4-.92-.59-1.43-.59-.52 0-1.04.2-1.43.59L10.3 9.45l-7.72 7.72c-.78.78-.78 2.05 0 2.83L4 21.41c.39.39.9.59 1.41.59.51 0 1.02-.2 1.41-.59l7.78-7.78 2.81-2.81c.8-.78.8-2.07 0-2.86zM5.41 20L4 18.59l7.72-7.72 1.47 1.35L5.41 20z\"/>\n",
       "  </svg>\n",
       "      </button>\n",
       "      \n",
       "  <style>\n",
       "    .colab-df-container {\n",
       "      display:flex;\n",
       "      flex-wrap:wrap;\n",
       "      gap: 12px;\n",
       "    }\n",
       "\n",
       "    .colab-df-convert {\n",
       "      background-color: #E8F0FE;\n",
       "      border: none;\n",
       "      border-radius: 50%;\n",
       "      cursor: pointer;\n",
       "      display: none;\n",
       "      fill: #1967D2;\n",
       "      height: 32px;\n",
       "      padding: 0 0 0 0;\n",
       "      width: 32px;\n",
       "    }\n",
       "\n",
       "    .colab-df-convert:hover {\n",
       "      background-color: #E2EBFA;\n",
       "      box-shadow: 0px 1px 2px rgba(60, 64, 67, 0.3), 0px 1px 3px 1px rgba(60, 64, 67, 0.15);\n",
       "      fill: #174EA6;\n",
       "    }\n",
       "\n",
       "    [theme=dark] .colab-df-convert {\n",
       "      background-color: #3B4455;\n",
       "      fill: #D2E3FC;\n",
       "    }\n",
       "\n",
       "    [theme=dark] .colab-df-convert:hover {\n",
       "      background-color: #434B5C;\n",
       "      box-shadow: 0px 1px 3px 1px rgba(0, 0, 0, 0.15);\n",
       "      filter: drop-shadow(0px 1px 2px rgba(0, 0, 0, 0.3));\n",
       "      fill: #FFFFFF;\n",
       "    }\n",
       "  </style>\n",
       "\n",
       "      <script>\n",
       "        const buttonEl =\n",
       "          document.querySelector('#df-3381758d-658d-4c3b-be42-309b95bbfc1c button.colab-df-convert');\n",
       "        buttonEl.style.display =\n",
       "          google.colab.kernel.accessAllowed ? 'block' : 'none';\n",
       "\n",
       "        async function convertToInteractive(key) {\n",
       "          const element = document.querySelector('#df-3381758d-658d-4c3b-be42-309b95bbfc1c');\n",
       "          const dataTable =\n",
       "            await google.colab.kernel.invokeFunction('convertToInteractive',\n",
       "                                                     [key], {});\n",
       "          if (!dataTable) return;\n",
       "\n",
       "          const docLinkHtml = 'Like what you see? Visit the ' +\n",
       "            '<a target=\"_blank\" href=https://colab.research.google.com/notebooks/data_table.ipynb>data table notebook</a>'\n",
       "            + ' to learn more about interactive tables.';\n",
       "          element.innerHTML = '';\n",
       "          dataTable['output_type'] = 'display_data';\n",
       "          await google.colab.output.renderOutput(dataTable, element);\n",
       "          const docLink = document.createElement('div');\n",
       "          docLink.innerHTML = docLinkHtml;\n",
       "          element.appendChild(docLink);\n",
       "        }\n",
       "      </script>\n",
       "    </div>\n",
       "  </div>\n",
       "  "
      ],
      "text/plain": [
       "                                       Nom  ...    type\n",
       "3         Commissariat de police de Pantin  ...  police\n",
       "65                                    None  ...  police\n",
       "68    Commissariat de police de Guyancourt  ...  police\n",
       "69  Commissariat de police de Villeparisis  ...  police\n",
       "71         Commissariat de police de Massy  ...  police\n",
       "\n",
       "[5 rows x 10 columns]"
      ]
     },
     "execution_count": 36,
     "metadata": {},
     "output_type": "execute_result"
    }
   ],
   "source": [
    "police_fusion = police_idf[[\"official_name\", \"police-FR\", \"osm_original_geom\", \"geometry\", \"addr-housenumber\", \"addr-street\", \"addr-postcode\", \"addr-city\", \"addr-full\"]]\n",
    "police_fusion[\"type\"] = \"police\"\n",
    "police_fusion = police_fusion.rename(columns = {\"official_name\" : \"Nom\", \"addr-housenumber\" : \"numero_hab\", \"addr-street\" : \"rue\", \"addr-postcode\" : \"code_postal\", \"addr-city\" : \"ville\", \"addr-full\" : \"Adresse_full\"})\n",
    "police_fusion.head()"
   ]
  },
  {
   "cell_type": "code",
   "execution_count": 37,
   "metadata": {
    "colab": {
     "base_uri": "https://localhost:8080/",
     "height": 310
    },
    "executionInfo": {
     "elapsed": 288,
     "status": "ok",
     "timestamp": 1641079282763,
     "user": {
      "displayName": "Leela T",
      "photoUrl": "https://lh3.googleusercontent.com/a/default-user=s64",
      "userId": "12684795005480159959"
     },
     "user_tz": -60
    },
    "id": "XEYBLc0rZk8A",
    "outputId": "f4dcb867-05ff-480b-e1a0-1218de5106a3"
   },
   "outputs": [
    {
     "name": "stderr",
     "output_type": "stream",
     "text": [
      "/usr/local/lib/python3.7/dist-packages/geopandas/geodataframe.py:1351: SettingWithCopyWarning: \n",
      "A value is trying to be set on a copy of a slice from a DataFrame.\n",
      "Try using .loc[row_indexer,col_indexer] = value instead\n",
      "\n",
      "See the caveats in the documentation: https://pandas.pydata.org/pandas-docs/stable/user_guide/indexing.html#returning-a-view-versus-a-copy\n",
      "  super().__setitem__(key, value)\n"
     ]
    },
    {
     "data": {
      "text/html": [
       "\n",
       "  <div id=\"df-cff1cda5-565a-49f3-82b8-801970009c6a\">\n",
       "    <div class=\"colab-df-container\">\n",
       "      <div>\n",
       "<style scoped>\n",
       "    .dataframe tbody tr th:only-of-type {\n",
       "        vertical-align: middle;\n",
       "    }\n",
       "\n",
       "    .dataframe tbody tr th {\n",
       "        vertical-align: top;\n",
       "    }\n",
       "\n",
       "    .dataframe thead th {\n",
       "        text-align: right;\n",
       "    }\n",
       "</style>\n",
       "<table border=\"1\" class=\"dataframe\">\n",
       "  <thead>\n",
       "    <tr style=\"text-align: right;\">\n",
       "      <th></th>\n",
       "      <th>techno</th>\n",
       "      <th>usage</th>\n",
       "      <th>dep</th>\n",
       "      <th>geometry</th>\n",
       "      <th>type</th>\n",
       "    </tr>\n",
       "  </thead>\n",
       "  <tbody>\n",
       "    <tr>\n",
       "      <th>75</th>\n",
       "      <td>4G</td>\n",
       "      <td>data</td>\n",
       "      <td>75</td>\n",
       "      <td>POLYGON ((2.41634 48.84923, 2.41635 48.84870, ...</td>\n",
       "      <td>couverture mobile</td>\n",
       "    </tr>\n",
       "    <tr>\n",
       "      <th>77</th>\n",
       "      <td>4G</td>\n",
       "      <td>data</td>\n",
       "      <td>77</td>\n",
       "      <td>MULTIPOLYGON (((3.07196 49.11776, 3.07246 49.1...</td>\n",
       "      <td>couverture mobile</td>\n",
       "    </tr>\n",
       "    <tr>\n",
       "      <th>78</th>\n",
       "      <td>4G</td>\n",
       "      <td>data</td>\n",
       "      <td>78</td>\n",
       "      <td>MULTIPOLYGON (((1.60875 49.07771, 1.61083 49.0...</td>\n",
       "      <td>couverture mobile</td>\n",
       "    </tr>\n",
       "    <tr>\n",
       "      <th>91</th>\n",
       "      <td>4G</td>\n",
       "      <td>data</td>\n",
       "      <td>91</td>\n",
       "      <td>POLYGON ((2.32072 48.74876, 2.32267 48.74812, ...</td>\n",
       "      <td>couverture mobile</td>\n",
       "    </tr>\n",
       "    <tr>\n",
       "      <th>92</th>\n",
       "      <td>4G</td>\n",
       "      <td>data</td>\n",
       "      <td>92</td>\n",
       "      <td>POLYGON ((2.31989 48.90046, 2.31852 48.89964, ...</td>\n",
       "      <td>couverture mobile</td>\n",
       "    </tr>\n",
       "  </tbody>\n",
       "</table>\n",
       "</div>\n",
       "      <button class=\"colab-df-convert\" onclick=\"convertToInteractive('df-cff1cda5-565a-49f3-82b8-801970009c6a')\"\n",
       "              title=\"Convert this dataframe to an interactive table.\"\n",
       "              style=\"display:none;\">\n",
       "        \n",
       "  <svg xmlns=\"http://www.w3.org/2000/svg\" height=\"24px\"viewBox=\"0 0 24 24\"\n",
       "       width=\"24px\">\n",
       "    <path d=\"M0 0h24v24H0V0z\" fill=\"none\"/>\n",
       "    <path d=\"M18.56 5.44l.94 2.06.94-2.06 2.06-.94-2.06-.94-.94-2.06-.94 2.06-2.06.94zm-11 1L8.5 8.5l.94-2.06 2.06-.94-2.06-.94L8.5 2.5l-.94 2.06-2.06.94zm10 10l.94 2.06.94-2.06 2.06-.94-2.06-.94-.94-2.06-.94 2.06-2.06.94z\"/><path d=\"M17.41 7.96l-1.37-1.37c-.4-.4-.92-.59-1.43-.59-.52 0-1.04.2-1.43.59L10.3 9.45l-7.72 7.72c-.78.78-.78 2.05 0 2.83L4 21.41c.39.39.9.59 1.41.59.51 0 1.02-.2 1.41-.59l7.78-7.78 2.81-2.81c.8-.78.8-2.07 0-2.86zM5.41 20L4 18.59l7.72-7.72 1.47 1.35L5.41 20z\"/>\n",
       "  </svg>\n",
       "      </button>\n",
       "      \n",
       "  <style>\n",
       "    .colab-df-container {\n",
       "      display:flex;\n",
       "      flex-wrap:wrap;\n",
       "      gap: 12px;\n",
       "    }\n",
       "\n",
       "    .colab-df-convert {\n",
       "      background-color: #E8F0FE;\n",
       "      border: none;\n",
       "      border-radius: 50%;\n",
       "      cursor: pointer;\n",
       "      display: none;\n",
       "      fill: #1967D2;\n",
       "      height: 32px;\n",
       "      padding: 0 0 0 0;\n",
       "      width: 32px;\n",
       "    }\n",
       "\n",
       "    .colab-df-convert:hover {\n",
       "      background-color: #E2EBFA;\n",
       "      box-shadow: 0px 1px 2px rgba(60, 64, 67, 0.3), 0px 1px 3px 1px rgba(60, 64, 67, 0.15);\n",
       "      fill: #174EA6;\n",
       "    }\n",
       "\n",
       "    [theme=dark] .colab-df-convert {\n",
       "      background-color: #3B4455;\n",
       "      fill: #D2E3FC;\n",
       "    }\n",
       "\n",
       "    [theme=dark] .colab-df-convert:hover {\n",
       "      background-color: #434B5C;\n",
       "      box-shadow: 0px 1px 3px 1px rgba(0, 0, 0, 0.15);\n",
       "      filter: drop-shadow(0px 1px 2px rgba(0, 0, 0, 0.3));\n",
       "      fill: #FFFFFF;\n",
       "    }\n",
       "  </style>\n",
       "\n",
       "      <script>\n",
       "        const buttonEl =\n",
       "          document.querySelector('#df-cff1cda5-565a-49f3-82b8-801970009c6a button.colab-df-convert');\n",
       "        buttonEl.style.display =\n",
       "          google.colab.kernel.accessAllowed ? 'block' : 'none';\n",
       "\n",
       "        async function convertToInteractive(key) {\n",
       "          const element = document.querySelector('#df-cff1cda5-565a-49f3-82b8-801970009c6a');\n",
       "          const dataTable =\n",
       "            await google.colab.kernel.invokeFunction('convertToInteractive',\n",
       "                                                     [key], {});\n",
       "          if (!dataTable) return;\n",
       "\n",
       "          const docLinkHtml = 'Like what you see? Visit the ' +\n",
       "            '<a target=\"_blank\" href=https://colab.research.google.com/notebooks/data_table.ipynb>data table notebook</a>'\n",
       "            + ' to learn more about interactive tables.';\n",
       "          element.innerHTML = '';\n",
       "          dataTable['output_type'] = 'display_data';\n",
       "          await google.colab.output.renderOutput(dataTable, element);\n",
       "          const docLink = document.createElement('div');\n",
       "          docLink.innerHTML = docLinkHtml;\n",
       "          element.appendChild(docLink);\n",
       "        }\n",
       "      </script>\n",
       "    </div>\n",
       "  </div>\n",
       "  "
      ],
      "text/plain": [
       "   techno  ...               type\n",
       "75     4G  ...  couverture mobile\n",
       "77     4G  ...  couverture mobile\n",
       "78     4G  ...  couverture mobile\n",
       "91     4G  ...  couverture mobile\n",
       "92     4G  ...  couverture mobile\n",
       "\n",
       "[5 rows x 5 columns]"
      ]
     },
     "execution_count": 37,
     "metadata": {},
     "output_type": "execute_result"
    }
   ],
   "source": [
    "mobile_fusion = mobile_idf[[\"techno\", \"usage\", \"dept\", \"geometry\"]]\n",
    "mobile_fusion[\"type\"] = \"couverture mobile\"\n",
    "mobile_fusion = mobile_fusion.rename(columns = {\"dept\" : \"dep\"})\n",
    "mobile_fusion.head()"
   ]
  },
  {
   "cell_type": "code",
   "execution_count": 38,
   "metadata": {
    "colab": {
     "base_uri": "https://localhost:8080/",
     "height": 80
    },
    "executionInfo": {
     "elapsed": 800,
     "status": "ok",
     "timestamp": 1641079286649,
     "user": {
      "displayName": "Leela T",
      "photoUrl": "https://lh3.googleusercontent.com/a/default-user=s64",
      "userId": "12684795005480159959"
     },
     "user_tz": -60
    },
    "id": "jvYdIPZnafka",
    "outputId": "c3994f29-4bbf-4fde-c20f-6d282393090f"
   },
   "outputs": [
    {
     "data": {
      "text/html": [
       "\n",
       "  <div id=\"df-df17d8f1-6b76-4b6d-b4a8-944fa0092568\">\n",
       "    <div class=\"colab-df-container\">\n",
       "      <div>\n",
       "<style scoped>\n",
       "    .dataframe tbody tr th:only-of-type {\n",
       "        vertical-align: middle;\n",
       "    }\n",
       "\n",
       "    .dataframe tbody tr th {\n",
       "        vertical-align: top;\n",
       "    }\n",
       "\n",
       "    .dataframe thead th {\n",
       "        text-align: right;\n",
       "    }\n",
       "</style>\n",
       "<table border=\"1\" class=\"dataframe\">\n",
       "  <thead>\n",
       "    <tr style=\"text-align: right;\">\n",
       "      <th></th>\n",
       "      <th>geometry</th>\n",
       "      <th>type</th>\n",
       "    </tr>\n",
       "  </thead>\n",
       "  <tbody>\n",
       "    <tr>\n",
       "      <th>0</th>\n",
       "      <td>MULTIPOLYGON (((2.19227 49.17366, 2.19550 49.1...</td>\n",
       "      <td>sans couverture mobile</td>\n",
       "    </tr>\n",
       "  </tbody>\n",
       "</table>\n",
       "</div>\n",
       "      <button class=\"colab-df-convert\" onclick=\"convertToInteractive('df-df17d8f1-6b76-4b6d-b4a8-944fa0092568')\"\n",
       "              title=\"Convert this dataframe to an interactive table.\"\n",
       "              style=\"display:none;\">\n",
       "        \n",
       "  <svg xmlns=\"http://www.w3.org/2000/svg\" height=\"24px\"viewBox=\"0 0 24 24\"\n",
       "       width=\"24px\">\n",
       "    <path d=\"M0 0h24v24H0V0z\" fill=\"none\"/>\n",
       "    <path d=\"M18.56 5.44l.94 2.06.94-2.06 2.06-.94-2.06-.94-.94-2.06-.94 2.06-2.06.94zm-11 1L8.5 8.5l.94-2.06 2.06-.94-2.06-.94L8.5 2.5l-.94 2.06-2.06.94zm10 10l.94 2.06.94-2.06 2.06-.94-2.06-.94-.94-2.06-.94 2.06-2.06.94z\"/><path d=\"M17.41 7.96l-1.37-1.37c-.4-.4-.92-.59-1.43-.59-.52 0-1.04.2-1.43.59L10.3 9.45l-7.72 7.72c-.78.78-.78 2.05 0 2.83L4 21.41c.39.39.9.59 1.41.59.51 0 1.02-.2 1.41-.59l7.78-7.78 2.81-2.81c.8-.78.8-2.07 0-2.86zM5.41 20L4 18.59l7.72-7.72 1.47 1.35L5.41 20z\"/>\n",
       "  </svg>\n",
       "      </button>\n",
       "      \n",
       "  <style>\n",
       "    .colab-df-container {\n",
       "      display:flex;\n",
       "      flex-wrap:wrap;\n",
       "      gap: 12px;\n",
       "    }\n",
       "\n",
       "    .colab-df-convert {\n",
       "      background-color: #E8F0FE;\n",
       "      border: none;\n",
       "      border-radius: 50%;\n",
       "      cursor: pointer;\n",
       "      display: none;\n",
       "      fill: #1967D2;\n",
       "      height: 32px;\n",
       "      padding: 0 0 0 0;\n",
       "      width: 32px;\n",
       "    }\n",
       "\n",
       "    .colab-df-convert:hover {\n",
       "      background-color: #E2EBFA;\n",
       "      box-shadow: 0px 1px 2px rgba(60, 64, 67, 0.3), 0px 1px 3px 1px rgba(60, 64, 67, 0.15);\n",
       "      fill: #174EA6;\n",
       "    }\n",
       "\n",
       "    [theme=dark] .colab-df-convert {\n",
       "      background-color: #3B4455;\n",
       "      fill: #D2E3FC;\n",
       "    }\n",
       "\n",
       "    [theme=dark] .colab-df-convert:hover {\n",
       "      background-color: #434B5C;\n",
       "      box-shadow: 0px 1px 3px 1px rgba(0, 0, 0, 0.15);\n",
       "      filter: drop-shadow(0px 1px 2px rgba(0, 0, 0, 0.3));\n",
       "      fill: #FFFFFF;\n",
       "    }\n",
       "  </style>\n",
       "\n",
       "      <script>\n",
       "        const buttonEl =\n",
       "          document.querySelector('#df-df17d8f1-6b76-4b6d-b4a8-944fa0092568 button.colab-df-convert');\n",
       "        buttonEl.style.display =\n",
       "          google.colab.kernel.accessAllowed ? 'block' : 'none';\n",
       "\n",
       "        async function convertToInteractive(key) {\n",
       "          const element = document.querySelector('#df-df17d8f1-6b76-4b6d-b4a8-944fa0092568');\n",
       "          const dataTable =\n",
       "            await google.colab.kernel.invokeFunction('convertToInteractive',\n",
       "                                                     [key], {});\n",
       "          if (!dataTable) return;\n",
       "\n",
       "          const docLinkHtml = 'Like what you see? Visit the ' +\n",
       "            '<a target=\"_blank\" href=https://colab.research.google.com/notebooks/data_table.ipynb>data table notebook</a>'\n",
       "            + ' to learn more about interactive tables.';\n",
       "          element.innerHTML = '';\n",
       "          dataTable['output_type'] = 'display_data';\n",
       "          await google.colab.output.renderOutput(dataTable, element);\n",
       "          const docLink = document.createElement('div');\n",
       "          docLink.innerHTML = docLinkHtml;\n",
       "          element.appendChild(docLink);\n",
       "        }\n",
       "      </script>\n",
       "    </div>\n",
       "  </div>\n",
       "  "
      ],
      "text/plain": [
       "                                            geometry                    type\n",
       "0  MULTIPOLYGON (((2.19227 49.17366, 2.19550 49.1...  sans couverture mobile"
      ]
     },
     "execution_count": 38,
     "metadata": {},
     "output_type": "execute_result"
    }
   ],
   "source": [
    "sans_mobile_idf_df[\"type\"] =\"sans couverture mobile\"\n",
    "sans_mobile_idf_df"
   ]
  },
  {
   "cell_type": "code",
   "execution_count": 39,
   "metadata": {
    "colab": {
     "base_uri": "https://localhost:8080/",
     "height": 310
    },
    "executionInfo": {
     "elapsed": 294,
     "status": "ok",
     "timestamp": 1641079288430,
     "user": {
      "displayName": "Leela T",
      "photoUrl": "https://lh3.googleusercontent.com/a/default-user=s64",
      "userId": "12684795005480159959"
     },
     "user_tz": -60
    },
    "id": "wPpWCbX1bSng",
    "outputId": "e1802cf6-6b4f-4b79-cfdc-1630e9260bdc"
   },
   "outputs": [
    {
     "name": "stderr",
     "output_type": "stream",
     "text": [
      "/usr/local/lib/python3.7/dist-packages/geopandas/geodataframe.py:1351: SettingWithCopyWarning: \n",
      "A value is trying to be set on a copy of a slice from a DataFrame.\n",
      "Try using .loc[row_indexer,col_indexer] = value instead\n",
      "\n",
      "See the caveats in the documentation: https://pandas.pydata.org/pandas-docs/stable/user_guide/indexing.html#returning-a-view-versus-a-copy\n",
      "  super().__setitem__(key, value)\n"
     ]
    },
    {
     "data": {
      "text/html": [
       "\n",
       "  <div id=\"df-4eedfe11-d919-4c94-97d9-f0a6bcfca58a\">\n",
       "    <div class=\"colab-df-container\">\n",
       "      <div>\n",
       "<style scoped>\n",
       "    .dataframe tbody tr th:only-of-type {\n",
       "        vertical-align: middle;\n",
       "    }\n",
       "\n",
       "    .dataframe tbody tr th {\n",
       "        vertical-align: top;\n",
       "    }\n",
       "\n",
       "    .dataframe thead th {\n",
       "        text-align: right;\n",
       "    }\n",
       "</style>\n",
       "<table border=\"1\" class=\"dataframe\">\n",
       "  <thead>\n",
       "    <tr style=\"text-align: right;\">\n",
       "      <th></th>\n",
       "      <th>numero_hab</th>\n",
       "      <th>rue</th>\n",
       "      <th>code_postal</th>\n",
       "      <th>insee</th>\n",
       "      <th>commune</th>\n",
       "      <th>geometry</th>\n",
       "      <th>type</th>\n",
       "    </tr>\n",
       "  </thead>\n",
       "  <tbody>\n",
       "    <tr>\n",
       "      <th>599</th>\n",
       "      <td>2</td>\n",
       "      <td>Avenue Sadi Carnot</td>\n",
       "      <td>91160</td>\n",
       "      <td>91044</td>\n",
       "      <td>Ballainvilliers</td>\n",
       "      <td>POINT (2.27780 48.67144)</td>\n",
       "      <td>defibrillateurs</td>\n",
       "    </tr>\n",
       "    <tr>\n",
       "      <th>612</th>\n",
       "      <td>1</td>\n",
       "      <td>1 Rue de la Desserte Industrielle</td>\n",
       "      <td>91220</td>\n",
       "      <td>91103</td>\n",
       "      <td>Brétigny-sur-Orge</td>\n",
       "      <td>POINT (2.30031 48.59040)</td>\n",
       "      <td>defibrillateurs</td>\n",
       "    </tr>\n",
       "    <tr>\n",
       "      <th>613</th>\n",
       "      <td>280</td>\n",
       "      <td>RN 6 Lieu-dit La Fontaine Ronde</td>\n",
       "      <td>77240</td>\n",
       "      <td>77495</td>\n",
       "      <td>Vert-Saint-Denis</td>\n",
       "      <td>POINT (2.61643 48.57777)</td>\n",
       "      <td>defibrillateurs</td>\n",
       "    </tr>\n",
       "    <tr>\n",
       "      <th>615</th>\n",
       "      <td>9</td>\n",
       "      <td>Rue Jean Monnet</td>\n",
       "      <td>77410</td>\n",
       "      <td>77118</td>\n",
       "      <td>Claye-Souilly</td>\n",
       "      <td>POINT (2.66227 48.95279)</td>\n",
       "      <td>defibrillateurs</td>\n",
       "    </tr>\n",
       "    <tr>\n",
       "      <th>616</th>\n",
       "      <td>3 a</td>\n",
       "      <td>6-8 Route de Cannes</td>\n",
       "      <td>77130</td>\n",
       "      <td>77482</td>\n",
       "      <td>Varennes-sur-Seine</td>\n",
       "      <td>POINT (2.95869 48.37390)</td>\n",
       "      <td>defibrillateurs</td>\n",
       "    </tr>\n",
       "  </tbody>\n",
       "</table>\n",
       "</div>\n",
       "      <button class=\"colab-df-convert\" onclick=\"convertToInteractive('df-4eedfe11-d919-4c94-97d9-f0a6bcfca58a')\"\n",
       "              title=\"Convert this dataframe to an interactive table.\"\n",
       "              style=\"display:none;\">\n",
       "        \n",
       "  <svg xmlns=\"http://www.w3.org/2000/svg\" height=\"24px\"viewBox=\"0 0 24 24\"\n",
       "       width=\"24px\">\n",
       "    <path d=\"M0 0h24v24H0V0z\" fill=\"none\"/>\n",
       "    <path d=\"M18.56 5.44l.94 2.06.94-2.06 2.06-.94-2.06-.94-.94-2.06-.94 2.06-2.06.94zm-11 1L8.5 8.5l.94-2.06 2.06-.94-2.06-.94L8.5 2.5l-.94 2.06-2.06.94zm10 10l.94 2.06.94-2.06 2.06-.94-2.06-.94-.94-2.06-.94 2.06-2.06.94z\"/><path d=\"M17.41 7.96l-1.37-1.37c-.4-.4-.92-.59-1.43-.59-.52 0-1.04.2-1.43.59L10.3 9.45l-7.72 7.72c-.78.78-.78 2.05 0 2.83L4 21.41c.39.39.9.59 1.41.59.51 0 1.02-.2 1.41-.59l7.78-7.78 2.81-2.81c.8-.78.8-2.07 0-2.86zM5.41 20L4 18.59l7.72-7.72 1.47 1.35L5.41 20z\"/>\n",
       "  </svg>\n",
       "      </button>\n",
       "      \n",
       "  <style>\n",
       "    .colab-df-container {\n",
       "      display:flex;\n",
       "      flex-wrap:wrap;\n",
       "      gap: 12px;\n",
       "    }\n",
       "\n",
       "    .colab-df-convert {\n",
       "      background-color: #E8F0FE;\n",
       "      border: none;\n",
       "      border-radius: 50%;\n",
       "      cursor: pointer;\n",
       "      display: none;\n",
       "      fill: #1967D2;\n",
       "      height: 32px;\n",
       "      padding: 0 0 0 0;\n",
       "      width: 32px;\n",
       "    }\n",
       "\n",
       "    .colab-df-convert:hover {\n",
       "      background-color: #E2EBFA;\n",
       "      box-shadow: 0px 1px 2px rgba(60, 64, 67, 0.3), 0px 1px 3px 1px rgba(60, 64, 67, 0.15);\n",
       "      fill: #174EA6;\n",
       "    }\n",
       "\n",
       "    [theme=dark] .colab-df-convert {\n",
       "      background-color: #3B4455;\n",
       "      fill: #D2E3FC;\n",
       "    }\n",
       "\n",
       "    [theme=dark] .colab-df-convert:hover {\n",
       "      background-color: #434B5C;\n",
       "      box-shadow: 0px 1px 3px 1px rgba(0, 0, 0, 0.15);\n",
       "      filter: drop-shadow(0px 1px 2px rgba(0, 0, 0, 0.3));\n",
       "      fill: #FFFFFF;\n",
       "    }\n",
       "  </style>\n",
       "\n",
       "      <script>\n",
       "        const buttonEl =\n",
       "          document.querySelector('#df-4eedfe11-d919-4c94-97d9-f0a6bcfca58a button.colab-df-convert');\n",
       "        buttonEl.style.display =\n",
       "          google.colab.kernel.accessAllowed ? 'block' : 'none';\n",
       "\n",
       "        async function convertToInteractive(key) {\n",
       "          const element = document.querySelector('#df-4eedfe11-d919-4c94-97d9-f0a6bcfca58a');\n",
       "          const dataTable =\n",
       "            await google.colab.kernel.invokeFunction('convertToInteractive',\n",
       "                                                     [key], {});\n",
       "          if (!dataTable) return;\n",
       "\n",
       "          const docLinkHtml = 'Like what you see? Visit the ' +\n",
       "            '<a target=\"_blank\" href=https://colab.research.google.com/notebooks/data_table.ipynb>data table notebook</a>'\n",
       "            + ' to learn more about interactive tables.';\n",
       "          element.innerHTML = '';\n",
       "          dataTable['output_type'] = 'display_data';\n",
       "          await google.colab.output.renderOutput(dataTable, element);\n",
       "          const docLink = document.createElement('div');\n",
       "          docLink.innerHTML = docLinkHtml;\n",
       "          element.appendChild(docLink);\n",
       "        }\n",
       "      </script>\n",
       "    </div>\n",
       "  </div>\n",
       "  "
      ],
      "text/plain": [
       "    numero_hab  ...             type\n",
       "599          2  ...  defibrillateurs\n",
       "612          1  ...  defibrillateurs\n",
       "613        280  ...  defibrillateurs\n",
       "615          9  ...  defibrillateurs\n",
       "616        3 a  ...  defibrillateurs\n",
       "\n",
       "[5 rows x 7 columns]"
      ]
     },
     "execution_count": 39,
     "metadata": {},
     "output_type": "execute_result"
    }
   ],
   "source": [
    "defibrillateurs_fusion = defibrillateurs_idf[[\"c_adr_num\", \"c_adr_voie\", \"c_com_cp\", \"c_com_insee\", \"c_com_nom\", \"geometry\"]]\n",
    "defibrillateurs_fusion[\"type\"] = \"defibrillateurs\"\n",
    "defibrillateurs_fusion = defibrillateurs_fusion.rename(columns = {\"c_adr_num\" : \"numero_hab\", \"c_adr_voie\" : \"rue\", \"c_com_cp\" : \"code_postal\", \"c_com_nom\" : \"commune\", \"c_com_insee\" : \"insee\"})\n",
    "defibrillateurs_fusion.head()"
   ]
  },
  {
   "cell_type": "code",
   "execution_count": 40,
   "metadata": {
    "executionInfo": {
     "elapsed": 268,
     "status": "ok",
     "timestamp": 1641079291398,
     "user": {
      "displayName": "Leela T",
      "photoUrl": "https://lh3.googleusercontent.com/a/default-user=s64",
      "userId": "12684795005480159959"
     },
     "user_tz": -60
    },
    "id": "Eb7j937IeuwO"
   },
   "outputs": [],
   "source": [
    "frames_fusion = [communes_fusion, departements_fusion, camping_fusion, hopitaux_fusion, police_fusion, mobile_fusion, sans_mobile_idf_df, defibrillateurs_fusion]\n",
    "base_fusion = pd.concat(frames_fusion)"
   ]
  },
  {
   "cell_type": "code",
   "execution_count": 41,
   "metadata": {
    "colab": {
     "base_uri": "https://localhost:8080/",
     "height": 722
    },
    "executionInfo": {
     "elapsed": 288,
     "status": "ok",
     "timestamp": 1641079293275,
     "user": {
      "displayName": "Leela T",
      "photoUrl": "https://lh3.googleusercontent.com/a/default-user=s64",
      "userId": "12684795005480159959"
     },
     "user_tz": -60
    },
    "id": "ikySK3w9f13K",
    "outputId": "aafd53f2-b967-4fb0-ae75-1431d89ba950"
   },
   "outputs": [
    {
     "data": {
      "text/html": [
       "\n",
       "  <div id=\"df-d5217b3d-297e-4e5f-917e-e91fa90d37f2\">\n",
       "    <div class=\"colab-df-container\">\n",
       "      <div>\n",
       "<style scoped>\n",
       "    .dataframe tbody tr th:only-of-type {\n",
       "        vertical-align: middle;\n",
       "    }\n",
       "\n",
       "    .dataframe tbody tr th {\n",
       "        vertical-align: top;\n",
       "    }\n",
       "\n",
       "    .dataframe thead th {\n",
       "        text-align: right;\n",
       "    }\n",
       "</style>\n",
       "<table border=\"1\" class=\"dataframe\">\n",
       "  <thead>\n",
       "    <tr style=\"text-align: right;\">\n",
       "      <th></th>\n",
       "      <th>insee</th>\n",
       "      <th>Nom</th>\n",
       "      <th>Surface</th>\n",
       "      <th>geometry</th>\n",
       "      <th>dep</th>\n",
       "      <th>type</th>\n",
       "      <th>Adresse_full</th>\n",
       "      <th>Emplacements</th>\n",
       "      <th>Classement</th>\n",
       "      <th>commune</th>\n",
       "      <th>code_postal</th>\n",
       "      <th>numero_hab</th>\n",
       "      <th>rue</th>\n",
       "      <th>ville</th>\n",
       "      <th>police-FR</th>\n",
       "      <th>osm_original_geom</th>\n",
       "      <th>techno</th>\n",
       "      <th>usage</th>\n",
       "    </tr>\n",
       "  </thead>\n",
       "  <tbody>\n",
       "    <tr>\n",
       "      <th>3981</th>\n",
       "      <td>91556</td>\n",
       "      <td>Saint-Hilaire</td>\n",
       "      <td>681.0</td>\n",
       "      <td>POLYGON ((2.06320 48.44342, 2.07049 48.44691, ...</td>\n",
       "      <td>91</td>\n",
       "      <td>communes</td>\n",
       "      <td>NaN</td>\n",
       "      <td>NaN</td>\n",
       "      <td>NaN</td>\n",
       "      <td>NaN</td>\n",
       "      <td>NaN</td>\n",
       "      <td>NaN</td>\n",
       "      <td>NaN</td>\n",
       "      <td>NaN</td>\n",
       "      <td>NaN</td>\n",
       "      <td>NaN</td>\n",
       "      <td>NaN</td>\n",
       "      <td>NaN</td>\n",
       "    </tr>\n",
       "    <tr>\n",
       "      <th>3997</th>\n",
       "      <td>91148</td>\n",
       "      <td>Chauffour-lès-Étréchy</td>\n",
       "      <td>481.0</td>\n",
       "      <td>POLYGON ((2.15000 48.50944, 2.15287 48.50948, ...</td>\n",
       "      <td>91</td>\n",
       "      <td>communes</td>\n",
       "      <td>NaN</td>\n",
       "      <td>NaN</td>\n",
       "      <td>NaN</td>\n",
       "      <td>NaN</td>\n",
       "      <td>NaN</td>\n",
       "      <td>NaN</td>\n",
       "      <td>NaN</td>\n",
       "      <td>NaN</td>\n",
       "      <td>NaN</td>\n",
       "      <td>NaN</td>\n",
       "      <td>NaN</td>\n",
       "      <td>NaN</td>\n",
       "    </tr>\n",
       "    <tr>\n",
       "      <th>3998</th>\n",
       "      <td>77395</td>\n",
       "      <td>Rumont</td>\n",
       "      <td>660.0</td>\n",
       "      <td>POLYGON ((2.47361 48.27058, 2.47758 48.27101, ...</td>\n",
       "      <td>77</td>\n",
       "      <td>communes</td>\n",
       "      <td>NaN</td>\n",
       "      <td>NaN</td>\n",
       "      <td>NaN</td>\n",
       "      <td>NaN</td>\n",
       "      <td>NaN</td>\n",
       "      <td>NaN</td>\n",
       "      <td>NaN</td>\n",
       "      <td>NaN</td>\n",
       "      <td>NaN</td>\n",
       "      <td>NaN</td>\n",
       "      <td>NaN</td>\n",
       "      <td>NaN</td>\n",
       "    </tr>\n",
       "    <tr>\n",
       "      <th>3999</th>\n",
       "      <td>77003</td>\n",
       "      <td>Amponville</td>\n",
       "      <td>1193.0</td>\n",
       "      <td>POLYGON ((2.50261 48.28749, 2.50728 48.28815, ...</td>\n",
       "      <td>77</td>\n",
       "      <td>communes</td>\n",
       "      <td>NaN</td>\n",
       "      <td>NaN</td>\n",
       "      <td>NaN</td>\n",
       "      <td>NaN</td>\n",
       "      <td>NaN</td>\n",
       "      <td>NaN</td>\n",
       "      <td>NaN</td>\n",
       "      <td>NaN</td>\n",
       "      <td>NaN</td>\n",
       "      <td>NaN</td>\n",
       "      <td>NaN</td>\n",
       "      <td>NaN</td>\n",
       "    </tr>\n",
       "    <tr>\n",
       "      <th>4000</th>\n",
       "      <td>77041</td>\n",
       "      <td>Boissy-aux-Cailles</td>\n",
       "      <td>1638.0</td>\n",
       "      <td>POLYGON ((2.45610 48.32177, 2.45994 48.32128, ...</td>\n",
       "      <td>77</td>\n",
       "      <td>communes</td>\n",
       "      <td>NaN</td>\n",
       "      <td>NaN</td>\n",
       "      <td>NaN</td>\n",
       "      <td>NaN</td>\n",
       "      <td>NaN</td>\n",
       "      <td>NaN</td>\n",
       "      <td>NaN</td>\n",
       "      <td>NaN</td>\n",
       "      <td>NaN</td>\n",
       "      <td>NaN</td>\n",
       "      <td>NaN</td>\n",
       "      <td>NaN</td>\n",
       "    </tr>\n",
       "  </tbody>\n",
       "</table>\n",
       "</div>\n",
       "      <button class=\"colab-df-convert\" onclick=\"convertToInteractive('df-d5217b3d-297e-4e5f-917e-e91fa90d37f2')\"\n",
       "              title=\"Convert this dataframe to an interactive table.\"\n",
       "              style=\"display:none;\">\n",
       "        \n",
       "  <svg xmlns=\"http://www.w3.org/2000/svg\" height=\"24px\"viewBox=\"0 0 24 24\"\n",
       "       width=\"24px\">\n",
       "    <path d=\"M0 0h24v24H0V0z\" fill=\"none\"/>\n",
       "    <path d=\"M18.56 5.44l.94 2.06.94-2.06 2.06-.94-2.06-.94-.94-2.06-.94 2.06-2.06.94zm-11 1L8.5 8.5l.94-2.06 2.06-.94-2.06-.94L8.5 2.5l-.94 2.06-2.06.94zm10 10l.94 2.06.94-2.06 2.06-.94-2.06-.94-.94-2.06-.94 2.06-2.06.94z\"/><path d=\"M17.41 7.96l-1.37-1.37c-.4-.4-.92-.59-1.43-.59-.52 0-1.04.2-1.43.59L10.3 9.45l-7.72 7.72c-.78.78-.78 2.05 0 2.83L4 21.41c.39.39.9.59 1.41.59.51 0 1.02-.2 1.41-.59l7.78-7.78 2.81-2.81c.8-.78.8-2.07 0-2.86zM5.41 20L4 18.59l7.72-7.72 1.47 1.35L5.41 20z\"/>\n",
       "  </svg>\n",
       "      </button>\n",
       "      \n",
       "  <style>\n",
       "    .colab-df-container {\n",
       "      display:flex;\n",
       "      flex-wrap:wrap;\n",
       "      gap: 12px;\n",
       "    }\n",
       "\n",
       "    .colab-df-convert {\n",
       "      background-color: #E8F0FE;\n",
       "      border: none;\n",
       "      border-radius: 50%;\n",
       "      cursor: pointer;\n",
       "      display: none;\n",
       "      fill: #1967D2;\n",
       "      height: 32px;\n",
       "      padding: 0 0 0 0;\n",
       "      width: 32px;\n",
       "    }\n",
       "\n",
       "    .colab-df-convert:hover {\n",
       "      background-color: #E2EBFA;\n",
       "      box-shadow: 0px 1px 2px rgba(60, 64, 67, 0.3), 0px 1px 3px 1px rgba(60, 64, 67, 0.15);\n",
       "      fill: #174EA6;\n",
       "    }\n",
       "\n",
       "    [theme=dark] .colab-df-convert {\n",
       "      background-color: #3B4455;\n",
       "      fill: #D2E3FC;\n",
       "    }\n",
       "\n",
       "    [theme=dark] .colab-df-convert:hover {\n",
       "      background-color: #434B5C;\n",
       "      box-shadow: 0px 1px 3px 1px rgba(0, 0, 0, 0.15);\n",
       "      filter: drop-shadow(0px 1px 2px rgba(0, 0, 0, 0.3));\n",
       "      fill: #FFFFFF;\n",
       "    }\n",
       "  </style>\n",
       "\n",
       "      <script>\n",
       "        const buttonEl =\n",
       "          document.querySelector('#df-d5217b3d-297e-4e5f-917e-e91fa90d37f2 button.colab-df-convert');\n",
       "        buttonEl.style.display =\n",
       "          google.colab.kernel.accessAllowed ? 'block' : 'none';\n",
       "\n",
       "        async function convertToInteractive(key) {\n",
       "          const element = document.querySelector('#df-d5217b3d-297e-4e5f-917e-e91fa90d37f2');\n",
       "          const dataTable =\n",
       "            await google.colab.kernel.invokeFunction('convertToInteractive',\n",
       "                                                     [key], {});\n",
       "          if (!dataTable) return;\n",
       "\n",
       "          const docLinkHtml = 'Like what you see? Visit the ' +\n",
       "            '<a target=\"_blank\" href=https://colab.research.google.com/notebooks/data_table.ipynb>data table notebook</a>'\n",
       "            + ' to learn more about interactive tables.';\n",
       "          element.innerHTML = '';\n",
       "          dataTable['output_type'] = 'display_data';\n",
       "          await google.colab.output.renderOutput(dataTable, element);\n",
       "          const docLink = document.createElement('div');\n",
       "          docLink.innerHTML = docLinkHtml;\n",
       "          element.appendChild(docLink);\n",
       "        }\n",
       "      </script>\n",
       "    </div>\n",
       "  </div>\n",
       "  "
      ],
      "text/plain": [
       "      insee                    Nom  Surface  ... osm_original_geom techno usage\n",
       "3981  91556          Saint-Hilaire    681.0  ...               NaN    NaN   NaN\n",
       "3997  91148  Chauffour-lès-Étréchy    481.0  ...               NaN    NaN   NaN\n",
       "3998  77395                 Rumont    660.0  ...               NaN    NaN   NaN\n",
       "3999  77003             Amponville   1193.0  ...               NaN    NaN   NaN\n",
       "4000  77041     Boissy-aux-Cailles   1638.0  ...               NaN    NaN   NaN\n",
       "\n",
       "[5 rows x 18 columns]"
      ]
     },
     "execution_count": 41,
     "metadata": {},
     "output_type": "execute_result"
    }
   ],
   "source": [
    "base_fusion.head()"
   ]
  },
  {
   "cell_type": "code",
   "execution_count": null,
   "metadata": {},
   "outputs": [],
   "source": [
    "police_fusion.to_csv(\"police.csv\")\n",
    "camping_fusion.to_csv(\"camping.csv\")\n",
    "defibrillateurs_fusion.to_csv(\"defibrillateur.csv\")"
   ]
  }
 ],
 "metadata": {
  "colab": {
   "authorship_tag": "ABX9TyMkd9RdXACxDGNtmIKbgQDG",
   "collapsed_sections": [],
   "name": "Visualisation 2.ipynb",
   "provenance": [
    {
     "file_id": "12hDJP6WbIgzOj_NVXGDg5e2igLRY7qVU",
     "timestamp": 1641004814204
    }
   ]
  },
  "kernelspec": {
   "display_name": "Python 3 (ipykernel)",
   "language": "python",
   "name": "python3"
  },
  "language_info": {
   "codemirror_mode": {
    "name": "ipython",
    "version": 3
   },
   "file_extension": ".py",
   "mimetype": "text/x-python",
   "name": "python",
   "nbconvert_exporter": "python",
   "pygments_lexer": "ipython3",
   "version": "3.10.1"
  }
 },
 "nbformat": 4,
 "nbformat_minor": 4
}
