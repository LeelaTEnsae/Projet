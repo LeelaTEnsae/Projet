{
  "nbformat": 4,
  "nbformat_minor": 0,
  "metadata": {
    "colab": {
      "name": "clustering.ipynb",
      "provenance": [],
      "collapsed_sections": []
    },
    "kernelspec": {
      "name": "python3",
      "display_name": "Python 3"
    },
    "language_info": {
      "name": "python"
    }
  },
  "cells": [
    {
      "cell_type": "markdown",
      "source": [
        "**Clustering:**\n",
        "Dans cette partie, nous récupérons le dataset crée par \"prepare_data\" afin d'y appliquer deux méthodes de machine learning pour deux buts différents:\n",
        "\n",
        "**1- l'analyse de composantes principales (PCA):** Cette méthode est utilisée pour réduire la dimentionalité du dataset. D'une part, cela nous permet d'essayer de faire un clustering sur deux dimentions, d'autre part, elle nous permet d'identifier quelles variables séparent mieux le dataset.\n",
        "\n",
        "**2- le clustering par la méthode des kmeans:** C'est la méthode de clustering qu'on a choisi d'utiliser, pricipalement car on l'a vu en cours, elle est appliquée sur les données de dimention réduite (par la PCA)"
      ],
      "metadata": {
        "id": "-el79C4gzuOL"
      }
    },
    {
      "cell_type": "markdown",
      "source": [
        "Préparation de l'environnement: rien d'exceptionnel ici, on importe les bibliothèques dont on aura besoin"
      ],
      "metadata": {
        "id": "6omP88MK29Gk"
      }
    },
    {
      "cell_type": "code",
      "source": [
        "!pip install geopandas"
      ],
      "metadata": {
        "colab": {
          "base_uri": "https://localhost:8080/"
        },
        "id": "vJH9Drvtu0XE",
        "outputId": "cf9df6c6-b4af-4f8d-8e92-85ff816ed774"
      },
      "execution_count": 124,
      "outputs": [
        {
          "output_type": "stream",
          "name": "stdout",
          "text": [
            "Requirement already satisfied: geopandas in /usr/local/lib/python3.7/dist-packages (0.10.2)\n",
            "Requirement already satisfied: shapely>=1.6 in /usr/local/lib/python3.7/dist-packages (from geopandas) (1.8.0)\n",
            "Requirement already satisfied: fiona>=1.8 in /usr/local/lib/python3.7/dist-packages (from geopandas) (1.8.20)\n",
            "Requirement already satisfied: pyproj>=2.2.0 in /usr/local/lib/python3.7/dist-packages (from geopandas) (3.2.1)\n",
            "Requirement already satisfied: pandas>=0.25.0 in /usr/local/lib/python3.7/dist-packages (from geopandas) (1.1.5)\n",
            "Requirement already satisfied: attrs>=17 in /usr/local/lib/python3.7/dist-packages (from fiona>=1.8->geopandas) (21.2.0)\n",
            "Requirement already satisfied: click-plugins>=1.0 in /usr/local/lib/python3.7/dist-packages (from fiona>=1.8->geopandas) (1.1.1)\n",
            "Requirement already satisfied: cligj>=0.5 in /usr/local/lib/python3.7/dist-packages (from fiona>=1.8->geopandas) (0.7.2)\n",
            "Requirement already satisfied: click>=4.0 in /usr/local/lib/python3.7/dist-packages (from fiona>=1.8->geopandas) (7.1.2)\n",
            "Requirement already satisfied: munch in /usr/local/lib/python3.7/dist-packages (from fiona>=1.8->geopandas) (2.5.0)\n",
            "Requirement already satisfied: setuptools in /usr/local/lib/python3.7/dist-packages (from fiona>=1.8->geopandas) (57.4.0)\n",
            "Requirement already satisfied: certifi in /usr/local/lib/python3.7/dist-packages (from fiona>=1.8->geopandas) (2021.10.8)\n",
            "Requirement already satisfied: six>=1.7 in /usr/local/lib/python3.7/dist-packages (from fiona>=1.8->geopandas) (1.15.0)\n",
            "Requirement already satisfied: python-dateutil>=2.7.3 in /usr/local/lib/python3.7/dist-packages (from pandas>=0.25.0->geopandas) (2.8.2)\n",
            "Requirement already satisfied: numpy>=1.15.4 in /usr/local/lib/python3.7/dist-packages (from pandas>=0.25.0->geopandas) (1.19.5)\n",
            "Requirement already satisfied: pytz>=2017.2 in /usr/local/lib/python3.7/dist-packages (from pandas>=0.25.0->geopandas) (2018.9)\n"
          ]
        }
      ]
    },
    {
      "cell_type": "code",
      "execution_count": 125,
      "metadata": {
        "id": "VMvH5mOsuBqU"
      },
      "outputs": [],
      "source": [
        "import pandas as pd\n",
        "import numpy as np\n",
        "import matplotlib.pyplot as plt\n",
        "from sklearn.datasets import make_blobs\n",
        "from sklearn.cluster import KMeans\n",
        "from sklearn.metrics import silhouette_score\n",
        "from sklearn.preprocessing import StandardScaler\n",
        "import geopandas as gpd\n",
        "import seaborn as sns\n",
        "from scipy import stats"
      ]
    },
    {
      "cell_type": "markdown",
      "source": [
        "Lecture du dataset:"
      ],
      "metadata": {
        "id": "SQylOt3v3JyD"
      }
    },
    {
      "cell_type": "code",
      "source": [
        "camping=pd.read_csv(\"camping.csv\")"
      ],
      "metadata": {
        "id": "U8Vtk02P1D_0"
      },
      "execution_count": 126,
      "outputs": []
    },
    {
      "cell_type": "markdown",
      "source": [
        "Vérification des colonnes (on a remarqué ici qu'une nouvelle colonne est ajoutée par le code précédent qui n'a aucune utilité appelée \"Unnamed: 0\", sans vouloir trop modifier le code précédent, on se contente de l'enlever)"
      ],
      "metadata": {
        "id": "7ko8sGns3MI5"
      }
    },
    {
      "cell_type": "code",
      "source": [
        "camping.columns"
      ],
      "metadata": {
        "colab": {
          "base_uri": "https://localhost:8080/"
        },
        "id": "A1W_nrJJ1ZeE",
        "outputId": "ec7f466a-e644-4bb4-c925-07494d20f36b"
      },
      "execution_count": 127,
      "outputs": [
        {
          "output_type": "execute_result",
          "data": {
            "text/plain": [
              "Index(['Unnamed: 0', 'Adresse', 'dep', 'Emplacements', 'Nom', 'Classement',\n",
              "       'commune', 'code_postal', 'geometry', 'Surface', 'permanence_24h',\n",
              "       'langues_accueil', 'internet_partout', 'rapport_sans_mobile',\n",
              "       'distance_police', 'distance_hopitaux', 'defib_moins_2km'],\n",
              "      dtype='object')"
            ]
          },
          "metadata": {},
          "execution_count": 127
        }
      ]
    },
    {
      "cell_type": "markdown",
      "source": [
        "La variable \"rapport_sans_mobile\" est obsolète car tous les sites de camping ont une couverture réseau totale, on l'enlève aussi"
      ],
      "metadata": {
        "id": "y-FlTMhl3d_c"
      }
    },
    {
      "cell_type": "code",
      "source": [
        "camping_copy=camping.drop(columns=[\"Unnamed: 0\",\"rapport_sans_mobile\"])\n",
        "camping_copy"
      ],
      "metadata": {
        "colab": {
          "base_uri": "https://localhost:8080/",
          "height": 840
        },
        "id": "ezPIJwxT1bkD",
        "outputId": "1f262f80-7831-44e4-f6b0-53ce272e34d5"
      },
      "execution_count": 128,
      "outputs": [
        {
          "output_type": "execute_result",
          "data": {
            "text/html": [
              "\n",
              "  <div id=\"df-f3191f5f-9f62-4856-9ed6-4de54a1f334c\">\n",
              "    <div class=\"colab-df-container\">\n",
              "      <div>\n",
              "<style scoped>\n",
              "    .dataframe tbody tr th:only-of-type {\n",
              "        vertical-align: middle;\n",
              "    }\n",
              "\n",
              "    .dataframe tbody tr th {\n",
              "        vertical-align: top;\n",
              "    }\n",
              "\n",
              "    .dataframe thead th {\n",
              "        text-align: right;\n",
              "    }\n",
              "</style>\n",
              "<table border=\"1\" class=\"dataframe\">\n",
              "  <thead>\n",
              "    <tr style=\"text-align: right;\">\n",
              "      <th></th>\n",
              "      <th>Adresse</th>\n",
              "      <th>dep</th>\n",
              "      <th>Emplacements</th>\n",
              "      <th>Nom</th>\n",
              "      <th>Classement</th>\n",
              "      <th>commune</th>\n",
              "      <th>code_postal</th>\n",
              "      <th>geometry</th>\n",
              "      <th>Surface</th>\n",
              "      <th>permanence_24h</th>\n",
              "      <th>langues_accueil</th>\n",
              "      <th>internet_partout</th>\n",
              "      <th>distance_police</th>\n",
              "      <th>distance_hopitaux</th>\n",
              "      <th>defib_moins_2km</th>\n",
              "    </tr>\n",
              "  </thead>\n",
              "  <tbody>\n",
              "    <tr>\n",
              "      <th>0</th>\n",
              "      <td>Route du Château d'eau</td>\n",
              "      <td>78</td>\n",
              "      <td>180</td>\n",
              "      <td>CAMPING HUTTOPIA RAMBOUILLET</td>\n",
              "      <td>3</td>\n",
              "      <td>RAMBOUILLET</td>\n",
              "      <td>78120</td>\n",
              "      <td>POINT (1.835694 48.630059)</td>\n",
              "      <td>18000.0</td>\n",
              "      <td>1</td>\n",
              "      <td>3</td>\n",
              "      <td>0</td>\n",
              "      <td>2817</td>\n",
              "      <td>6807</td>\n",
              "      <td>0</td>\n",
              "    </tr>\n",
              "    <tr>\n",
              "      <th>1</th>\n",
              "      <td>11 CHEMIN DU CAMPING</td>\n",
              "      <td>77</td>\n",
              "      <td>440</td>\n",
              "      <td>CAMPING LES PRÉS DE LA FONTAINE</td>\n",
              "      <td>3</td>\n",
              "      <td>HERMÉ</td>\n",
              "      <td>77114</td>\n",
              "      <td>POINT (3.338549 48.472784)</td>\n",
              "      <td>44000.0</td>\n",
              "      <td>1</td>\n",
              "      <td>3</td>\n",
              "      <td>0</td>\n",
              "      <td>4953</td>\n",
              "      <td>10485</td>\n",
              "      <td>1</td>\n",
              "    </tr>\n",
              "    <tr>\n",
              "      <th>2</th>\n",
              "      <td>26 Route de Vauvert</td>\n",
              "      <td>91</td>\n",
              "      <td>230</td>\n",
              "      <td>CARAVANING LE VAUVERT</td>\n",
              "      <td>4</td>\n",
              "      <td>ORMOY-LA-RIVIÈRE</td>\n",
              "      <td>91150</td>\n",
              "      <td>POINT (2.143939 48.411278)</td>\n",
              "      <td>28750.0</td>\n",
              "      <td>1</td>\n",
              "      <td>3</td>\n",
              "      <td>1</td>\n",
              "      <td>5177</td>\n",
              "      <td>691</td>\n",
              "      <td>1</td>\n",
              "    </tr>\n",
              "    <tr>\n",
              "      <th>3</th>\n",
              "      <td>chemin des ponceaux</td>\n",
              "      <td>77</td>\n",
              "      <td>140</td>\n",
              "      <td>CAMPING LES ACACIAS</td>\n",
              "      <td>2</td>\n",
              "      <td>BETON-BAZOCHES</td>\n",
              "      <td>77320</td>\n",
              "      <td>POINT (3.239464 48.707003)</td>\n",
              "      <td>14000.0</td>\n",
              "      <td>0</td>\n",
              "      <td>1</td>\n",
              "      <td>0</td>\n",
              "      <td>16466</td>\n",
              "      <td>23260</td>\n",
              "      <td>0</td>\n",
              "    </tr>\n",
              "    <tr>\n",
              "      <th>4</th>\n",
              "      <td>24 Place de la gare de Faremoutiers</td>\n",
              "      <td>77</td>\n",
              "      <td>316</td>\n",
              "      <td>LE CHÊNE GRIS</td>\n",
              "      <td>4</td>\n",
              "      <td>POMMEUSE</td>\n",
              "      <td>77515</td>\n",
              "      <td>POINT (2.99998 48.800512)</td>\n",
              "      <td>39500.0</td>\n",
              "      <td>1</td>\n",
              "      <td>3</td>\n",
              "      <td>1</td>\n",
              "      <td>8711</td>\n",
              "      <td>12013</td>\n",
              "      <td>1</td>\n",
              "    </tr>\n",
              "    <tr>\n",
              "      <th>...</th>\n",
              "      <td>...</td>\n",
              "      <td>...</td>\n",
              "      <td>...</td>\n",
              "      <td>...</td>\n",
              "      <td>...</td>\n",
              "      <td>...</td>\n",
              "      <td>...</td>\n",
              "      <td>...</td>\n",
              "      <td>...</td>\n",
              "      <td>...</td>\n",
              "      <td>...</td>\n",
              "      <td>...</td>\n",
              "      <td>...</td>\n",
              "      <td>...</td>\n",
              "      <td>...</td>\n",
              "    </tr>\n",
              "    <tr>\n",
              "      <th>60</th>\n",
              "      <td>7 route de Mary prolongée</td>\n",
              "      <td>77</td>\n",
              "      <td>29</td>\n",
              "      <td>CAMPING DES 2 ÎLES</td>\n",
              "      <td>3</td>\n",
              "      <td>ISLES-LES-MELDEUSES</td>\n",
              "      <td>77440</td>\n",
              "      <td>POINT (3.017345 49.005719)</td>\n",
              "      <td>2900.0</td>\n",
              "      <td>1</td>\n",
              "      <td>3</td>\n",
              "      <td>0</td>\n",
              "      <td>7302</td>\n",
              "      <td>17542</td>\n",
              "      <td>0</td>\n",
              "    </tr>\n",
              "    <tr>\n",
              "      <th>61</th>\n",
              "      <td>route des grandes vallées</td>\n",
              "      <td>91</td>\n",
              "      <td>200</td>\n",
              "      <td>CAMPING LA MUSARDIÈRE</td>\n",
              "      <td>3</td>\n",
              "      <td>MILLY-LA-FORÊT</td>\n",
              "      <td>91490</td>\n",
              "      <td>POINT (2.50748 48.395017)</td>\n",
              "      <td>20000.0</td>\n",
              "      <td>1</td>\n",
              "      <td>3</td>\n",
              "      <td>0</td>\n",
              "      <td>5808</td>\n",
              "      <td>17766</td>\n",
              "      <td>1</td>\n",
              "    </tr>\n",
              "    <tr>\n",
              "      <th>62</th>\n",
              "      <td>route de Chatenay</td>\n",
              "      <td>77</td>\n",
              "      <td>75</td>\n",
              "      <td>L'ÉTANG DE L'HERMITAGE</td>\n",
              "      <td>1</td>\n",
              "      <td>LA TOMBE</td>\n",
              "      <td>77130</td>\n",
              "      <td>POINT (3.092168 48.393756)</td>\n",
              "      <td>7500.0</td>\n",
              "      <td>0</td>\n",
              "      <td>1</td>\n",
              "      <td>0</td>\n",
              "      <td>7144</td>\n",
              "      <td>13471</td>\n",
              "      <td>0</td>\n",
              "    </tr>\n",
              "    <tr>\n",
              "      <th>63</th>\n",
              "      <td>25 ter rue de ballancourt</td>\n",
              "      <td>91</td>\n",
              "      <td>190</td>\n",
              "      <td>CAMPING LE NID VERT</td>\n",
              "      <td>3</td>\n",
              "      <td>MONDEVILLE</td>\n",
              "      <td>91590</td>\n",
              "      <td>POINT (2.413052 48.492246)</td>\n",
              "      <td>19000.0</td>\n",
              "      <td>1</td>\n",
              "      <td>3</td>\n",
              "      <td>0</td>\n",
              "      <td>10911</td>\n",
              "      <td>27601</td>\n",
              "      <td>0</td>\n",
              "    </tr>\n",
              "    <tr>\n",
              "      <th>64</th>\n",
              "      <td>chemin des grèves</td>\n",
              "      <td>77</td>\n",
              "      <td>160</td>\n",
              "      <td>CAMPING MUNICIPAL PIERRE LE SAULT</td>\n",
              "      <td>2</td>\n",
              "      <td>BAGNEAUX-SUR-LOING</td>\n",
              "      <td>77167</td>\n",
              "      <td>POINT (2.703849 48.2405)</td>\n",
              "      <td>16000.0</td>\n",
              "      <td>0</td>\n",
              "      <td>1</td>\n",
              "      <td>0</td>\n",
              "      <td>1276</td>\n",
              "      <td>6565</td>\n",
              "      <td>1</td>\n",
              "    </tr>\n",
              "  </tbody>\n",
              "</table>\n",
              "<p>65 rows × 15 columns</p>\n",
              "</div>\n",
              "      <button class=\"colab-df-convert\" onclick=\"convertToInteractive('df-f3191f5f-9f62-4856-9ed6-4de54a1f334c')\"\n",
              "              title=\"Convert this dataframe to an interactive table.\"\n",
              "              style=\"display:none;\">\n",
              "        \n",
              "  <svg xmlns=\"http://www.w3.org/2000/svg\" height=\"24px\"viewBox=\"0 0 24 24\"\n",
              "       width=\"24px\">\n",
              "    <path d=\"M0 0h24v24H0V0z\" fill=\"none\"/>\n",
              "    <path d=\"M18.56 5.44l.94 2.06.94-2.06 2.06-.94-2.06-.94-.94-2.06-.94 2.06-2.06.94zm-11 1L8.5 8.5l.94-2.06 2.06-.94-2.06-.94L8.5 2.5l-.94 2.06-2.06.94zm10 10l.94 2.06.94-2.06 2.06-.94-2.06-.94-.94-2.06-.94 2.06-2.06.94z\"/><path d=\"M17.41 7.96l-1.37-1.37c-.4-.4-.92-.59-1.43-.59-.52 0-1.04.2-1.43.59L10.3 9.45l-7.72 7.72c-.78.78-.78 2.05 0 2.83L4 21.41c.39.39.9.59 1.41.59.51 0 1.02-.2 1.41-.59l7.78-7.78 2.81-2.81c.8-.78.8-2.07 0-2.86zM5.41 20L4 18.59l7.72-7.72 1.47 1.35L5.41 20z\"/>\n",
              "  </svg>\n",
              "      </button>\n",
              "      \n",
              "  <style>\n",
              "    .colab-df-container {\n",
              "      display:flex;\n",
              "      flex-wrap:wrap;\n",
              "      gap: 12px;\n",
              "    }\n",
              "\n",
              "    .colab-df-convert {\n",
              "      background-color: #E8F0FE;\n",
              "      border: none;\n",
              "      border-radius: 50%;\n",
              "      cursor: pointer;\n",
              "      display: none;\n",
              "      fill: #1967D2;\n",
              "      height: 32px;\n",
              "      padding: 0 0 0 0;\n",
              "      width: 32px;\n",
              "    }\n",
              "\n",
              "    .colab-df-convert:hover {\n",
              "      background-color: #E2EBFA;\n",
              "      box-shadow: 0px 1px 2px rgba(60, 64, 67, 0.3), 0px 1px 3px 1px rgba(60, 64, 67, 0.15);\n",
              "      fill: #174EA6;\n",
              "    }\n",
              "\n",
              "    [theme=dark] .colab-df-convert {\n",
              "      background-color: #3B4455;\n",
              "      fill: #D2E3FC;\n",
              "    }\n",
              "\n",
              "    [theme=dark] .colab-df-convert:hover {\n",
              "      background-color: #434B5C;\n",
              "      box-shadow: 0px 1px 3px 1px rgba(0, 0, 0, 0.15);\n",
              "      filter: drop-shadow(0px 1px 2px rgba(0, 0, 0, 0.3));\n",
              "      fill: #FFFFFF;\n",
              "    }\n",
              "  </style>\n",
              "\n",
              "      <script>\n",
              "        const buttonEl =\n",
              "          document.querySelector('#df-f3191f5f-9f62-4856-9ed6-4de54a1f334c button.colab-df-convert');\n",
              "        buttonEl.style.display =\n",
              "          google.colab.kernel.accessAllowed ? 'block' : 'none';\n",
              "\n",
              "        async function convertToInteractive(key) {\n",
              "          const element = document.querySelector('#df-f3191f5f-9f62-4856-9ed6-4de54a1f334c');\n",
              "          const dataTable =\n",
              "            await google.colab.kernel.invokeFunction('convertToInteractive',\n",
              "                                                     [key], {});\n",
              "          if (!dataTable) return;\n",
              "\n",
              "          const docLinkHtml = 'Like what you see? Visit the ' +\n",
              "            '<a target=\"_blank\" href=https://colab.research.google.com/notebooks/data_table.ipynb>data table notebook</a>'\n",
              "            + ' to learn more about interactive tables.';\n",
              "          element.innerHTML = '';\n",
              "          dataTable['output_type'] = 'display_data';\n",
              "          await google.colab.output.renderOutput(dataTable, element);\n",
              "          const docLink = document.createElement('div');\n",
              "          docLink.innerHTML = docLinkHtml;\n",
              "          element.appendChild(docLink);\n",
              "        }\n",
              "      </script>\n",
              "    </div>\n",
              "  </div>\n",
              "  "
            ],
            "text/plain": [
              "                                Adresse  ...  defib_moins_2km\n",
              "0                Route du Château d'eau  ...                0\n",
              "1                  11 CHEMIN DU CAMPING  ...                1\n",
              "2                   26 Route de Vauvert  ...                1\n",
              "3                   chemin des ponceaux  ...                0\n",
              "4   24 Place de la gare de Faremoutiers  ...                1\n",
              "..                                  ...  ...              ...\n",
              "60            7 route de Mary prolongée  ...                0\n",
              "61            route des grandes vallées  ...                1\n",
              "62                    route de Chatenay  ...                0\n",
              "63            25 ter rue de ballancourt  ...                0\n",
              "64                    chemin des grèves  ...                1\n",
              "\n",
              "[65 rows x 15 columns]"
            ]
          },
          "metadata": {},
          "execution_count": 128
        }
      ]
    },
    {
      "cell_type": "markdown",
      "source": [
        "On réorganise les colonnes du dataset afin de faciliter les manipulations qui vont suivre"
      ],
      "metadata": {
        "id": "ZXpuzuWq3pED"
      }
    },
    {
      "cell_type": "code",
      "source": [
        "camping_copy.columns"
      ],
      "metadata": {
        "colab": {
          "base_uri": "https://localhost:8080/"
        },
        "id": "z6rgMfd910rS",
        "outputId": "0e796fc5-04ea-41dc-e888-3f6d6d5d46fa"
      },
      "execution_count": 129,
      "outputs": [
        {
          "output_type": "execute_result",
          "data": {
            "text/plain": [
              "Index(['Adresse', 'dep', 'Emplacements', 'Nom', 'Classement', 'commune',\n",
              "       'code_postal', 'geometry', 'Surface', 'permanence_24h',\n",
              "       'langues_accueil', 'internet_partout', 'distance_police',\n",
              "       'distance_hopitaux', 'defib_moins_2km'],\n",
              "      dtype='object')"
            ]
          },
          "metadata": {},
          "execution_count": 129
        }
      ]
    },
    {
      "cell_type": "code",
      "source": [
        "camping_copy=camping_copy[['Adresse', 'dep', 'Nom', 'commune',\n",
        "       'code_postal', 'geometry','Emplacements', 'Surface', 'permanence_24h',\n",
        "       'distance_police','distance_hopitaux','defib_moins_2km','langues_accueil','internet_partout', 'Classement']]"
      ],
      "metadata": {
        "id": "NOfRKow_3__G"
      },
      "execution_count": 130,
      "outputs": []
    },
    {
      "cell_type": "code",
      "source": [
        "#camping_copy=camping_copy.drop(columns=[\"label\"],axis=1)"
      ],
      "metadata": {
        "id": "1dZyi4J4I8CW"
      },
      "execution_count": 131,
      "outputs": []
    },
    {
      "cell_type": "markdown",
      "source": [
        "On enlève les données abérrantes, ils influent négativement sur le résultat du clustening car la méthode des knn est sensible à ce type de données\n",
        "\n",
        "On a choisit d'utiliser le \"zscore\" pour les identifier car c'est la métrique qui nous semble la plus intuitive: on enlève les lignes dont les valeurs dépassent la moyenne par 3 écart-types"
      ],
      "metadata": {
        "id": "0ZCw5MPo30d3"
      }
    },
    {
      "cell_type": "code",
      "source": [
        "camping_copy_clean=camping_copy[(np.abs(stats.zscore(camping_copy.iloc[:,6:14].values)) < 3).all(axis=1)]"
      ],
      "metadata": {
        "id": "11LJhRJSrJMG"
      },
      "execution_count": 132,
      "outputs": []
    },
    {
      "cell_type": "code",
      "source": [
        "camping_copy_clean"
      ],
      "metadata": {
        "colab": {
          "base_uri": "https://localhost:8080/",
          "height": 840
        },
        "id": "IpD_nhQ8rJKQ",
        "outputId": "37fff452-1082-4e2f-ebeb-6ebf16a4dae9"
      },
      "execution_count": 133,
      "outputs": [
        {
          "output_type": "execute_result",
          "data": {
            "text/html": [
              "\n",
              "  <div id=\"df-29b9dbfe-a14a-467a-ac2c-02e26bc38fe7\">\n",
              "    <div class=\"colab-df-container\">\n",
              "      <div>\n",
              "<style scoped>\n",
              "    .dataframe tbody tr th:only-of-type {\n",
              "        vertical-align: middle;\n",
              "    }\n",
              "\n",
              "    .dataframe tbody tr th {\n",
              "        vertical-align: top;\n",
              "    }\n",
              "\n",
              "    .dataframe thead th {\n",
              "        text-align: right;\n",
              "    }\n",
              "</style>\n",
              "<table border=\"1\" class=\"dataframe\">\n",
              "  <thead>\n",
              "    <tr style=\"text-align: right;\">\n",
              "      <th></th>\n",
              "      <th>Adresse</th>\n",
              "      <th>dep</th>\n",
              "      <th>Nom</th>\n",
              "      <th>commune</th>\n",
              "      <th>code_postal</th>\n",
              "      <th>geometry</th>\n",
              "      <th>Emplacements</th>\n",
              "      <th>Surface</th>\n",
              "      <th>permanence_24h</th>\n",
              "      <th>distance_police</th>\n",
              "      <th>distance_hopitaux</th>\n",
              "      <th>defib_moins_2km</th>\n",
              "      <th>langues_accueil</th>\n",
              "      <th>internet_partout</th>\n",
              "      <th>Classement</th>\n",
              "    </tr>\n",
              "  </thead>\n",
              "  <tbody>\n",
              "    <tr>\n",
              "      <th>0</th>\n",
              "      <td>Route du Château d'eau</td>\n",
              "      <td>78</td>\n",
              "      <td>CAMPING HUTTOPIA RAMBOUILLET</td>\n",
              "      <td>RAMBOUILLET</td>\n",
              "      <td>78120</td>\n",
              "      <td>POINT (1.835694 48.630059)</td>\n",
              "      <td>180</td>\n",
              "      <td>18000.0</td>\n",
              "      <td>1</td>\n",
              "      <td>2817</td>\n",
              "      <td>6807</td>\n",
              "      <td>0</td>\n",
              "      <td>3</td>\n",
              "      <td>0</td>\n",
              "      <td>3</td>\n",
              "    </tr>\n",
              "    <tr>\n",
              "      <th>1</th>\n",
              "      <td>11 CHEMIN DU CAMPING</td>\n",
              "      <td>77</td>\n",
              "      <td>CAMPING LES PRÉS DE LA FONTAINE</td>\n",
              "      <td>HERMÉ</td>\n",
              "      <td>77114</td>\n",
              "      <td>POINT (3.338549 48.472784)</td>\n",
              "      <td>440</td>\n",
              "      <td>44000.0</td>\n",
              "      <td>1</td>\n",
              "      <td>4953</td>\n",
              "      <td>10485</td>\n",
              "      <td>1</td>\n",
              "      <td>3</td>\n",
              "      <td>0</td>\n",
              "      <td>3</td>\n",
              "    </tr>\n",
              "    <tr>\n",
              "      <th>2</th>\n",
              "      <td>26 Route de Vauvert</td>\n",
              "      <td>91</td>\n",
              "      <td>CARAVANING LE VAUVERT</td>\n",
              "      <td>ORMOY-LA-RIVIÈRE</td>\n",
              "      <td>91150</td>\n",
              "      <td>POINT (2.143939 48.411278)</td>\n",
              "      <td>230</td>\n",
              "      <td>28750.0</td>\n",
              "      <td>1</td>\n",
              "      <td>5177</td>\n",
              "      <td>691</td>\n",
              "      <td>1</td>\n",
              "      <td>3</td>\n",
              "      <td>1</td>\n",
              "      <td>4</td>\n",
              "    </tr>\n",
              "    <tr>\n",
              "      <th>3</th>\n",
              "      <td>chemin des ponceaux</td>\n",
              "      <td>77</td>\n",
              "      <td>CAMPING LES ACACIAS</td>\n",
              "      <td>BETON-BAZOCHES</td>\n",
              "      <td>77320</td>\n",
              "      <td>POINT (3.239464 48.707003)</td>\n",
              "      <td>140</td>\n",
              "      <td>14000.0</td>\n",
              "      <td>0</td>\n",
              "      <td>16466</td>\n",
              "      <td>23260</td>\n",
              "      <td>0</td>\n",
              "      <td>1</td>\n",
              "      <td>0</td>\n",
              "      <td>2</td>\n",
              "    </tr>\n",
              "    <tr>\n",
              "      <th>4</th>\n",
              "      <td>24 Place de la gare de Faremoutiers</td>\n",
              "      <td>77</td>\n",
              "      <td>LE CHÊNE GRIS</td>\n",
              "      <td>POMMEUSE</td>\n",
              "      <td>77515</td>\n",
              "      <td>POINT (2.99998 48.800512)</td>\n",
              "      <td>316</td>\n",
              "      <td>39500.0</td>\n",
              "      <td>1</td>\n",
              "      <td>8711</td>\n",
              "      <td>12013</td>\n",
              "      <td>1</td>\n",
              "      <td>3</td>\n",
              "      <td>1</td>\n",
              "      <td>4</td>\n",
              "    </tr>\n",
              "    <tr>\n",
              "      <th>...</th>\n",
              "      <td>...</td>\n",
              "      <td>...</td>\n",
              "      <td>...</td>\n",
              "      <td>...</td>\n",
              "      <td>...</td>\n",
              "      <td>...</td>\n",
              "      <td>...</td>\n",
              "      <td>...</td>\n",
              "      <td>...</td>\n",
              "      <td>...</td>\n",
              "      <td>...</td>\n",
              "      <td>...</td>\n",
              "      <td>...</td>\n",
              "      <td>...</td>\n",
              "      <td>...</td>\n",
              "    </tr>\n",
              "    <tr>\n",
              "      <th>60</th>\n",
              "      <td>7 route de Mary prolongée</td>\n",
              "      <td>77</td>\n",
              "      <td>CAMPING DES 2 ÎLES</td>\n",
              "      <td>ISLES-LES-MELDEUSES</td>\n",
              "      <td>77440</td>\n",
              "      <td>POINT (3.017345 49.005719)</td>\n",
              "      <td>29</td>\n",
              "      <td>2900.0</td>\n",
              "      <td>1</td>\n",
              "      <td>7302</td>\n",
              "      <td>17542</td>\n",
              "      <td>0</td>\n",
              "      <td>3</td>\n",
              "      <td>0</td>\n",
              "      <td>3</td>\n",
              "    </tr>\n",
              "    <tr>\n",
              "      <th>61</th>\n",
              "      <td>route des grandes vallées</td>\n",
              "      <td>91</td>\n",
              "      <td>CAMPING LA MUSARDIÈRE</td>\n",
              "      <td>MILLY-LA-FORÊT</td>\n",
              "      <td>91490</td>\n",
              "      <td>POINT (2.50748 48.395017)</td>\n",
              "      <td>200</td>\n",
              "      <td>20000.0</td>\n",
              "      <td>1</td>\n",
              "      <td>5808</td>\n",
              "      <td>17766</td>\n",
              "      <td>1</td>\n",
              "      <td>3</td>\n",
              "      <td>0</td>\n",
              "      <td>3</td>\n",
              "    </tr>\n",
              "    <tr>\n",
              "      <th>62</th>\n",
              "      <td>route de Chatenay</td>\n",
              "      <td>77</td>\n",
              "      <td>L'ÉTANG DE L'HERMITAGE</td>\n",
              "      <td>LA TOMBE</td>\n",
              "      <td>77130</td>\n",
              "      <td>POINT (3.092168 48.393756)</td>\n",
              "      <td>75</td>\n",
              "      <td>7500.0</td>\n",
              "      <td>0</td>\n",
              "      <td>7144</td>\n",
              "      <td>13471</td>\n",
              "      <td>0</td>\n",
              "      <td>1</td>\n",
              "      <td>0</td>\n",
              "      <td>1</td>\n",
              "    </tr>\n",
              "    <tr>\n",
              "      <th>63</th>\n",
              "      <td>25 ter rue de ballancourt</td>\n",
              "      <td>91</td>\n",
              "      <td>CAMPING LE NID VERT</td>\n",
              "      <td>MONDEVILLE</td>\n",
              "      <td>91590</td>\n",
              "      <td>POINT (2.413052 48.492246)</td>\n",
              "      <td>190</td>\n",
              "      <td>19000.0</td>\n",
              "      <td>1</td>\n",
              "      <td>10911</td>\n",
              "      <td>27601</td>\n",
              "      <td>0</td>\n",
              "      <td>3</td>\n",
              "      <td>0</td>\n",
              "      <td>3</td>\n",
              "    </tr>\n",
              "    <tr>\n",
              "      <th>64</th>\n",
              "      <td>chemin des grèves</td>\n",
              "      <td>77</td>\n",
              "      <td>CAMPING MUNICIPAL PIERRE LE SAULT</td>\n",
              "      <td>BAGNEAUX-SUR-LOING</td>\n",
              "      <td>77167</td>\n",
              "      <td>POINT (2.703849 48.2405)</td>\n",
              "      <td>160</td>\n",
              "      <td>16000.0</td>\n",
              "      <td>0</td>\n",
              "      <td>1276</td>\n",
              "      <td>6565</td>\n",
              "      <td>1</td>\n",
              "      <td>1</td>\n",
              "      <td>0</td>\n",
              "      <td>2</td>\n",
              "    </tr>\n",
              "  </tbody>\n",
              "</table>\n",
              "<p>63 rows × 15 columns</p>\n",
              "</div>\n",
              "      <button class=\"colab-df-convert\" onclick=\"convertToInteractive('df-29b9dbfe-a14a-467a-ac2c-02e26bc38fe7')\"\n",
              "              title=\"Convert this dataframe to an interactive table.\"\n",
              "              style=\"display:none;\">\n",
              "        \n",
              "  <svg xmlns=\"http://www.w3.org/2000/svg\" height=\"24px\"viewBox=\"0 0 24 24\"\n",
              "       width=\"24px\">\n",
              "    <path d=\"M0 0h24v24H0V0z\" fill=\"none\"/>\n",
              "    <path d=\"M18.56 5.44l.94 2.06.94-2.06 2.06-.94-2.06-.94-.94-2.06-.94 2.06-2.06.94zm-11 1L8.5 8.5l.94-2.06 2.06-.94-2.06-.94L8.5 2.5l-.94 2.06-2.06.94zm10 10l.94 2.06.94-2.06 2.06-.94-2.06-.94-.94-2.06-.94 2.06-2.06.94z\"/><path d=\"M17.41 7.96l-1.37-1.37c-.4-.4-.92-.59-1.43-.59-.52 0-1.04.2-1.43.59L10.3 9.45l-7.72 7.72c-.78.78-.78 2.05 0 2.83L4 21.41c.39.39.9.59 1.41.59.51 0 1.02-.2 1.41-.59l7.78-7.78 2.81-2.81c.8-.78.8-2.07 0-2.86zM5.41 20L4 18.59l7.72-7.72 1.47 1.35L5.41 20z\"/>\n",
              "  </svg>\n",
              "      </button>\n",
              "      \n",
              "  <style>\n",
              "    .colab-df-container {\n",
              "      display:flex;\n",
              "      flex-wrap:wrap;\n",
              "      gap: 12px;\n",
              "    }\n",
              "\n",
              "    .colab-df-convert {\n",
              "      background-color: #E8F0FE;\n",
              "      border: none;\n",
              "      border-radius: 50%;\n",
              "      cursor: pointer;\n",
              "      display: none;\n",
              "      fill: #1967D2;\n",
              "      height: 32px;\n",
              "      padding: 0 0 0 0;\n",
              "      width: 32px;\n",
              "    }\n",
              "\n",
              "    .colab-df-convert:hover {\n",
              "      background-color: #E2EBFA;\n",
              "      box-shadow: 0px 1px 2px rgba(60, 64, 67, 0.3), 0px 1px 3px 1px rgba(60, 64, 67, 0.15);\n",
              "      fill: #174EA6;\n",
              "    }\n",
              "\n",
              "    [theme=dark] .colab-df-convert {\n",
              "      background-color: #3B4455;\n",
              "      fill: #D2E3FC;\n",
              "    }\n",
              "\n",
              "    [theme=dark] .colab-df-convert:hover {\n",
              "      background-color: #434B5C;\n",
              "      box-shadow: 0px 1px 3px 1px rgba(0, 0, 0, 0.15);\n",
              "      filter: drop-shadow(0px 1px 2px rgba(0, 0, 0, 0.3));\n",
              "      fill: #FFFFFF;\n",
              "    }\n",
              "  </style>\n",
              "\n",
              "      <script>\n",
              "        const buttonEl =\n",
              "          document.querySelector('#df-29b9dbfe-a14a-467a-ac2c-02e26bc38fe7 button.colab-df-convert');\n",
              "        buttonEl.style.display =\n",
              "          google.colab.kernel.accessAllowed ? 'block' : 'none';\n",
              "\n",
              "        async function convertToInteractive(key) {\n",
              "          const element = document.querySelector('#df-29b9dbfe-a14a-467a-ac2c-02e26bc38fe7');\n",
              "          const dataTable =\n",
              "            await google.colab.kernel.invokeFunction('convertToInteractive',\n",
              "                                                     [key], {});\n",
              "          if (!dataTable) return;\n",
              "\n",
              "          const docLinkHtml = 'Like what you see? Visit the ' +\n",
              "            '<a target=\"_blank\" href=https://colab.research.google.com/notebooks/data_table.ipynb>data table notebook</a>'\n",
              "            + ' to learn more about interactive tables.';\n",
              "          element.innerHTML = '';\n",
              "          dataTable['output_type'] = 'display_data';\n",
              "          await google.colab.output.renderOutput(dataTable, element);\n",
              "          const docLink = document.createElement('div');\n",
              "          docLink.innerHTML = docLinkHtml;\n",
              "          element.appendChild(docLink);\n",
              "        }\n",
              "      </script>\n",
              "    </div>\n",
              "  </div>\n",
              "  "
            ],
            "text/plain": [
              "                                Adresse  dep  ... internet_partout Classement\n",
              "0                Route du Château d'eau   78  ...                0          3\n",
              "1                  11 CHEMIN DU CAMPING   77  ...                0          3\n",
              "2                   26 Route de Vauvert   91  ...                1          4\n",
              "3                   chemin des ponceaux   77  ...                0          2\n",
              "4   24 Place de la gare de Faremoutiers   77  ...                1          4\n",
              "..                                  ...  ...  ...              ...        ...\n",
              "60            7 route de Mary prolongée   77  ...                0          3\n",
              "61            route des grandes vallées   91  ...                0          3\n",
              "62                    route de Chatenay   77  ...                0          1\n",
              "63            25 ter rue de ballancourt   91  ...                0          3\n",
              "64                    chemin des grèves   77  ...                0          2\n",
              "\n",
              "[63 rows x 15 columns]"
            ]
          },
          "metadata": {},
          "execution_count": 133
        }
      ]
    },
    {
      "cell_type": "markdown",
      "source": [
        "Ici la partie ACP, le code a été repris d'internet et il est assez décortiqué"
      ],
      "metadata": {
        "id": "9GN7EiAo4jZm"
      }
    },
    {
      "cell_type": "code",
      "source": [
        "X=camping_copy.iloc[:,6:14].values  #récupération des données numériques du dataset\n",
        "X=X[(np.abs(stats.zscore(X)) < 3).all(axis=1)] #puisque on travaille sur le dataset contenant les données abérrantes, on les enlève aussi de la même manière\n",
        "y=camping_copy.iloc[:,-1].values #on récupère la colonne du \"classement\" des sites de camping, afin de l'utiliser comme variable illustrative\n",
        "from sklearn.preprocessing import StandardScaler, QuantileTransformer,MaxAbsScaler #on a essayé plusieurs preprocess pour les données, le QantileTransformer nous semble le plus adéquat\n",
        "X_std = QuantileTransformer().fit_transform(X) #normalisation des données\n",
        "#calculs d'algèbre linéaire: matrice de covariance puis ses valeurs propres et vecteurs propres afin d'avoir la base orthogonale de l'analyse en composantes principales\n",
        "cov_mat= np.cov(X_std, rowvar=False)\n",
        "cov_mat = np.cov(X_std.T) \n",
        "eig_vals, eig_vecs = np.linalg.eig(cov_mat) \n",
        "print('Vecteurs Propres \\n%s' %eig_vecs) \n",
        "eig_pairs = [(np.abs(eig_vals[i]), eig_vecs[:,i]) for i in range(len(eig_vals))]\n",
        "var_exp = [(i / tot)*100 for i in sorted(eig_vals, reverse=True)]\n",
        "cum_var_exp = np.cumsum(var_exp) \n",
        "print(\"\\n. Percentage de l'information expliquée par les deux premières composantes\\n\",sum(var_exp[0:2]))\n",
        "matrix_w = np.hstack((eig_pairs[0][1].reshape(8,1), eig_pairs[1][1].reshape(8,1))) \n",
        "Y = X_std.dot(matrix_w) \n",
        "principalDf = pd.DataFrame(data = Y , columns = ['principal component 1', 'principal component 2']) #On récupère les deux premières composantes le l'analyse\n",
        "finalDf = pd.concat([principalDf,pd.DataFrame(y,columns = ['Classement'])], axis = 1) #on ajoute la variable illustrative"
      ],
      "metadata": {
        "id": "dCj1N6Mx4THh",
        "colab": {
          "base_uri": "https://localhost:8080/"
        },
        "outputId": "b6ff0eb7-5e90-481e-ddba-f63633bfe23b"
      },
      "execution_count": 149,
      "outputs": [
        {
          "output_type": "stream",
          "name": "stdout",
          "text": [
            "Vecteurs Propres \n",
            "[[ 2.97580833e-01  1.29740201e-01 -3.70869624e-01 -4.24798132e-02\n",
            "   5.27147381e-01  1.26041619e-02 -6.89801476e-01 -3.73498852e-02]\n",
            " [ 3.09418921e-01  1.25379445e-01 -3.73244985e-01 -8.15507286e-02\n",
            "   4.70898862e-01  3.02460852e-03  7.20066320e-01  4.82410046e-02]\n",
            " [ 6.80890451e-01 -9.15023798e-02  3.16948016e-01  2.26373046e-01\n",
            "  -1.31817433e-01  1.58702260e-02 -4.06188905e-02  5.97525827e-01]\n",
            " [ 3.01235979e-03 -2.78298704e-01  2.81240020e-01 -4.49910843e-01\n",
            "   2.10948962e-01  7.72349282e-01  7.05192038e-04  1.29061912e-03]\n",
            " [-1.62651775e-02 -1.06390261e-01  5.04826250e-01 -4.86428904e-01\n",
            "   3.62430064e-01 -6.04463425e-01 -3.35168497e-03  1.45298933e-02]\n",
            " [ 2.95010481e-02  9.29677674e-01  2.88695955e-01 -1.48957574e-01\n",
            "  -6.12296901e-02  1.59712762e-01 -2.01697782e-03 -5.83847242e-03]\n",
            " [ 5.19746930e-01 -7.63799431e-02  2.30528716e-01  1.42605783e-01\n",
            "  -9.95733467e-02 -1.93049805e-03  4.42705839e-02 -7.99168863e-01]\n",
            " [ 2.84276204e-01 -1.30866337e-02 -3.90196776e-01 -6.77305377e-01\n",
            "  -5.41733443e-01 -1.10312208e-01 -4.53082906e-02  1.79703697e-02]]\n",
            "\n",
            ". Percentage de l'information expliquée par les deux premières composantes\n",
            " 69.0104615863774\n"
          ]
        },
        {
          "output_type": "stream",
          "name": "stderr",
          "text": [
            "/usr/local/lib/python3.7/dist-packages/sklearn/preprocessing/_data.py:2593: UserWarning: n_quantiles (1000) is greater than the total number of samples (63). n_quantiles is set to n_samples.\n",
            "  \"n_samples.\" % (self.n_quantiles, n_samples)\n"
          ]
        }
      ]
    },
    {
      "cell_type": "code",
      "source": [
        "d = {'Emplacements': [2.97580833e-01, 3.09418921e-01], 'Surface': [1.29740201e-01, 1.25379445e-01],'permanence_24h': [-3.70869624e-01, -3.73244985e-01], 'distance_police': [-4.24798132e-02, -8.15507286e-02],'distance_hopitaux': [5.27147381e-01, 4.70898862e-01], 'defib_moins_2km': [1.26041619e-02, 3.02460852e-03], 'langues_accueil':[-6.89801476e-01,7.20066320e-01], 'internet_partout':[-3.73498852e-02,4.82410046e-02]}\n",
        "explained_variables = pd.DataFrame(data=d)"
      ],
      "metadata": {
        "id": "xNeVQxIPHF6D"
      },
      "execution_count": 171,
      "outputs": []
    },
    {
      "cell_type": "code",
      "source": [
        "explained_variables"
      ],
      "metadata": {
        "colab": {
          "base_uri": "https://localhost:8080/",
          "height": 111
        },
        "id": "BaKQjGPBIxb2",
        "outputId": "c76118e0-fac7-48b0-d837-e55789084727"
      },
      "execution_count": 172,
      "outputs": [
        {
          "output_type": "execute_result",
          "data": {
            "text/html": [
              "\n",
              "  <div id=\"df-9b5e66b0-ffba-4b19-9ab8-2cf5707cb52a\">\n",
              "    <div class=\"colab-df-container\">\n",
              "      <div>\n",
              "<style scoped>\n",
              "    .dataframe tbody tr th:only-of-type {\n",
              "        vertical-align: middle;\n",
              "    }\n",
              "\n",
              "    .dataframe tbody tr th {\n",
              "        vertical-align: top;\n",
              "    }\n",
              "\n",
              "    .dataframe thead th {\n",
              "        text-align: right;\n",
              "    }\n",
              "</style>\n",
              "<table border=\"1\" class=\"dataframe\">\n",
              "  <thead>\n",
              "    <tr style=\"text-align: right;\">\n",
              "      <th></th>\n",
              "      <th>Emplacements</th>\n",
              "      <th>Surface</th>\n",
              "      <th>permanence_24h</th>\n",
              "      <th>distance_police</th>\n",
              "      <th>distance_hopitaux</th>\n",
              "      <th>defib_moins_2km</th>\n",
              "      <th>langues_accueil</th>\n",
              "      <th>internet_partout</th>\n",
              "    </tr>\n",
              "  </thead>\n",
              "  <tbody>\n",
              "    <tr>\n",
              "      <th>0</th>\n",
              "      <td>0.297581</td>\n",
              "      <td>0.129740</td>\n",
              "      <td>-0.370870</td>\n",
              "      <td>-0.042480</td>\n",
              "      <td>0.527147</td>\n",
              "      <td>0.012604</td>\n",
              "      <td>-0.689801</td>\n",
              "      <td>-0.037350</td>\n",
              "    </tr>\n",
              "    <tr>\n",
              "      <th>1</th>\n",
              "      <td>0.309419</td>\n",
              "      <td>0.125379</td>\n",
              "      <td>-0.373245</td>\n",
              "      <td>-0.081551</td>\n",
              "      <td>0.470899</td>\n",
              "      <td>0.003025</td>\n",
              "      <td>0.720066</td>\n",
              "      <td>0.048241</td>\n",
              "    </tr>\n",
              "  </tbody>\n",
              "</table>\n",
              "</div>\n",
              "      <button class=\"colab-df-convert\" onclick=\"convertToInteractive('df-9b5e66b0-ffba-4b19-9ab8-2cf5707cb52a')\"\n",
              "              title=\"Convert this dataframe to an interactive table.\"\n",
              "              style=\"display:none;\">\n",
              "        \n",
              "  <svg xmlns=\"http://www.w3.org/2000/svg\" height=\"24px\"viewBox=\"0 0 24 24\"\n",
              "       width=\"24px\">\n",
              "    <path d=\"M0 0h24v24H0V0z\" fill=\"none\"/>\n",
              "    <path d=\"M18.56 5.44l.94 2.06.94-2.06 2.06-.94-2.06-.94-.94-2.06-.94 2.06-2.06.94zm-11 1L8.5 8.5l.94-2.06 2.06-.94-2.06-.94L8.5 2.5l-.94 2.06-2.06.94zm10 10l.94 2.06.94-2.06 2.06-.94-2.06-.94-.94-2.06-.94 2.06-2.06.94z\"/><path d=\"M17.41 7.96l-1.37-1.37c-.4-.4-.92-.59-1.43-.59-.52 0-1.04.2-1.43.59L10.3 9.45l-7.72 7.72c-.78.78-.78 2.05 0 2.83L4 21.41c.39.39.9.59 1.41.59.51 0 1.02-.2 1.41-.59l7.78-7.78 2.81-2.81c.8-.78.8-2.07 0-2.86zM5.41 20L4 18.59l7.72-7.72 1.47 1.35L5.41 20z\"/>\n",
              "  </svg>\n",
              "      </button>\n",
              "      \n",
              "  <style>\n",
              "    .colab-df-container {\n",
              "      display:flex;\n",
              "      flex-wrap:wrap;\n",
              "      gap: 12px;\n",
              "    }\n",
              "\n",
              "    .colab-df-convert {\n",
              "      background-color: #E8F0FE;\n",
              "      border: none;\n",
              "      border-radius: 50%;\n",
              "      cursor: pointer;\n",
              "      display: none;\n",
              "      fill: #1967D2;\n",
              "      height: 32px;\n",
              "      padding: 0 0 0 0;\n",
              "      width: 32px;\n",
              "    }\n",
              "\n",
              "    .colab-df-convert:hover {\n",
              "      background-color: #E2EBFA;\n",
              "      box-shadow: 0px 1px 2px rgba(60, 64, 67, 0.3), 0px 1px 3px 1px rgba(60, 64, 67, 0.15);\n",
              "      fill: #174EA6;\n",
              "    }\n",
              "\n",
              "    [theme=dark] .colab-df-convert {\n",
              "      background-color: #3B4455;\n",
              "      fill: #D2E3FC;\n",
              "    }\n",
              "\n",
              "    [theme=dark] .colab-df-convert:hover {\n",
              "      background-color: #434B5C;\n",
              "      box-shadow: 0px 1px 3px 1px rgba(0, 0, 0, 0.15);\n",
              "      filter: drop-shadow(0px 1px 2px rgba(0, 0, 0, 0.3));\n",
              "      fill: #FFFFFF;\n",
              "    }\n",
              "  </style>\n",
              "\n",
              "      <script>\n",
              "        const buttonEl =\n",
              "          document.querySelector('#df-9b5e66b0-ffba-4b19-9ab8-2cf5707cb52a button.colab-df-convert');\n",
              "        buttonEl.style.display =\n",
              "          google.colab.kernel.accessAllowed ? 'block' : 'none';\n",
              "\n",
              "        async function convertToInteractive(key) {\n",
              "          const element = document.querySelector('#df-9b5e66b0-ffba-4b19-9ab8-2cf5707cb52a');\n",
              "          const dataTable =\n",
              "            await google.colab.kernel.invokeFunction('convertToInteractive',\n",
              "                                                     [key], {});\n",
              "          if (!dataTable) return;\n",
              "\n",
              "          const docLinkHtml = 'Like what you see? Visit the ' +\n",
              "            '<a target=\"_blank\" href=https://colab.research.google.com/notebooks/data_table.ipynb>data table notebook</a>'\n",
              "            + ' to learn more about interactive tables.';\n",
              "          element.innerHTML = '';\n",
              "          dataTable['output_type'] = 'display_data';\n",
              "          await google.colab.output.renderOutput(dataTable, element);\n",
              "          const docLink = document.createElement('div');\n",
              "          docLink.innerHTML = docLinkHtml;\n",
              "          element.appendChild(docLink);\n",
              "        }\n",
              "      </script>\n",
              "    </div>\n",
              "  </div>\n",
              "  "
            ],
            "text/plain": [
              "   Emplacements   Surface  ...  langues_accueil  internet_partout\n",
              "0      0.297581  0.129740  ...        -0.689801         -0.037350\n",
              "1      0.309419  0.125379  ...         0.720066          0.048241\n",
              "\n",
              "[2 rows x 8 columns]"
            ]
          },
          "metadata": {},
          "execution_count": 172
        }
      ]
    },
    {
      "cell_type": "code",
      "source": [
        "fig = plt.figure(figsize = (8,5)) \n",
        "ax = fig.add_subplot(1,1,1) \n",
        "ax.set_xlabel('Principal Component 1', fontsize = 15) \n",
        "ax.set_ylabel('Principal Component 2', fontsize = 15) \n",
        "ax.set_title('2 Component PCA', fontsize = 20) \n",
        "targets = [1, 2,3,4]#,3,4]\n",
        "colors = ['r', 'g', 'b', 'y'] \n",
        "for target, color in zip(targets,colors): \n",
        "    indicesToKeep = finalDf['Classement'] == target\n",
        "    ax.scatter(finalDf.loc[indicesToKeep, 'principal component 1'] , finalDf.loc[indicesToKeep, 'principal component 2'] , c = color , s = 50) \n",
        "    ax.legend(targets) \n",
        "    ax.grid()"
      ],
      "metadata": {
        "colab": {
          "base_uri": "https://localhost:8080/",
          "height": 360
        },
        "id": "5JWNmRmB6Vpq",
        "outputId": "610452df-9efa-42ce-c0e3-815cfddbf85d"
      },
      "execution_count": 135,
      "outputs": [
        {
          "output_type": "display_data",
          "data": {
            "image/png": "[encoded data removed]",
            "text/plain": [
              "<Figure size 576x360 with 1 Axes>"
            ]
          },
          "metadata": {
            "needs_background": "light"
          }
        }
      ]
    },
    {
      "cell_type": "markdown",
      "source": [
        "**Explication des sorties:**\n",
        "\n",
        "L'analyse en composantes principales permet d'identifier les variables qui contiennent la majorité de l'information sur le jeu de données. Dans notre cas, on observe que les deux premiers vecteurs propres générés par cette méthode expriment approximativement 70% de l'information présente dans le jeu de données, c'est à dire qu'on pourra négliger tous les autres vecteurs sans perdre trop d'informations.\n",
        "\n",
        "Pour l'identification de l'impact des variables sur les composantes principales, on remarque que la distance aux hopitaux et la surface et nombre d'emplacements augmentent en diagonale, c'est à dire que le cluster du nord-est représente les sites de camping les plus grands et les plus isolés des hopitaux, parcontre, le cluster du sud-ouest représente ceux qui sont plus petits mais plus proches des hopitaux\n",
        "\n",
        "Pour la composante principale 2, on remarque qu'elle est positivement corrélée avec le nombre de langues parlés à l'acceuil et un peu moin avec la présence d'internet sur l'ensemble du site, on pourra dire qu'elle caractérise la \"quality of life\" d'un site de camping, les clusters du nord sont plus \"luxe\" que ceux au sud\n",
        "\n",
        "Pour simplifier, on pourra dire que l'axe de la composante principale 1 caractérise la taille des sites et leur isolation de la civilisation, tout en remarquant que cette isolation s'exprime par leur distance aux hopitaux et non aux postes de police car il existe des postes de gendarmeries assez isolés aussi\n",
        "\n",
        "Et concernant l'axe de la composante principale 2, il caractérise la \"qualité\" d'un site de camping notemment vis-à-vis son acceuil\n",
        "\n",
        "On pourra conclure donc, concernant la sécurité des sites de camping, que la variable principale (au sens de la sécurité des sites) qui les différencie est celle de la distance par rapport aux hopitaux, cette distance semble être plus grande pour les sites les plus larges et les plus luxurieux. On pourra donc dire qu'il est possible d'être plus en sécurité dans un site de camping concidéré comme \"bas de gamme\""
      ],
      "metadata": {
        "id": "N-hTg4xVBBtr"
      }
    },
    {
      "cell_type": "markdown",
      "source": [
        "Cette partie du code exécute le clustering par kmeans:\n"
      ],
      "metadata": {
        "id": "jPVK58xsSB7J"
      }
    },
    {
      "cell_type": "code",
      "source": [
        "xvars = ['principal component 1', 'principal component 2'] # récupération des données de l'ACP\n",
        "df2 = finalDf[xvars].dropna()"
      ],
      "metadata": {
        "id": "oLM-0A77B5zd"
      },
      "execution_count": 136,
      "outputs": []
    },
    {
      "cell_type": "code",
      "source": [
        "df2"
      ],
      "metadata": {
        "colab": {
          "base_uri": "https://localhost:8080/",
          "height": 419
        },
        "id": "uadDDd7fbuFY",
        "outputId": "f8fbe9d5-96b2-449e-e4b8-0f565fe38f7c"
      },
      "execution_count": 137,
      "outputs": [
        {
          "output_type": "execute_result",
          "data": {
            "text/html": [
              "\n",
              "  <div id=\"df-2a263ad9-238b-4b22-8122-08295f5d7b83\">\n",
              "    <div class=\"colab-df-container\">\n",
              "      <div>\n",
              "<style scoped>\n",
              "    .dataframe tbody tr th:only-of-type {\n",
              "        vertical-align: middle;\n",
              "    }\n",
              "\n",
              "    .dataframe tbody tr th {\n",
              "        vertical-align: top;\n",
              "    }\n",
              "\n",
              "    .dataframe thead th {\n",
              "        text-align: right;\n",
              "    }\n",
              "</style>\n",
              "<table border=\"1\" class=\"dataframe\">\n",
              "  <thead>\n",
              "    <tr style=\"text-align: right;\">\n",
              "      <th></th>\n",
              "      <th>principal component 1</th>\n",
              "      <th>principal component 2</th>\n",
              "    </tr>\n",
              "  </thead>\n",
              "  <tbody>\n",
              "    <tr>\n",
              "      <th>0</th>\n",
              "      <td>1.479834</td>\n",
              "      <td>-0.071148</td>\n",
              "    </tr>\n",
              "    <tr>\n",
              "      <th>1</th>\n",
              "      <td>1.697848</td>\n",
              "      <td>0.866064</td>\n",
              "    </tr>\n",
              "    <tr>\n",
              "      <th>2</th>\n",
              "      <td>1.904800</td>\n",
              "      <td>0.844954</td>\n",
              "    </tr>\n",
              "    <tr>\n",
              "      <th>3</th>\n",
              "      <td>0.284296</td>\n",
              "      <td>-0.235469</td>\n",
              "    </tr>\n",
              "    <tr>\n",
              "      <th>4</th>\n",
              "      <td>1.952148</td>\n",
              "      <td>0.758448</td>\n",
              "    </tr>\n",
              "    <tr>\n",
              "      <th>...</th>\n",
              "      <td>...</td>\n",
              "      <td>...</td>\n",
              "    </tr>\n",
              "    <tr>\n",
              "      <th>58</th>\n",
              "      <td>1.101671</td>\n",
              "      <td>-0.387776</td>\n",
              "    </tr>\n",
              "    <tr>\n",
              "      <th>59</th>\n",
              "      <td>1.570609</td>\n",
              "      <td>0.753342</td>\n",
              "    </tr>\n",
              "    <tr>\n",
              "      <th>60</th>\n",
              "      <td>0.105875</td>\n",
              "      <td>-0.188854</td>\n",
              "    </tr>\n",
              "    <tr>\n",
              "      <th>61</th>\n",
              "      <td>1.509056</td>\n",
              "      <td>-0.278318</td>\n",
              "    </tr>\n",
              "    <tr>\n",
              "      <th>62</th>\n",
              "      <td>0.365413</td>\n",
              "      <td>1.026526</td>\n",
              "    </tr>\n",
              "  </tbody>\n",
              "</table>\n",
              "<p>63 rows × 2 columns</p>\n",
              "</div>\n",
              "      <button class=\"colab-df-convert\" onclick=\"convertToInteractive('df-2a263ad9-238b-4b22-8122-08295f5d7b83')\"\n",
              "              title=\"Convert this dataframe to an interactive table.\"\n",
              "              style=\"display:none;\">\n",
              "        \n",
              "  <svg xmlns=\"http://www.w3.org/2000/svg\" height=\"24px\"viewBox=\"0 0 24 24\"\n",
              "       width=\"24px\">\n",
              "    <path d=\"M0 0h24v24H0V0z\" fill=\"none\"/>\n",
              "    <path d=\"M18.56 5.44l.94 2.06.94-2.06 2.06-.94-2.06-.94-.94-2.06-.94 2.06-2.06.94zm-11 1L8.5 8.5l.94-2.06 2.06-.94-2.06-.94L8.5 2.5l-.94 2.06-2.06.94zm10 10l.94 2.06.94-2.06 2.06-.94-2.06-.94-.94-2.06-.94 2.06-2.06.94z\"/><path d=\"M17.41 7.96l-1.37-1.37c-.4-.4-.92-.59-1.43-.59-.52 0-1.04.2-1.43.59L10.3 9.45l-7.72 7.72c-.78.78-.78 2.05 0 2.83L4 21.41c.39.39.9.59 1.41.59.51 0 1.02-.2 1.41-.59l7.78-7.78 2.81-2.81c.8-.78.8-2.07 0-2.86zM5.41 20L4 18.59l7.72-7.72 1.47 1.35L5.41 20z\"/>\n",
              "  </svg>\n",
              "      </button>\n",
              "      \n",
              "  <style>\n",
              "    .colab-df-container {\n",
              "      display:flex;\n",
              "      flex-wrap:wrap;\n",
              "      gap: 12px;\n",
              "    }\n",
              "\n",
              "    .colab-df-convert {\n",
              "      background-color: #E8F0FE;\n",
              "      border: none;\n",
              "      border-radius: 50%;\n",
              "      cursor: pointer;\n",
              "      display: none;\n",
              "      fill: #1967D2;\n",
              "      height: 32px;\n",
              "      padding: 0 0 0 0;\n",
              "      width: 32px;\n",
              "    }\n",
              "\n",
              "    .colab-df-convert:hover {\n",
              "      background-color: #E2EBFA;\n",
              "      box-shadow: 0px 1px 2px rgba(60, 64, 67, 0.3), 0px 1px 3px 1px rgba(60, 64, 67, 0.15);\n",
              "      fill: #174EA6;\n",
              "    }\n",
              "\n",
              "    [theme=dark] .colab-df-convert {\n",
              "      background-color: #3B4455;\n",
              "      fill: #D2E3FC;\n",
              "    }\n",
              "\n",
              "    [theme=dark] .colab-df-convert:hover {\n",
              "      background-color: #434B5C;\n",
              "      box-shadow: 0px 1px 3px 1px rgba(0, 0, 0, 0.15);\n",
              "      filter: drop-shadow(0px 1px 2px rgba(0, 0, 0, 0.3));\n",
              "      fill: #FFFFFF;\n",
              "    }\n",
              "  </style>\n",
              "\n",
              "      <script>\n",
              "        const buttonEl =\n",
              "          document.querySelector('#df-2a263ad9-238b-4b22-8122-08295f5d7b83 button.colab-df-convert');\n",
              "        buttonEl.style.display =\n",
              "          google.colab.kernel.accessAllowed ? 'block' : 'none';\n",
              "\n",
              "        async function convertToInteractive(key) {\n",
              "          const element = document.querySelector('#df-2a263ad9-238b-4b22-8122-08295f5d7b83');\n",
              "          const dataTable =\n",
              "            await google.colab.kernel.invokeFunction('convertToInteractive',\n",
              "                                                     [key], {});\n",
              "          if (!dataTable) return;\n",
              "\n",
              "          const docLinkHtml = 'Like what you see? Visit the ' +\n",
              "            '<a target=\"_blank\" href=https://colab.research.google.com/notebooks/data_table.ipynb>data table notebook</a>'\n",
              "            + ' to learn more about interactive tables.';\n",
              "          element.innerHTML = '';\n",
              "          dataTable['output_type'] = 'display_data';\n",
              "          await google.colab.output.renderOutput(dataTable, element);\n",
              "          const docLink = document.createElement('div');\n",
              "          docLink.innerHTML = docLinkHtml;\n",
              "          element.appendChild(docLink);\n",
              "        }\n",
              "      </script>\n",
              "    </div>\n",
              "  </div>\n",
              "  "
            ],
            "text/plain": [
              "    principal component 1  principal component 2\n",
              "0                1.479834              -0.071148\n",
              "1                1.697848               0.866064\n",
              "2                1.904800               0.844954\n",
              "3                0.284296              -0.235469\n",
              "4                1.952148               0.758448\n",
              "..                    ...                    ...\n",
              "58               1.101671              -0.387776\n",
              "59               1.570609               0.753342\n",
              "60               0.105875              -0.188854\n",
              "61               1.509056              -0.278318\n",
              "62               0.365413               1.026526\n",
              "\n",
              "[63 rows x 2 columns]"
            ]
          },
          "metadata": {},
          "execution_count": 137
        }
      ]
    },
    {
      "cell_type": "code",
      "source": [
        "df2_copy=camping_copy_clean"
      ],
      "metadata": {
        "id": "IS18xq6NCsJ6"
      },
      "execution_count": 138,
      "outputs": []
    },
    {
      "cell_type": "markdown",
      "source": [
        "Exécution de la méthode du coude pour identifier le nombre optimal de clusters:"
      ],
      "metadata": {
        "id": "NG3oVsZ8SRdc"
      }
    },
    {
      "cell_type": "code",
      "source": [
        "distortions = []\n",
        "K = range(1,10)\n",
        "for k in K:\n",
        "  model = KMeans(n_clusters=k)\n",
        "  model.fit(df2[xvars])\n",
        "  distortions.append(model.inertia_)"
      ],
      "metadata": {
        "id": "l5BLVUTDsfuW"
      },
      "execution_count": 139,
      "outputs": []
    },
    {
      "cell_type": "code",
      "source": [
        "plt.figure(figsize=(16,8))\n",
        "plt.plot(K, distortions, 'bx-')\n",
        "plt.xlabel('nombre de clusters')\n",
        "plt.ylabel('Distortion')\n",
        "plt.title('La méthode du coude pour trouver le nombre de clusters optimal')\n",
        "plt.show()"
      ],
      "metadata": {
        "colab": {
          "base_uri": "https://localhost:8080/",
          "height": 513
        },
        "id": "gFan9V_qsnin",
        "outputId": "aa69d9ba-0a04-4ae8-e15e-fb3b3b7650c1"
      },
      "execution_count": 140,
      "outputs": [
        {
          "output_type": "display_data",
          "data": {
            "image/png": "[encoded data removed]",
            "text/plain": [
              "<Figure size 1152x576 with 1 Axes>"
            ]
          },
          "metadata": {
            "needs_background": "light"
          }
        }
      ]
    },
    {
      "cell_type": "markdown",
      "source": [
        "On identifie bien 4 clusters, cela est consistant avec l'observation qu'on a fait avec le résultat de l'ACP"
      ],
      "metadata": {
        "id": "fV7CiTdBzs_G"
      }
    },
    {
      "cell_type": "code",
      "source": [
        "model = KMeans(n_clusters=4) #exécution de l'algorithme de kmeans\n",
        "model.fit(df2[xvars])"
      ],
      "metadata": {
        "colab": {
          "base_uri": "https://localhost:8080/"
        },
        "id": "QC32qIXSCQ91",
        "outputId": "bab8288b-e1a6-4c60-a578-a9b0e97518a1"
      },
      "execution_count": 141,
      "outputs": [
        {
          "output_type": "execute_result",
          "data": {
            "text/plain": [
              "KMeans(n_clusters=4)"
            ]
          },
          "metadata": {},
          "execution_count": 141
        }
      ]
    },
    {
      "cell_type": "code",
      "source": [
        "df2_copy['label'] = model.labels_ #sauvegarde des indices de clusters trouvés"
      ],
      "metadata": {
        "id": "gtg9KQTWCTdp"
      },
      "execution_count": 173,
      "outputs": []
    },
    {
      "cell_type": "code",
      "source": [
        "from geopandas import GeoDataFrame\n",
        "\n",
        "df2_copy = GeoDataFrame(df2_copy)"
      ],
      "metadata": {
        "id": "QzO6g1LVDIWT"
      },
      "execution_count": 143,
      "outputs": []
    },
    {
      "cell_type": "code",
      "source": [
        "finalDf=finalDf.dropna()"
      ],
      "metadata": {
        "id": "_PErhUla2MpJ"
      },
      "execution_count": 144,
      "outputs": []
    },
    {
      "cell_type": "markdown",
      "source": [
        "Affichage final des clusters:"
      ],
      "metadata": {
        "id": "XLs_38yETJ3T"
      }
    },
    {
      "cell_type": "code",
      "source": [
        "finalDF_copy=finalDf.dropna()\n",
        "finalDF_copy['label'] = model.labels_\n",
        "fig = plt.figure(figsize = (8,5)) \n",
        "ax = fig.add_subplot(1,1,1) \n",
        "ax.set_xlabel('Principal Component 1', fontsize = 15) \n",
        "ax.set_ylabel('Principal Component 2', fontsize = 15) \n",
        "ax.set_title('2 Component PCA', fontsize = 20) \n",
        "targets = [0,1,2,3]#,4]#,3,4]\n",
        "colors = ['r', 'g', 'b', 'y'] \n",
        "for target, color in zip(targets,colors): \n",
        "    indicesToKeep = finalDF_copy['label'] == target\n",
        "    ax.scatter(finalDF_copy.loc[indicesToKeep, 'principal component 1'] , finalDF_copy.loc[indicesToKeep, 'principal component 2'] , c = color , s = 50) \n",
        "    ax.legend(targets) \n",
        "    ax.grid()"
      ],
      "metadata": {
        "colab": {
          "base_uri": "https://localhost:8080/",
          "height": 462
        },
        "id": "zriVHcaJE-fU",
        "outputId": "4b57ee3f-91b8-4002-8d41-519dbb30d547"
      },
      "execution_count": 155,
      "outputs": [
        {
          "output_type": "stream",
          "name": "stderr",
          "text": [
            "/usr/local/lib/python3.7/dist-packages/ipykernel_launcher.py:2: SettingWithCopyWarning: \n",
            "A value is trying to be set on a copy of a slice from a DataFrame.\n",
            "Try using .loc[row_indexer,col_indexer] = value instead\n",
            "\n",
            "See the caveats in the documentation: https://pandas.pydata.org/pandas-docs/stable/user_guide/indexing.html#returning-a-view-versus-a-copy\n",
            "  \n"
          ]
        },
        {
          "output_type": "display_data",
          "data": {
            "image/png": "[encoded data removed]",
            "text/plain": [
              "<Figure size 576x360 with 1 Axes>"
            ]
          },
          "metadata": {
            "needs_background": "light"
          }
        }
      ]
    },
    {
      "cell_type": "code",
      "source": [
        "camping_copy_clean.to_csv(\"camping_labelled.csv\") #sauvegarde en .csv pour la visualisation"
      ],
      "metadata": {
        "id": "yOJYF2BWZyG-"
      },
      "execution_count": 179,
      "outputs": []
    }
  ]
}